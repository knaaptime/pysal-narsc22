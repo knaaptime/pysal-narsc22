{
 "cells": [
  {
   "cell_type": "markdown",
   "id": "0180dcb0-5a7a-4487-87bf-dd7670a61c04",
   "metadata": {
    "execution": {
     "iopub.execute_input": "2022-06-20T21:48:29.726784Z",
     "iopub.status.busy": "2022-06-20T21:48:29.726555Z",
     "iopub.status.idle": "2022-06-20T21:48:29.732860Z",
     "shell.execute_reply": "2022-06-20T21:48:29.732371Z",
     "shell.execute_reply.started": "2022-06-20T21:48:29.726758Z"
    }
   },
   "source": [
    "# Exploring Spatiotemporal Segregation Dynamics"
   ]
  },
  {
   "cell_type": "code",
   "execution_count": null,
   "id": "61b370e9-c46d-4a1f-a3af-689c6c7748db",
   "metadata": {
    "tags": []
   },
   "outputs": [],
   "source": [
    "%load_ext watermark\n",
    "%watermark -v -a \"author: eli knaap\" -d -u -p segregation,libpysal,geopandas,geosnap"
   ]
  },
  {
   "cell_type": "code",
   "execution_count": null,
   "id": "f7687ed2-e789-4bee-90f7-6450b3be25bd",
   "metadata": {
    "tags": []
   },
   "outputs": [],
   "source": [
    "import pandas as pd\n",
    "import geopandas as gpd\n",
    "import matplotlib.pyplot as plt\n",
    "import hvplot.pandas\n",
    "\n",
    "from segregation import singlegroup, multigroup, dynamics, batch\n",
    "from geosnap import datasets, Community\n",
    "from geosnap.analyze import segdyn"
   ]
  },
  {
   "cell_type": "code",
   "execution_count": null,
   "id": "15bb79cb-fc7e-4e9c-8168-087f3cfdded7",
   "metadata": {
    "tags": []
   },
   "outputs": [],
   "source": [
    "from geosnap.visualize import plot_timeseries"
   ]
  },
  {
   "cell_type": "code",
   "execution_count": null,
   "id": "852ba0e3-c635-4e26-b650-2b1ec098a36b",
   "metadata": {
    "tags": []
   },
   "outputs": [],
   "source": [
    "dc = gpd.read_parquet(\"data/dc_income.parquet\")"
   ]
  },
  {
   "cell_type": "code",
   "execution_count": null,
   "id": "7d623b69-a3bb-4292-99db-d47c0529532a",
   "metadata": {
    "tags": []
   },
   "outputs": [],
   "source": [
    "dc.head()"
   ]
  },
  {
   "cell_type": "code",
   "execution_count": null,
   "id": "a251eaee-6e73-4562-9519-0e256256256b",
   "metadata": {
    "tags": []
   },
   "outputs": [],
   "source": [
    "from IPython.display import IFrame"
   ]
  },
  {
   "cell_type": "markdown",
   "id": "55935ffc-0e90-409e-bc6b-0c041e618ad7",
   "metadata": {},
   "source": [
    "## Income Segregation over Time"
   ]
  },
  {
   "cell_type": "code",
   "execution_count": null,
   "id": "feedc43e-693a-4271-8a21-a3b8de543b17",
   "metadata": {
    "tags": []
   },
   "outputs": [],
   "source": [
    "plot_timeseries(dc, 'share_very_high_inc', nrows=2, ncols=4, figsize=(18,10), cmap='Blues', alpha=0.8)"
   ]
  },
  {
   "cell_type": "markdown",
   "id": "c0aca7c3-d0ac-45c1-88c5-b2521c02a239",
   "metadata": {},
   "source": [
    "### Temporal Dynamics"
   ]
  },
  {
   "cell_type": "markdown",
   "id": "27f82068-8603-4267-9d7d-c1965ac28ecc",
   "metadata": {},
   "source": [
    "#### Multi-Group Indices"
   ]
  },
  {
   "cell_type": "code",
   "execution_count": null,
   "id": "ddf3e63f-fe7b-45e8-92cb-c2bd9eb65ea9",
   "metadata": {
    "tags": []
   },
   "outputs": [],
   "source": [
    "cols = ['very_low_inc', 'low_inc', 'med_inc', 'high_inc', 'very_high_inc']"
   ]
  },
  {
   "cell_type": "code",
   "execution_count": null,
   "id": "809015cb-01da-48f2-864b-18fc9538e889",
   "metadata": {
    "tags": []
   },
   "outputs": [],
   "source": [
    "multi_by_time = segdyn.multigroup_tempdyn(dc, cols)"
   ]
  },
  {
   "cell_type": "code",
   "execution_count": null,
   "id": "6c50c5f0-9198-409a-98df-dfb2f00e139f",
   "metadata": {
    "tags": []
   },
   "outputs": [],
   "source": [
    "multi_by_time"
   ]
  },
  {
   "cell_type": "code",
   "execution_count": null,
   "id": "dc4a1a7d-c356-471a-9fb7-0add2282204b",
   "metadata": {
    "tags": []
   },
   "outputs": [],
   "source": [
    "multi_by_time.T.plot()"
   ]
  },
  {
   "cell_type": "code",
   "execution_count": null,
   "id": "b62a9fa9-17ba-4dfd-a067-4feedee9b1dd",
   "metadata": {
    "tags": []
   },
   "outputs": [],
   "source": [
    "# removing the GlobalDistortion coef lets us see what's happening with the rest of the indices\n",
    "multi_by_time.iloc[1:].T.plot()"
   ]
  },
  {
   "cell_type": "markdown",
   "id": "1dae7e05-adb1-4fcc-a779-6993bea9871d",
   "metadata": {},
   "source": [
    "Most indices are decreasing slightly over time"
   ]
  },
  {
   "cell_type": "code",
   "execution_count": null,
   "id": "fa082eee-364d-42c1-826d-d5217710519f",
   "metadata": {
    "tags": []
   },
   "outputs": [],
   "source": [
    "fig, axs = plt.subplots(1,2, figsize=(10,4))\n",
    "\n",
    "multi_by_time.loc['MultiDissim'].plot(ax=axs[0])\n",
    "multi_by_time.loc['MultiDissim'].plot(kind='bar', ax=axs[1])\n",
    "\n",
    "fig.suptitle(\"Multigroup Dissimilarity\")"
   ]
  },
  {
   "cell_type": "markdown",
   "id": "cd10183e-63a2-4128-b61e-e89ff1767787",
   "metadata": {},
   "source": [
    "One that **isn't**, is SimpsonsConcentration, which is increasing over time. Another index that bucks the trend is SimpsonsInteraction, which is decreasing over time (corresponding with an increse in segregation). The divergence between indices tells us that segregation may be changing in different ways across its different dimensions."
   ]
  },
  {
   "cell_type": "code",
   "execution_count": null,
   "id": "ea1d4ce5-7c20-4e82-881c-3f68f2bb9b4c",
   "metadata": {
    "tags": []
   },
   "outputs": [],
   "source": [
    "fig, axs = plt.subplots(1,2, figsize=(10,4))\n",
    "\n",
    "multi_by_time.loc['SimpsonsConcentration'].plot(ax=axs[0])\n",
    "multi_by_time.loc['SimpsonsConcentration'].plot(kind='bar', ax=axs[1])\n",
    "\n",
    "fig.suptitle(\"Simpson's Concentration\")"
   ]
  },
  {
   "cell_type": "markdown",
   "id": "8f9d2415-da91-4617-bf1e-40a16a9da641",
   "metadata": {},
   "source": [
    "#### Single-Group Indices"
   ]
  },
  {
   "cell_type": "code",
   "execution_count": null,
   "id": "525a6638-b723-4aac-bb96-e99156ef1b50",
   "metadata": {
    "tags": []
   },
   "outputs": [],
   "source": [
    "from geosnap.analyze.segdyn import singlegroup_tempdyn"
   ]
  },
  {
   "cell_type": "code",
   "execution_count": null,
   "id": "6cdef2ac-d507-4b89-b5ac-9414fcad5ad5",
   "metadata": {
    "tags": []
   },
   "outputs": [],
   "source": [
    "singlegroup_tempdyn?"
   ]
  },
  {
   "cell_type": "code",
   "execution_count": null,
   "id": "b10790a1-5e9b-4f21-8960-c0098f78a475",
   "metadata": {
    "tags": []
   },
   "outputs": [],
   "source": [
    "segs_single = segdyn.singlegroup_tempdyn(dc, group_pop_var='very_high_inc', total_pop_var='total', )"
   ]
  },
  {
   "cell_type": "code",
   "execution_count": null,
   "id": "a4324253-095b-49c5-b7ee-233b3b8f2f04",
   "metadata": {
    "tags": []
   },
   "outputs": [],
   "source": [
    "segs_single"
   ]
  },
  {
   "cell_type": "code",
   "execution_count": null,
   "id": "0d9a6907-dcf8-4405-be5f-0eae70db40c7",
   "metadata": {
    "tags": []
   },
   "outputs": [],
   "source": [
    "segs_single.T.hvplot(height=600)"
   ]
  },
  {
   "cell_type": "markdown",
   "id": "d6bb0d80-0517-4cd7-8129-966fdbc24e52",
   "metadata": {},
   "source": [
    "<https://www.jstor.org/stable/2579183>"
   ]
  },
  {
   "cell_type": "code",
   "execution_count": null,
   "id": "dca28bec-9e76-4638-8482-9469c775e152",
   "metadata": {
    "tags": []
   },
   "outputs": [],
   "source": [
    "IFrame('https://www.jstor.org/stable/2579183', height=600, width=800)"
   ]
  },
  {
   "cell_type": "code",
   "execution_count": null,
   "id": "3e968e74-0a3c-4422-8e76-e4329d5a16ef",
   "metadata": {
    "tags": []
   },
   "outputs": [],
   "source": [
    "(segs_single.T[['Gini', 'Entropy', 'Dissim', 'Atkinson']].hvplot(title='Evenness Dimension', width=380, height=400).opts(legend_position='bottom', show_grid=True) +\n",
    "segs_single.T[['AbsoluteConcentration', 'RelativeConcentration' , 'Delta']].hvplot(title='Concentration Dimension', width=380, height=400).opts(legend_position='bottom', show_grid=True) +\n",
    "segs_single.T[['AbsoluteClustering', 'Isolation', 'CorrelationR', 'Interaction', 'SpatialProxProf']].hvplot(title='Exposure/Clustering Dimension', width=380, height=400).opts(legend_position='bottom', show_grid=True))\n"
   ]
  },
  {
   "cell_type": "code",
   "execution_count": null,
   "id": "daedba32-9a44-46ec-9ba3-14f289e4cc73",
   "metadata": {
    "tags": []
   },
   "outputs": [],
   "source": [
    "segs_single.T[['AbsoluteClustering', 'Isolation', 'SpatialProxProf', 'Interaction']].pct_change(periods=5) # we should only compare non-overlapping intervals"
   ]
  },
  {
   "cell_type": "markdown",
   "id": "a18bd187-f23c-4966-9dd4-f3872c0e984a",
   "metadata": {},
   "source": [
    "Between the sampling periods 2008-2012 and 2013-2017:\n",
    "- the isolation index increased by 5.2%\n",
    "- the absolute clustering index increased by 12.4%.  \n",
    "- the spatial proximity profile increased by 17.6%\n",
    "\n",
    "Between the sampling periods 2009-2013 and 2014-2018:\n",
    "- the isolation index increased by 7.9%\n",
    "- the absolute clustering index increased by 18.2%\n",
    "- the spatial proximity profile increased by 21.9%"
   ]
  },
  {
   "cell_type": "markdown",
   "id": "83f6f05a-bf42-471b-a74c-8533d8b51a18",
   "metadata": {},
   "source": [
    "## Space-Time Dynamics"
   ]
  },
  {
   "cell_type": "code",
   "execution_count": null,
   "id": "feaa584f-6f9c-4d0c-9447-5d523a9fd589",
   "metadata": {
    "tags": []
   },
   "outputs": [],
   "source": [
    "from segregation.singlegroup import Entropy"
   ]
  },
  {
   "cell_type": "code",
   "execution_count": null,
   "id": "15e502ff-8701-4ffc-83c3-0742e078369b",
   "metadata": {
    "tags": []
   },
   "outputs": [],
   "source": [
    "d = segdyn.spacetime_dyn(dc, singlegroup.Entropy, group_pop_var='very_high_inc', total_pop_var='total', distances=list(range(500,5500,500)))"
   ]
  },
  {
   "cell_type": "code",
   "execution_count": null,
   "id": "16137e35-76e0-49a6-9585-7d757a51f42a",
   "metadata": {
    "tags": []
   },
   "outputs": [],
   "source": [
    "d.plot(cmap='Reds')"
   ]
  },
  {
   "cell_type": "markdown",
   "id": "cfa1c8f0-2119-45f6-99d6-43568956d191",
   "metadata": {},
   "source": [
    "Entropy is falling the fastest at small scales (the gap is wider on the left-hand side of the graph than the right-hand side)"
   ]
  },
  {
   "cell_type": "code",
   "execution_count": null,
   "id": "2de7810e-61a8-4945-87ef-cd929d1cf3ab",
   "metadata": {
    "tags": []
   },
   "outputs": [],
   "source": [
    "iso = segdyn.spacetime_dyn(dc, singlegroup.Isolation, group_pop_var='very_high_inc', total_pop_var='total', distances=list(range(500,5500,500)))"
   ]
  },
  {
   "cell_type": "code",
   "execution_count": null,
   "id": "a9a58d15-7c4d-40a6-a0a4-f0cea13ed8d6",
   "metadata": {
    "tags": []
   },
   "outputs": [],
   "source": [
    "iso.plot(cmap='Reds')"
   ]
  },
  {
   "cell_type": "markdown",
   "id": "e238d460-c5e1-49cd-88a4-070130b05c30",
   "metadata": {},
   "source": [
    "Isolation is growing the fastest at large scales (the gap is wider with larger distances on the right)"
   ]
  },
  {
   "cell_type": "code",
   "execution_count": null,
   "id": "1f9a404d-095d-4ccc-85c6-8433c645447e",
   "metadata": {
    "tags": []
   },
   "outputs": [],
   "source": [
    "from geosnap.visualize import animate_timeseries"
   ]
  },
  {
   "cell_type": "code",
   "execution_count": null,
   "id": "a8101b0d-8897-4cc3-94c5-ed7855e07021",
   "metadata": {
    "tags": []
   },
   "outputs": [],
   "source": [
    "animate_timeseries(dc, 'share_very_high_inc', filename='figs/dc_high_inc_change.gif', fps=1.5)"
   ]
  },
  {
   "cell_type": "code",
   "execution_count": null,
   "id": "31556e3f-8886-461f-9a0e-69cb52b9d852",
   "metadata": {
    "tags": []
   },
   "outputs": [],
   "source": [
    "from IPython.display import Image"
   ]
  },
  {
   "cell_type": "code",
   "execution_count": null,
   "id": "775153c6-609d-4913-9d0f-a042c7fa6cdf",
   "metadata": {
    "tags": []
   },
   "outputs": [],
   "source": [
    "Image('figs/dc_high_inc_change.gif',width=800)"
   ]
  },
  {
   "cell_type": "markdown",
   "id": "56c9379b-4dc0-4569-b707-03c604d02bf8",
   "metadata": {},
   "source": [
    "The story in DC is one of increasing isolation by the affluent at large spatial scales. \n",
    "\n",
    "By many metrics, the region appears to be becoming *less* segregated by income over time, but that increase in evenness is largely due to the entire region getting richer. By contrast, looking at the exposure dimension shows that the residents with the highest incomes spend increasingly less time in environments with other income groups, and that change is happening quickest at large spatial scales. Put differently, we see a trend akin to agglomeration, whereby the large wealthy enclaves are becoming moreso"
   ]
  },
  {
   "cell_type": "markdown",
   "id": "09e085ba-70b4-4c64-b5de-6d398f870b00",
   "metadata": {},
   "source": [
    "(remember this is example makes some *very* liberal assumptions about the input data, so the \"takeaways\" here are just for illustration)"
   ]
  },
  {
   "cell_type": "markdown",
   "id": "6225ddd8-f169-4307-a660-07768d95e189",
   "metadata": {},
   "source": [
    "## Using geosnap as a Dashboard Engine"
   ]
  },
  {
   "cell_type": "markdown",
   "id": "d4121561-27f8-4843-9b2c-a9bc86c6ca54",
   "metadata": {},
   "source": [
    "The Python dashboarding ecosystem is evolving quickly, so we won't opine on which platform or toolset is best. But if you have a personal favorite, `geosnap` is performant to power an urban analytics dashboard on-the-fly. The example below wraps a simple streamlit interface around the workflow above that lets us explore *every* metro region quickly\n",
    "\n",
    "**example**:  <https://github.com/knaaptime/incseg_app>"
   ]
  },
  {
   "cell_type": "markdown",
   "id": "0bb59493-d516-4549-9044-a04f4e6f9cfb",
   "metadata": {
    "execution": {
     "iopub.execute_input": "2022-06-21T16:55:11.560137Z",
     "iopub.status.busy": "2022-06-21T16:55:11.559241Z",
     "iopub.status.idle": "2022-06-21T16:55:11.785383Z",
     "shell.execute_reply": "2022-06-21T16:55:11.783496Z",
     "shell.execute_reply.started": "2022-06-21T16:55:11.560048Z"
    }
   },
   "source": [
    "![](https://github.com/knaaptime/incseg_app/raw/main/data/incseg_app_demo.png)"
   ]
  },
  {
   "cell_type": "markdown",
   "id": "139b1f91-1702-43c2-83f9-eea7e758704e",
   "metadata": {},
   "source": [
    "## Demo"
   ]
  },
  {
   "cell_type": "code",
   "execution_count": null,
   "id": "7ece1a72-ebba-41b1-b8fa-fc3a3c743e4f",
   "metadata": {},
   "outputs": [],
   "source": []
  }
 ],
 "metadata": {
  "kernelspec": {
   "display_name": "Python 3 (ipykernel)",
   "language": "python",
   "name": "python3"
  },
  "language_info": {
   "codemirror_mode": {
    "name": "ipython",
    "version": 3
   },
   "file_extension": ".py",
   "mimetype": "text/x-python",
   "name": "python",
   "nbconvert_exporter": "python",
   "pygments_lexer": "ipython3",
   "version": "3.9.13"
  },
  "widgets": {
   "application/vnd.jupyter.widget-state+json": {
    "state": {},
    "version_major": 2,
    "version_minor": 0
   }
  }
 },
 "nbformat": 4,
 "nbformat_minor": 5
}
