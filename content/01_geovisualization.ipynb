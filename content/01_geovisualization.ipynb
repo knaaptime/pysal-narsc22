{
 "cells": [
  {
   "cell_type": "markdown",
   "metadata": {},
   "source": [
    "# Geovisualization with PySAL\n",
    "\n",
    "\n",
    "\n",
    "## Introduction\n",
    "\n",
    "When the [Python Spatial Analysis Library](https://github.com/pysal), `PySAL`, was originally planned, the intention was to focus on the computational aspects of exploratory spatial data analysis and spatial econometric methods, while relying on existing GIS packages and visualization libraries for visualization of computations. Indeed, we have partnered with [esri](https://geodacenter.asu.edu/arc_pysal) and [QGIS](http://planet.qgis.org/planet/tag/pysal/ ) towards this end.\n",
    "\n",
    "However, over time we have received many requests for supporting basic geovisualization within PySAL so that the step of having to interoperate with an external package can be avoided, thereby increasing the efficiency of the spatial analytical workflow.\n",
    "\n",
    "\n",
    "\n",
    "In this notebook, we demonstrate several approaches towards a particular subset of geovisualization methods, namely **choropleth maps**. We start with an exploratory workflow introducing mapclassify and geopandas to create different choropleth classifications and maps for quick exploratory data analysis. We then use the **explore** method of the GeoDataFrame for interactive mapping in support of exploratory spatial data analysis.\n",
    "\n",
    "\n"
   ]
  },
  {
   "cell_type": "markdown",
   "metadata": {},
   "source": [
    "### PySAL Map Classifiers\n"
   ]
  },
  {
   "cell_type": "code",
   "execution_count": null,
   "metadata": {
    "execution": {
     "iopub.execute_input": "2022-07-12T13:40:50.208234Z",
     "iopub.status.busy": "2022-07-12T13:40:50.207398Z",
     "iopub.status.idle": "2022-07-12T13:40:50.231528Z",
     "shell.execute_reply": "2022-07-12T13:40:50.224293Z",
     "shell.execute_reply.started": "2022-07-12T13:40:50.208196Z"
    }
   },
   "outputs": [],
   "source": [
    "import mapclassify\n",
    "import geopandas as gpd\n",
    "import matplotlib.pyplot as plt\n",
    "import contextily as cx"
   ]
  },
  {
   "cell_type": "code",
   "execution_count": null,
   "metadata": {
    "execution": {
     "iopub.execute_input": "2022-07-12T13:40:58.954240Z",
     "iopub.status.busy": "2022-07-12T13:40:58.953449Z",
     "iopub.status.idle": "2022-07-12T13:40:59.528154Z",
     "shell.execute_reply": "2022-07-12T13:40:59.527801Z",
     "shell.execute_reply.started": "2022-07-12T13:40:58.954204Z"
    }
   },
   "outputs": [],
   "source": [
    "shp_link = 'data/scag_region.gpkg'\n",
    "gdf = gpd.read_file(shp_link)"
   ]
  },
  {
   "cell_type": "code",
   "execution_count": null,
   "metadata": {
    "execution": {
     "iopub.execute_input": "2022-07-12T13:41:25.773653Z",
     "iopub.status.busy": "2022-07-12T13:41:25.772749Z",
     "iopub.status.idle": "2022-07-12T13:41:25.823955Z",
     "shell.execute_reply": "2022-07-12T13:41:25.823448Z",
     "shell.execute_reply.started": "2022-07-12T13:41:25.773616Z"
    }
   },
   "outputs": [],
   "source": [
    "gdf = gdf.to_crs(3857)"
   ]
  },
  {
   "cell_type": "code",
   "execution_count": null,
   "metadata": {
    "execution": {
     "iopub.execute_input": "2022-07-12T13:42:43.674152Z",
     "iopub.status.busy": "2022-07-12T13:42:43.673515Z",
     "iopub.status.idle": "2022-07-12T13:42:44.118169Z",
     "shell.execute_reply": "2022-07-12T13:42:44.117830Z",
     "shell.execute_reply.started": "2022-07-12T13:42:43.674114Z"
    },
    "tags": []
   },
   "outputs": [],
   "source": [
    "f, ax = plt.subplots(1, figsize=(12, 8))\n",
    "\n",
    "gdf.plot(column='median_home_value', scheme='QUANTILES', ax=ax,\n",
    "        edgecolor='white', legend=True, linewidth=0.0)\n",
    "\n",
    "ax.set_axis_off()\n",
    "\n",
    "\n",
    "plt.show()"
   ]
  },
  {
   "cell_type": "markdown",
   "metadata": {},
   "source": [
    "As a first cut, `geopandas` makes it very easy to plot a map quickly. If you know the area well, this may do fine for quick exploration. If you *don't* know a place extremely well (or you want to make a figure easy to understand for those who don't) it's often a good idea to add a basemap for context. We can do that easily using the `contextily` package"
   ]
  },
  {
   "cell_type": "code",
   "execution_count": null,
   "metadata": {},
   "outputs": [],
   "source": []
  },
  {
   "cell_type": "code",
   "execution_count": null,
   "metadata": {
    "execution": {
     "iopub.execute_input": "2022-07-12T13:43:30.372396Z",
     "iopub.status.busy": "2022-07-12T13:43:30.371586Z",
     "iopub.status.idle": "2022-07-12T13:43:30.538691Z",
     "shell.execute_reply": "2022-07-12T13:43:30.538356Z",
     "shell.execute_reply.started": "2022-07-12T13:43:30.372358Z"
    }
   },
   "outputs": [],
   "source": [
    "gdf.fillna(gdf.mean(), inplace = True)"
   ]
  },
  {
   "cell_type": "code",
   "execution_count": null,
   "metadata": {
    "execution": {
     "iopub.execute_input": "2022-07-12T13:45:16.579127Z",
     "iopub.status.busy": "2022-07-12T13:45:16.578390Z",
     "iopub.status.idle": "2022-07-12T13:45:16.590179Z",
     "shell.execute_reply": "2022-07-12T13:45:16.589157Z",
     "shell.execute_reply.started": "2022-07-12T13:45:16.579094Z"
    },
    "tags": []
   },
   "outputs": [],
   "source": [
    "gdf.crs.to_string()"
   ]
  },
  {
   "cell_type": "code",
   "execution_count": null,
   "metadata": {
    "execution": {
     "iopub.execute_input": "2022-07-12T13:50:10.230308Z",
     "iopub.status.busy": "2022-07-12T13:50:10.229876Z",
     "iopub.status.idle": "2022-07-12T13:50:11.439303Z",
     "shell.execute_reply": "2022-07-12T13:50:11.438812Z",
     "shell.execute_reply.started": "2022-07-12T13:50:10.230280Z"
    },
    "tags": []
   },
   "outputs": [],
   "source": [
    "f, ax = plt.subplots(1, figsize=(12, 8))\n",
    "\n",
    "gdf.plot(column='median_home_value', scheme='QUANTILES', alpha=0.6, ax=ax, legend=True, k=10)\n",
    "\n",
    "cx.add_basemap(ax, crs=gdf.crs.to_string(), source=cx.providers.Stamen.TonerLite)\n",
    "\n",
    "ax.set_axis_off()\n",
    "\n",
    "plt.show()"
   ]
  },
  {
   "cell_type": "code",
   "execution_count": null,
   "metadata": {
    "execution": {
     "iopub.execute_input": "2022-07-12T13:49:02.831660Z",
     "iopub.status.busy": "2022-07-12T13:49:02.830564Z",
     "iopub.status.idle": "2022-07-12T13:49:06.745768Z",
     "shell.execute_reply": "2022-07-12T13:49:06.745311Z",
     "shell.execute_reply.started": "2022-07-12T13:49:02.831601Z"
    },
    "tags": []
   },
   "outputs": [],
   "source": [
    "gdf.explore('median_home_value', scheme='quantiles')"
   ]
  },
  {
   "cell_type": "code",
   "execution_count": null,
   "metadata": {
    "execution": {
     "iopub.execute_input": "2022-07-12T13:49:30.651896Z",
     "iopub.status.busy": "2022-07-12T13:49:30.651064Z",
     "iopub.status.idle": "2022-07-12T13:49:30.667890Z",
     "shell.execute_reply": "2022-07-12T13:49:30.666136Z",
     "shell.execute_reply.started": "2022-07-12T13:49:30.651860Z"
    }
   },
   "outputs": [],
   "source": [
    "hv = gdf['median_home_value']"
   ]
  },
  {
   "cell_type": "code",
   "execution_count": null,
   "metadata": {
    "execution": {
     "iopub.execute_input": "2022-07-12T13:49:34.831975Z",
     "iopub.status.busy": "2022-07-12T13:49:34.830973Z",
     "iopub.status.idle": "2022-07-12T13:49:34.847872Z",
     "shell.execute_reply": "2022-07-12T13:49:34.846903Z",
     "shell.execute_reply.started": "2022-07-12T13:49:34.831916Z"
    }
   },
   "outputs": [],
   "source": [
    "hv"
   ]
  },
  {
   "cell_type": "code",
   "execution_count": null,
   "metadata": {
    "execution": {
     "iopub.execute_input": "2022-07-12T13:50:59.162479Z",
     "iopub.status.busy": "2022-07-12T13:50:59.162001Z",
     "iopub.status.idle": "2022-07-12T13:50:59.175607Z",
     "shell.execute_reply": "2022-07-12T13:50:59.174741Z",
     "shell.execute_reply.started": "2022-07-12T13:50:59.162451Z"
    }
   },
   "outputs": [],
   "source": [
    "mapclassify.Quantiles(hv, k=5)"
   ]
  },
  {
   "cell_type": "code",
   "execution_count": null,
   "metadata": {
    "execution": {
     "iopub.execute_input": "2022-07-12T13:51:10.848071Z",
     "iopub.status.busy": "2022-07-12T13:51:10.847241Z",
     "iopub.status.idle": "2022-07-12T13:51:10.875044Z",
     "shell.execute_reply": "2022-07-12T13:51:10.873591Z",
     "shell.execute_reply.started": "2022-07-12T13:51:10.848032Z"
    }
   },
   "outputs": [],
   "source": [
    "mapclassify.Quantiles(hv, k=10)"
   ]
  },
  {
   "cell_type": "code",
   "execution_count": null,
   "metadata": {
    "execution": {
     "iopub.execute_input": "2022-07-12T13:51:36.509377Z",
     "iopub.status.busy": "2022-07-12T13:51:36.508712Z",
     "iopub.status.idle": "2022-07-12T13:51:36.532287Z",
     "shell.execute_reply": "2022-07-12T13:51:36.530918Z",
     "shell.execute_reply.started": "2022-07-12T13:51:36.509351Z"
    }
   },
   "outputs": [],
   "source": [
    "q10 = mapclassify.Quantiles(hv, k=10)"
   ]
  },
  {
   "cell_type": "code",
   "execution_count": null,
   "metadata": {
    "execution": {
     "iopub.execute_input": "2022-07-12T13:51:39.507041Z",
     "iopub.status.busy": "2022-07-12T13:51:39.505339Z",
     "iopub.status.idle": "2022-07-12T13:51:39.523516Z",
     "shell.execute_reply": "2022-07-12T13:51:39.522200Z",
     "shell.execute_reply.started": "2022-07-12T13:51:39.506952Z"
    }
   },
   "outputs": [],
   "source": [
    "dir(q10)"
   ]
  },
  {
   "cell_type": "code",
   "execution_count": null,
   "metadata": {
    "execution": {
     "iopub.execute_input": "2022-07-12T13:51:49.454057Z",
     "iopub.status.busy": "2022-07-12T13:51:49.451914Z",
     "iopub.status.idle": "2022-07-12T13:51:49.467039Z",
     "shell.execute_reply": "2022-07-12T13:51:49.465815Z",
     "shell.execute_reply.started": "2022-07-12T13:51:49.454001Z"
    }
   },
   "outputs": [],
   "source": [
    "q10.bins"
   ]
  },
  {
   "cell_type": "code",
   "execution_count": null,
   "metadata": {
    "execution": {
     "iopub.execute_input": "2022-07-12T13:51:55.428844Z",
     "iopub.status.busy": "2022-07-12T13:51:55.428069Z",
     "iopub.status.idle": "2022-07-12T13:51:55.453011Z",
     "shell.execute_reply": "2022-07-12T13:51:55.452378Z",
     "shell.execute_reply.started": "2022-07-12T13:51:55.428809Z"
    }
   },
   "outputs": [],
   "source": [
    "q10.counts"
   ]
  },
  {
   "cell_type": "code",
   "execution_count": null,
   "metadata": {
    "execution": {
     "iopub.execute_input": "2022-07-12T13:52:15.164917Z",
     "iopub.status.busy": "2022-07-12T13:52:15.164120Z",
     "iopub.status.idle": "2022-07-12T13:52:15.292299Z",
     "shell.execute_reply": "2022-07-12T13:52:15.291855Z",
     "shell.execute_reply.started": "2022-07-12T13:52:15.164890Z"
    }
   },
   "outputs": [],
   "source": [
    "fj10 = mapclassify.FisherJenks(hv, k=10)"
   ]
  },
  {
   "cell_type": "code",
   "execution_count": null,
   "metadata": {
    "execution": {
     "iopub.execute_input": "2022-07-12T13:52:15.757524Z",
     "iopub.status.busy": "2022-07-12T13:52:15.756698Z",
     "iopub.status.idle": "2022-07-12T13:52:15.769887Z",
     "shell.execute_reply": "2022-07-12T13:52:15.768821Z",
     "shell.execute_reply.started": "2022-07-12T13:52:15.757486Z"
    }
   },
   "outputs": [],
   "source": [
    "fj10"
   ]
  },
  {
   "cell_type": "code",
   "execution_count": null,
   "metadata": {
    "execution": {
     "iopub.execute_input": "2022-07-12T13:52:16.208376Z",
     "iopub.status.busy": "2022-07-12T13:52:16.207928Z",
     "iopub.status.idle": "2022-07-12T13:52:16.215463Z",
     "shell.execute_reply": "2022-07-12T13:52:16.214678Z",
     "shell.execute_reply.started": "2022-07-12T13:52:16.208347Z"
    }
   },
   "outputs": [],
   "source": [
    "fj10.adcm"
   ]
  },
  {
   "cell_type": "code",
   "execution_count": null,
   "metadata": {
    "execution": {
     "iopub.execute_input": "2022-07-12T13:52:18.643129Z",
     "iopub.status.busy": "2022-07-12T13:52:18.642365Z",
     "iopub.status.idle": "2022-07-12T13:52:18.653841Z",
     "shell.execute_reply": "2022-07-12T13:52:18.653059Z",
     "shell.execute_reply.started": "2022-07-12T13:52:18.643095Z"
    }
   },
   "outputs": [],
   "source": [
    "q10.adcm"
   ]
  },
  {
   "cell_type": "code",
   "execution_count": null,
   "metadata": {
    "execution": {
     "iopub.execute_input": "2022-07-12T13:55:03.088030Z",
     "iopub.status.busy": "2022-07-12T13:55:03.085132Z",
     "iopub.status.idle": "2022-07-12T13:55:04.328240Z",
     "shell.execute_reply": "2022-07-12T13:55:04.327591Z",
     "shell.execute_reply.started": "2022-07-12T13:55:03.087933Z"
    },
    "tags": []
   },
   "outputs": [],
   "source": [
    "f, ax = plt.subplots(1, figsize=(12, 8))\n",
    "\n",
    "gdf.plot(column='median_home_value', scheme='fisher_jenks', alpha=0.6, ax=ax, legend=True, k=20)\n",
    "\n",
    "cx.add_basemap(ax, crs=gdf.crs.to_string(), source=cx.providers.Stamen.TonerLite)\n",
    "\n",
    "ax.set_axis_off()\n",
    "\n",
    "plt.show()"
   ]
  },
  {
   "cell_type": "code",
   "execution_count": null,
   "metadata": {},
   "outputs": [],
   "source": []
  },
  {
   "cell_type": "code",
   "execution_count": null,
   "metadata": {
    "execution": {
     "iopub.execute_input": "2022-07-12T13:54:07.991050Z",
     "iopub.status.busy": "2022-07-12T13:54:07.990596Z",
     "iopub.status.idle": "2022-07-12T13:54:08.002215Z",
     "shell.execute_reply": "2022-07-12T13:54:08.000863Z",
     "shell.execute_reply.started": "2022-07-12T13:54:07.991025Z"
    }
   },
   "outputs": [],
   "source": [
    "bins = [100000, 500000, 1000000, 1500000]"
   ]
  },
  {
   "cell_type": "code",
   "execution_count": null,
   "metadata": {
    "execution": {
     "iopub.execute_input": "2022-07-12T13:54:14.712853Z",
     "iopub.status.busy": "2022-07-12T13:54:14.712169Z",
     "iopub.status.idle": "2022-07-12T13:54:14.741445Z",
     "shell.execute_reply": "2022-07-12T13:54:14.739307Z",
     "shell.execute_reply.started": "2022-07-12T13:54:14.712819Z"
    }
   },
   "outputs": [],
   "source": [
    "ud4 = mapclassify.UserDefined(hv, bins=bins)\n",
    "ud4"
   ]
  },
  {
   "cell_type": "code",
   "execution_count": null,
   "metadata": {},
   "outputs": [],
   "source": [
    "mapclassify.classifiers.CLASSIFIERS"
   ]
  },
  {
   "cell_type": "markdown",
   "metadata": {},
   "source": [
    "## GeoPandas: Choropleths"
   ]
  },
  {
   "cell_type": "code",
   "execution_count": null,
   "metadata": {
    "execution": {
     "iopub.execute_input": "2022-07-12T13:55:54.774652Z",
     "iopub.status.busy": "2022-07-12T13:55:54.773789Z",
     "iopub.status.idle": "2022-07-12T13:55:55.472414Z",
     "shell.execute_reply": "2022-07-12T13:55:55.471928Z",
     "shell.execute_reply.started": "2022-07-12T13:55:54.774614Z"
    }
   },
   "outputs": [],
   "source": [
    "f, ax = plt.subplots(1, figsize=(12, 8))\n",
    "gdf.plot(column='median_home_value', scheme='QUANTILES', ax=ax, alpha=0.6, legend=True)\n",
    "\n",
    "cx.add_basemap(ax, crs=gdf.crs.to_string(), source=cx.providers.Stamen.TonerLite)\n",
    "ax.set_axis_off()\n",
    "plt.show()"
   ]
  },
  {
   "cell_type": "code",
   "execution_count": null,
   "metadata": {
    "execution": {
     "iopub.execute_input": "2022-07-12T13:55:58.910337Z",
     "iopub.status.busy": "2022-07-12T13:55:58.909807Z",
     "iopub.status.idle": "2022-07-12T13:55:59.672803Z",
     "shell.execute_reply": "2022-07-12T13:55:59.671727Z",
     "shell.execute_reply.started": "2022-07-12T13:55:58.910312Z"
    }
   },
   "outputs": [],
   "source": [
    "f, ax = plt.subplots(1, figsize=(12, 8))\n",
    "gdf.plot(column='median_home_value', scheme='FisherJenks', ax=ax,\n",
    "        alpha=0.6, legend=True)\n",
    "\n",
    "cx.add_basemap(ax, crs=gdf.crs.to_string(), source=cx.providers.Stamen.TonerLite)\n",
    "\n",
    "ax.set_axis_off()\n",
    "plt.show()"
   ]
  },
  {
   "cell_type": "code",
   "execution_count": null,
   "metadata": {
    "execution": {
     "iopub.execute_input": "2022-07-12T13:56:04.513010Z",
     "iopub.status.busy": "2022-07-12T13:56:04.512491Z",
     "iopub.status.idle": "2022-07-12T13:56:05.296370Z",
     "shell.execute_reply": "2022-07-12T13:56:05.296015Z",
     "shell.execute_reply.started": "2022-07-12T13:56:04.512982Z"
    }
   },
   "outputs": [],
   "source": [
    "f, ax = plt.subplots(1, figsize=(12, 8))\n",
    "gdf.plot(column='median_home_value', scheme='FisherJenks', ax=ax,\n",
    "        alpha=0.6, legend=True, cmap='Blues')\n",
    "\n",
    "cx.add_basemap(ax, crs=gdf.crs.to_string(), source=cx.providers.Stamen.TonerLite)\n",
    "\n",
    "ax.set_axis_off()\n",
    "plt.show()"
   ]
  },
  {
   "cell_type": "code",
   "execution_count": null,
   "metadata": {
    "execution": {
     "iopub.execute_input": "2022-07-12T13:56:14.403340Z",
     "iopub.status.busy": "2022-07-12T13:56:14.398795Z",
     "iopub.status.idle": "2022-07-12T13:56:15.443055Z",
     "shell.execute_reply": "2022-07-12T13:56:15.442384Z",
     "shell.execute_reply.started": "2022-07-12T13:56:14.403285Z"
    }
   },
   "outputs": [],
   "source": [
    "f, ax = plt.subplots(1, figsize=(12, 8))\n",
    "gdf.plot(column='median_home_value', scheme='FisherJenks', ax=ax,\n",
    "        alpha=0.6, legend=True, cmap='Blues')\n",
    "cx.add_basemap(ax, crs=gdf.crs.to_string(), source=cx.providers.Stamen.TonerLite)\n",
    "\n",
    "ax.set_axis_off()\n",
    "plt.show()"
   ]
  },
  {
   "cell_type": "code",
   "execution_count": null,
   "metadata": {
    "execution": {
     "iopub.execute_input": "2022-07-12T13:56:38.573238Z",
     "iopub.status.busy": "2022-07-12T13:56:38.572623Z",
     "iopub.status.idle": "2022-07-12T13:56:39.348097Z",
     "shell.execute_reply": "2022-07-12T13:56:39.347606Z",
     "shell.execute_reply.started": "2022-07-12T13:56:38.573206Z"
    }
   },
   "outputs": [],
   "source": [
    "f, ax = plt.subplots(1, figsize=(12, 8))\n",
    "gdf.plot(column='median_home_value', scheme='FisherJenks', ax=ax,\n",
    "        alpha=0.6, legend=True, cmap='Blues')\n",
    "cx.add_basemap(ax, crs=gdf.crs.to_string(), source=cx.providers.Stamen.TonerLite)\n",
    "\n",
    "ax.set_axis_off()\n",
    "plt.show()"
   ]
  },
  {
   "cell_type": "code",
   "execution_count": null,
   "metadata": {
    "execution": {
     "iopub.execute_input": "2022-07-12T13:57:39.188895Z",
     "iopub.status.busy": "2022-07-12T13:57:39.188372Z",
     "iopub.status.idle": "2022-07-12T13:57:42.858656Z",
     "shell.execute_reply": "2022-07-12T13:57:42.858175Z",
     "shell.execute_reply.started": "2022-07-12T13:57:39.188869Z"
    },
    "tags": []
   },
   "outputs": [],
   "source": [
    "gdf.explore(column='median_home_value', tooltip=['median_home_value'], scheme='FisherJenks')"
   ]
  },
  {
   "cell_type": "code",
   "execution_count": null,
   "metadata": {},
   "outputs": [],
   "source": []
  },
  {
   "cell_type": "code",
   "execution_count": null,
   "metadata": {},
   "outputs": [],
   "source": [
    "gdf.geoid"
   ]
  },
  {
   "cell_type": "code",
   "execution_count": null,
   "metadata": {},
   "outputs": [],
   "source": []
  },
  {
   "cell_type": "code",
   "execution_count": null,
   "metadata": {
    "execution": {
     "iopub.execute_input": "2022-07-12T13:58:01.619909Z",
     "iopub.status.busy": "2022-07-12T13:58:01.619244Z",
     "iopub.status.idle": "2022-07-12T13:58:01.626961Z",
     "shell.execute_reply": "2022-07-12T13:58:01.625783Z",
     "shell.execute_reply.started": "2022-07-12T13:58:01.619867Z"
    }
   },
   "outputs": [],
   "source": [
    "import numpy"
   ]
  },
  {
   "cell_type": "code",
   "execution_count": null,
   "metadata": {
    "execution": {
     "iopub.execute_input": "2022-07-12T13:58:01.875868Z",
     "iopub.status.busy": "2022-07-12T13:58:01.874609Z",
     "iopub.status.idle": "2022-07-12T13:58:01.898590Z",
     "shell.execute_reply": "2022-07-12T13:58:01.896726Z",
     "shell.execute_reply.started": "2022-07-12T13:58:01.875834Z"
    }
   },
   "outputs": [],
   "source": [
    "counties = set([geoid[:5] for geoid in gdf.geoid])"
   ]
  },
  {
   "cell_type": "code",
   "execution_count": null,
   "metadata": {
    "execution": {
     "iopub.execute_input": "2022-07-12T13:58:02.215582Z",
     "iopub.status.busy": "2022-07-12T13:58:02.215173Z",
     "iopub.status.idle": "2022-07-12T13:58:02.223643Z",
     "shell.execute_reply": "2022-07-12T13:58:02.222813Z",
     "shell.execute_reply.started": "2022-07-12T13:58:02.215557Z"
    }
   },
   "outputs": [],
   "source": [
    "counties"
   ]
  },
  {
   "cell_type": "code",
   "execution_count": null,
   "metadata": {
    "execution": {
     "iopub.execute_input": "2022-07-12T13:58:02.711301Z",
     "iopub.status.busy": "2022-07-12T13:58:02.710329Z",
     "iopub.status.idle": "2022-07-12T13:58:04.275167Z",
     "shell.execute_reply": "2022-07-12T13:58:04.274683Z",
     "shell.execute_reply.started": "2022-07-12T13:58:02.711228Z"
    }
   },
   "outputs": [],
   "source": [
    "for county in counties:\n",
    "    cgdf = gdf[gdf['geoid'].str.match(f'^{county}')]\n",
    "    f, ax = plt.subplots(1, figsize=(12, 8))\n",
    "    cgdf.plot(column='median_home_value', scheme='FisherJenks', ax=ax,\n",
    "        edgecolor='grey', legend=True, cmap='Blues', alpha=0.6)\n",
    "    plt.title(county)\n",
    "    ax.set_axis_off()\n",
    "    plt.show()\n"
   ]
  },
  {
   "cell_type": "markdown",
   "metadata": {},
   "source": [
    "<div class=\"alert alert-success\" style=\"font-size:120%\">\n",
    "<b>Exercise</b>: <br>\n",
    "Create choropleth maps for each of the counties that use the FisherJenks classification for k=6 defined on the entire Southern California region.\n",
    "</div>"
   ]
  },
  {
   "cell_type": "code",
   "execution_count": null,
   "metadata": {
    "execution": {
     "iopub.execute_input": "2022-07-12T14:02:41.794565Z",
     "iopub.status.busy": "2022-07-12T14:02:41.793527Z",
     "iopub.status.idle": "2022-07-12T14:02:42.959263Z",
     "shell.execute_reply": "2022-07-12T14:02:42.958724Z",
     "shell.execute_reply.started": "2022-07-12T14:02:41.794507Z"
    },
    "tags": []
   },
   "outputs": [],
   "source": [
    "# %load solutions/01.py\n",
    "\"\"\"\n",
    "solution for notebook 01\n",
    "\"\"\"\n",
    "fj6 = mapclassify.FisherJenks(gdf.median_home_value, k=6)\n",
    "gdf['fj6yb'] = fj6.yb\n",
    "gdf['county'] = [geoid[:5] for geoid in gdf.geoid]\n",
    "\n",
    "for county in counties:\n",
    "    f, ax = plt.subplots(1, figsize=(12, 8))\n",
    "    gdf[gdf.county==county].plot(column='fj6yb', categorical=True, k=6, ax=ax,\n",
    "        edgecolor='grey', legend=True, cmap='Blues', alpha=0.6)\n",
    "    plt.title(county)\n",
    "    ax.set_axis_off()\n",
    "    plt.show()\n"
   ]
  },
  {
   "cell_type": "code",
   "execution_count": null,
   "metadata": {},
   "outputs": [],
   "source": []
  },
  {
   "cell_type": "code",
   "execution_count": null,
   "metadata": {},
   "outputs": [],
   "source": []
  },
  {
   "cell_type": "code",
   "execution_count": null,
   "metadata": {},
   "outputs": [],
   "source": []
  },
  {
   "cell_type": "markdown",
   "metadata": {},
   "source": [
    "---\n",
    "\n",
    "<a rel=\"license\" href=\"http://creativecommons.org/licenses/by-nc-\n",
    "sa/4.0/\"><img alt=\"Creative Commons License\" style=\"border-width:0\"\n",
    "src=\"https://i.creativecommons.org/l/by-nc-sa/4.0/88x31.png\" /></a><br /><span\n",
    "xmlns:dct=\"http://purl.org/dc/terms/\" property=\"dct:title\">Geovisualization</span> by <a xmlns:cc=\"http://creativecommons.org/ns#\"\n",
    "href=\"http://sergerey.org\" property=\"cc:attributionName\"\n",
    "rel=\"cc:attributionURL\">Serge Rey</a> is licensed under a <a\n",
    "rel=\"license\" href=\"http://creativecommons.org/licenses/by-nc-sa/4.0/\">Creative\n",
    "Commons Attribution-NonCommercial-ShareAlike 4.0 International License</a>."
   ]
  }
 ],
 "metadata": {
  "jupytext": {
   "formats": "ipynb,md"
  },
  "kernelspec": {
   "display_name": "Python [conda env:pysal-workshop]",
   "language": "python",
   "name": "conda-env-pysal-workshop-py"
  },
  "language_info": {
   "codemirror_mode": {
    "name": "ipython",
    "version": 3
   },
   "file_extension": ".py",
   "mimetype": "text/x-python",
   "name": "python",
   "nbconvert_exporter": "python",
   "pygments_lexer": "ipython3",
   "version": "3.9.13"
  },
  "widgets": {
   "application/vnd.jupyter.widget-state+json": {
    "state": {},
    "version_major": 2,
    "version_minor": 0
   }
  }
 },
 "nbformat": 4,
 "nbformat_minor": 4
}
