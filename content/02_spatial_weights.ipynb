{
 "cells": [
  {
   "cell_type": "markdown",
   "metadata": {},
   "source": [
    "# Spatial Weights\n"
   ]
  },
  {
   "cell_type": "markdown",
   "metadata": {},
   "source": [
    "Spatial weights are mathematical structures used to represent spatial relationships. Many spatial analytics, such as spatial autocorrelation statistics and regionalization algorithms rely on spatial weights. Generally speaking, a spatial weight $w_{i,j}$ expresses the notion of a geographical relationship between locations $i$ and $j$. These relationships can be based on a number of criteria including contiguity, geospatial distance and general distances.\n",
    "\n",
    "libpysal offers functionality for the construction, manipulation, analysis, and conversion of a wide array of spatial weights.\n",
    "\n",
    "We begin with construction of weights from common spatial data formats.\n"
   ]
  },
  {
   "cell_type": "code",
   "execution_count": null,
   "metadata": {
    "execution": {
     "iopub.execute_input": "2022-07-12T14:15:05.890387Z",
     "iopub.status.busy": "2022-07-12T14:15:05.889341Z",
     "iopub.status.idle": "2022-07-12T14:15:05.911808Z",
     "shell.execute_reply": "2022-07-12T14:15:05.911023Z",
     "shell.execute_reply.started": "2022-07-12T14:15:05.890284Z"
    },
    "tags": []
   },
   "outputs": [],
   "source": [
    "import libpysal \n",
    "from libpysal.weights import Queen, Rook, KNN, Kernel, DistanceBand\n",
    "import numpy as np\n",
    "import geopandas\n",
    "import pandas\n",
    "%matplotlib inline\n",
    "import matplotlib.pyplot as plt"
   ]
  },
  {
   "cell_type": "code",
   "execution_count": null,
   "metadata": {
    "execution": {
     "iopub.execute_input": "2022-07-12T14:15:48.150519Z",
     "iopub.status.busy": "2022-07-12T14:15:48.149992Z",
     "iopub.status.idle": "2022-07-12T14:15:48.159348Z",
     "shell.execute_reply": "2022-07-12T14:15:48.158205Z",
     "shell.execute_reply.started": "2022-07-12T14:15:48.150492Z"
    }
   },
   "outputs": [],
   "source": [
    "from splot.libpysal import plot_spatial_weights"
   ]
  },
  {
   "cell_type": "markdown",
   "metadata": {},
   "source": [
    "There are functions to construct weights directly from a file path. "
   ]
  },
  {
   "cell_type": "markdown",
   "metadata": {},
   "source": [
    "## Weight Types"
   ]
  },
  {
   "cell_type": "markdown",
   "metadata": {},
   "source": [
    "### Contiguity\n",
    "\n",
    "#### Queen Weights"
   ]
  },
  {
   "cell_type": "markdown",
   "metadata": {},
   "source": [
    "A commonly-used type of weight is a queen contigutiy weight, which reflects adjacency relationships as a binary indicator variable denoting whether or not a polygon shares an edge or a vertex with another polygon. These weights are symmetric, in that when polygon $A$ neighbors polygon $B$, both $w_{AB} = 1$ and $w_{BA} = 1$.\n",
    "\n",
    "To construct queen weights from a shapefile, we will use geopandas to read the file into a GeoDataFrame, and then use   libpysal to construct the weights:"
   ]
  },
  {
   "cell_type": "code",
   "execution_count": null,
   "metadata": {
    "execution": {
     "iopub.execute_input": "2022-07-12T14:17:07.987803Z",
     "iopub.status.busy": "2022-07-12T14:17:07.987346Z",
     "iopub.status.idle": "2022-07-12T14:17:08.688395Z",
     "shell.execute_reply": "2022-07-12T14:17:08.687418Z",
     "shell.execute_reply.started": "2022-07-12T14:17:07.987774Z"
    }
   },
   "outputs": [],
   "source": [
    "path = \"data/scag_region.gpkg\"\n",
    "df = geopandas.read_file(path)\n",
    "df.head()"
   ]
  },
  {
   "cell_type": "code",
   "execution_count": null,
   "metadata": {
    "execution": {
     "iopub.execute_input": "2022-07-12T14:17:25.266837Z",
     "iopub.status.busy": "2022-07-12T14:17:25.266089Z",
     "iopub.status.idle": "2022-07-12T14:17:25.376142Z",
     "shell.execute_reply": "2022-07-12T14:17:25.375790Z",
     "shell.execute_reply.started": "2022-07-12T14:17:25.266787Z"
    }
   },
   "outputs": [],
   "source": [
    "df = df.to_crs(26911)  #UTM zone 11N"
   ]
  },
  {
   "cell_type": "code",
   "execution_count": null,
   "metadata": {
    "execution": {
     "iopub.execute_input": "2022-07-12T14:17:53.336656Z",
     "iopub.status.busy": "2022-07-12T14:17:53.335962Z",
     "iopub.status.idle": "2022-07-12T14:17:54.017639Z",
     "shell.execute_reply": "2022-07-12T14:17:54.017296Z",
     "shell.execute_reply.started": "2022-07-12T14:17:53.336607Z"
    }
   },
   "outputs": [],
   "source": [
    "qW = Queen.from_dataframe(df)"
   ]
  },
  {
   "cell_type": "code",
   "execution_count": null,
   "metadata": {
    "execution": {
     "iopub.execute_input": "2022-07-12T14:18:06.574774Z",
     "iopub.status.busy": "2022-07-12T14:18:06.574019Z",
     "iopub.status.idle": "2022-07-12T14:18:06.599081Z",
     "shell.execute_reply": "2022-07-12T14:18:06.598070Z",
     "shell.execute_reply.started": "2022-07-12T14:18:06.574741Z"
    }
   },
   "outputs": [],
   "source": [
    "qW"
   ]
  },
  {
   "cell_type": "markdown",
   "metadata": {},
   "source": [
    "All weights objects have a few traits that you can use to work with the weights object, as well as to get information about the weights object. \n",
    "\n",
    "To get the neighbors & weights around an observation, use the observation's index on the weights object, like a dictionary:"
   ]
  },
  {
   "cell_type": "code",
   "execution_count": null,
   "metadata": {
    "execution": {
     "iopub.execute_input": "2022-07-12T14:18:27.031854Z",
     "iopub.status.busy": "2022-07-12T14:18:27.031390Z",
     "iopub.status.idle": "2022-07-12T14:18:27.042004Z",
     "shell.execute_reply": "2022-07-12T14:18:27.040617Z",
     "shell.execute_reply.started": "2022-07-12T14:18:27.031824Z"
    }
   },
   "outputs": [],
   "source": [
    "qW[155] #neighbors & weights of the 156th observation (0-index remember)"
   ]
  },
  {
   "cell_type": "markdown",
   "metadata": {},
   "source": [
    "By default, the weights and the pandas dataframe will use the same index. So, we can view the observation and its neighbors in the dataframe by putting the observation's index and its neighbors' indexes together in one list:"
   ]
  },
  {
   "cell_type": "code",
   "execution_count": null,
   "metadata": {
    "execution": {
     "iopub.execute_input": "2022-07-12T14:20:08.956334Z",
     "iopub.status.busy": "2022-07-12T14:20:08.955890Z",
     "iopub.status.idle": "2022-07-12T14:20:08.975768Z",
     "shell.execute_reply": "2022-07-12T14:20:08.973696Z",
     "shell.execute_reply.started": "2022-07-12T14:20:08.956308Z"
    },
    "tags": []
   },
   "outputs": [],
   "source": [
    "self_and_neighbors = [155]\n",
    "self_and_neighbors.extend(qW.neighbors[155])\n",
    "print(self_and_neighbors)"
   ]
  },
  {
   "cell_type": "markdown",
   "metadata": {},
   "source": [
    "and grabbing those elements from the dataframe:"
   ]
  },
  {
   "cell_type": "code",
   "execution_count": null,
   "metadata": {
    "execution": {
     "iopub.execute_input": "2022-07-12T14:21:47.036622Z",
     "iopub.status.busy": "2022-07-12T14:21:47.035842Z",
     "iopub.status.idle": "2022-07-12T14:21:47.148090Z",
     "shell.execute_reply": "2022-07-12T14:21:47.147722Z",
     "shell.execute_reply.started": "2022-07-12T14:21:47.036591Z"
    },
    "tags": []
   },
   "outputs": [],
   "source": [
    "df.loc[self_and_neighbors].reset_index().plot('index')"
   ]
  },
  {
   "cell_type": "markdown",
   "metadata": {},
   "source": [
    "A full, dense matrix describing all of the pairwise relationships is constructed using the `.full` method, or when `libpysal.weights.full` is called on a weights object:"
   ]
  },
  {
   "cell_type": "code",
   "execution_count": null,
   "metadata": {
    "execution": {
     "iopub.execute_input": "2022-07-12T14:20:57.731283Z",
     "iopub.status.busy": "2022-07-12T14:20:57.726655Z",
     "iopub.status.idle": "2022-07-12T14:20:57.764132Z",
     "shell.execute_reply": "2022-07-12T14:20:57.763569Z",
     "shell.execute_reply.started": "2022-07-12T14:20:57.731241Z"
    }
   },
   "outputs": [],
   "source": [
    "Wmatrix, ids = qW.full()\n",
    "#Wmatrix, ids = libpysal.weights.full(qW)"
   ]
  },
  {
   "cell_type": "code",
   "execution_count": null,
   "metadata": {
    "execution": {
     "iopub.execute_input": "2022-07-12T14:21:00.032342Z",
     "iopub.status.busy": "2022-07-12T14:21:00.031551Z",
     "iopub.status.idle": "2022-07-12T14:21:00.053573Z",
     "shell.execute_reply": "2022-07-12T14:21:00.052508Z",
     "shell.execute_reply.started": "2022-07-12T14:21:00.032305Z"
    }
   },
   "outputs": [],
   "source": [
    "Wmatrix"
   ]
  },
  {
   "cell_type": "code",
   "execution_count": null,
   "metadata": {
    "execution": {
     "iopub.execute_input": "2022-07-12T14:21:05.069485Z",
     "iopub.status.busy": "2022-07-12T14:21:05.069021Z",
     "iopub.status.idle": "2022-07-12T14:21:05.104343Z",
     "shell.execute_reply": "2022-07-12T14:21:05.102504Z",
     "shell.execute_reply.started": "2022-07-12T14:21:05.069457Z"
    }
   },
   "outputs": [],
   "source": [
    "n_neighbors = Wmatrix.sum(axis=1) # how many neighbors each region has"
   ]
  },
  {
   "cell_type": "code",
   "execution_count": null,
   "metadata": {
    "execution": {
     "iopub.execute_input": "2022-07-12T14:21:14.480978Z",
     "iopub.status.busy": "2022-07-12T14:21:14.479791Z",
     "iopub.status.idle": "2022-07-12T14:21:14.494322Z",
     "shell.execute_reply": "2022-07-12T14:21:14.493314Z",
     "shell.execute_reply.started": "2022-07-12T14:21:14.480916Z"
    },
    "tags": []
   },
   "outputs": [],
   "source": [
    "n_neighbors[155]"
   ]
  },
  {
   "cell_type": "code",
   "execution_count": null,
   "metadata": {
    "execution": {
     "iopub.execute_input": "2022-07-12T14:22:05.884106Z",
     "iopub.status.busy": "2022-07-12T14:22:05.883694Z",
     "iopub.status.idle": "2022-07-12T14:22:05.898505Z",
     "shell.execute_reply": "2022-07-12T14:22:05.897693Z",
     "shell.execute_reply.started": "2022-07-12T14:22:05.884081Z"
    }
   },
   "outputs": [],
   "source": [
    "qW.cardinalities[155]"
   ]
  },
  {
   "cell_type": "markdown",
   "metadata": {},
   "source": [
    "Note that this matrix is binary, in that its elements are either zero or one, since an observation is either a neighbor or it is not a neighbor. \n",
    "\n",
    "However, many common use cases of spatial weights require that the matrix is row-standardized. This is done simply in PySAL using the `.transform` attribute"
   ]
  },
  {
   "cell_type": "code",
   "execution_count": null,
   "metadata": {
    "execution": {
     "iopub.execute_input": "2022-07-12T14:22:53.710105Z",
     "iopub.status.busy": "2022-07-12T14:22:53.709300Z",
     "iopub.status.idle": "2022-07-12T14:22:53.733231Z",
     "shell.execute_reply": "2022-07-12T14:22:53.732748Z",
     "shell.execute_reply.started": "2022-07-12T14:22:53.710027Z"
    }
   },
   "outputs": [],
   "source": [
    "qW.transform = 'r'"
   ]
  },
  {
   "cell_type": "markdown",
   "metadata": {},
   "source": [
    "Now, if we build a new full matrix, its rows should sum to one:"
   ]
  },
  {
   "cell_type": "code",
   "execution_count": null,
   "metadata": {
    "execution": {
     "iopub.execute_input": "2022-07-12T14:23:54.061101Z",
     "iopub.status.busy": "2022-07-12T14:23:54.060265Z",
     "iopub.status.idle": "2022-07-12T14:23:54.107228Z",
     "shell.execute_reply": "2022-07-12T14:23:54.106826Z",
     "shell.execute_reply.started": "2022-07-12T14:23:54.061058Z"
    },
    "tags": []
   },
   "outputs": [],
   "source": [
    "Wmatrix, ids = qW.full()"
   ]
  },
  {
   "cell_type": "code",
   "execution_count": null,
   "metadata": {
    "execution": {
     "iopub.execute_input": "2022-07-12T14:22:58.059707Z",
     "iopub.status.busy": "2022-07-12T14:22:58.059302Z",
     "iopub.status.idle": "2022-07-12T14:22:58.099117Z",
     "shell.execute_reply": "2022-07-12T14:22:58.098594Z",
     "shell.execute_reply.started": "2022-07-12T14:22:58.059682Z"
    }
   },
   "outputs": [],
   "source": [
    "Wmatrix.sum(axis=1) #numpy axes are 0:column, 1:row, 2:facet, into higher dimensions"
   ]
  },
  {
   "cell_type": "markdown",
   "metadata": {},
   "source": [
    "Since weight matrices are typically very sparse, there is also a sparse weights matrix constructor:"
   ]
  },
  {
   "cell_type": "code",
   "execution_count": null,
   "metadata": {
    "execution": {
     "iopub.execute_input": "2022-07-12T14:23:44.947493Z",
     "iopub.status.busy": "2022-07-12T14:23:44.946726Z",
     "iopub.status.idle": "2022-07-12T14:23:44.968355Z",
     "shell.execute_reply": "2022-07-12T14:23:44.964497Z",
     "shell.execute_reply.started": "2022-07-12T14:23:44.947443Z"
    },
    "tags": []
   },
   "outputs": [],
   "source": [
    "qW.sparse"
   ]
  },
  {
   "cell_type": "code",
   "execution_count": null,
   "metadata": {
    "execution": {
     "iopub.execute_input": "2022-07-12T14:23:57.023649Z",
     "iopub.status.busy": "2022-07-12T14:23:57.022300Z",
     "iopub.status.idle": "2022-07-12T14:23:57.034698Z",
     "shell.execute_reply": "2022-07-12T14:23:57.033996Z",
     "shell.execute_reply.started": "2022-07-12T14:23:57.023586Z"
    },
    "tags": []
   },
   "outputs": [],
   "source": [
    "qW.pct_nonzero #Percentage of nonzero neighbor counts"
   ]
  },
  {
   "cell_type": "markdown",
   "metadata": {},
   "source": [
    "Let's look at the neighborhoods of the 101th observation"
   ]
  },
  {
   "cell_type": "code",
   "execution_count": null,
   "metadata": {
    "execution": {
     "iopub.execute_input": "2022-07-12T14:24:10.662398Z",
     "iopub.status.busy": "2022-07-12T14:24:10.660746Z",
     "iopub.status.idle": "2022-07-12T14:24:10.677127Z",
     "shell.execute_reply": "2022-07-12T14:24:10.676565Z",
     "shell.execute_reply.started": "2022-07-12T14:24:10.662334Z"
    }
   },
   "outputs": [],
   "source": [
    "df.iloc[100]"
   ]
  },
  {
   "cell_type": "code",
   "execution_count": null,
   "metadata": {
    "execution": {
     "iopub.execute_input": "2022-07-12T14:24:21.592946Z",
     "iopub.status.busy": "2022-07-12T14:24:21.592489Z",
     "iopub.status.idle": "2022-07-12T14:24:21.601453Z",
     "shell.execute_reply": "2022-07-12T14:24:21.600673Z",
     "shell.execute_reply.started": "2022-07-12T14:24:21.592920Z"
    }
   },
   "outputs": [],
   "source": [
    "qW.neighbors[100]"
   ]
  },
  {
   "cell_type": "code",
   "execution_count": null,
   "metadata": {
    "execution": {
     "iopub.execute_input": "2022-07-12T14:24:27.091272Z",
     "iopub.status.busy": "2022-07-12T14:24:27.090776Z",
     "iopub.status.idle": "2022-07-12T14:24:27.098806Z",
     "shell.execute_reply": "2022-07-12T14:24:27.098102Z",
     "shell.execute_reply.started": "2022-07-12T14:24:27.091244Z"
    }
   },
   "outputs": [],
   "source": [
    "len(qW.neighbors[100])"
   ]
  },
  {
   "cell_type": "code",
   "execution_count": null,
   "metadata": {
    "execution": {
     "iopub.execute_input": "2022-07-12T14:24:31.913105Z",
     "iopub.status.busy": "2022-07-12T14:24:31.912644Z",
     "iopub.status.idle": "2022-07-12T14:24:31.952679Z",
     "shell.execute_reply": "2022-07-12T14:24:31.952164Z",
     "shell.execute_reply.started": "2022-07-12T14:24:31.913078Z"
    }
   },
   "outputs": [],
   "source": [
    "df.iloc[qW.neighbors[100]]"
   ]
  },
  {
   "cell_type": "code",
   "execution_count": null,
   "metadata": {
    "execution": {
     "iopub.execute_input": "2022-07-12T14:24:54.714313Z",
     "iopub.status.busy": "2022-07-12T14:24:54.713323Z",
     "iopub.status.idle": "2022-07-12T14:24:56.350253Z",
     "shell.execute_reply": "2022-07-12T14:24:56.349935Z",
     "shell.execute_reply.started": "2022-07-12T14:24:54.714232Z"
    }
   },
   "outputs": [],
   "source": [
    "plot_spatial_weights(qW, df)"
   ]
  },
  {
   "cell_type": "code",
   "execution_count": null,
   "metadata": {
    "execution": {
     "iopub.execute_input": "2022-07-12T14:28:16.073311Z",
     "iopub.status.busy": "2022-07-12T14:28:16.072604Z",
     "iopub.status.idle": "2022-07-12T14:28:16.083538Z",
     "shell.execute_reply": "2022-07-12T14:28:16.082662Z",
     "shell.execute_reply.started": "2022-07-12T14:28:16.073263Z"
    },
    "tags": []
   },
   "outputs": [],
   "source": [
    "np.unique(qW.component_labels)"
   ]
  },
  {
   "cell_type": "markdown",
   "metadata": {},
   "source": [
    "By default, PySAL assigns each observation an index according to the order in which the observation was read in. This means that, by default, all of the observations in the weights object are indexed by table order."
   ]
  },
  {
   "cell_type": "code",
   "execution_count": null,
   "metadata": {
    "execution": {
     "iopub.execute_input": "2022-07-12T14:28:22.849018Z",
     "iopub.status.busy": "2022-07-12T14:28:22.848208Z",
     "iopub.status.idle": "2022-07-12T14:28:22.950839Z",
     "shell.execute_reply": "2022-07-12T14:28:22.950489Z",
     "shell.execute_reply.started": "2022-07-12T14:28:22.848961Z"
    }
   },
   "outputs": [],
   "source": [
    "pandas.Series(qW.cardinalities).plot.hist(bins=9)"
   ]
  },
  {
   "cell_type": "markdown",
   "metadata": {},
   "source": [
    "### Components"
   ]
  },
  {
   "cell_type": "code",
   "execution_count": null,
   "metadata": {
    "execution": {
     "iopub.execute_input": "2022-07-12T14:29:23.297311Z",
     "iopub.status.busy": "2022-07-12T14:29:23.296191Z",
     "iopub.status.idle": "2022-07-12T14:29:23.342079Z",
     "shell.execute_reply": "2022-07-12T14:29:23.332581Z",
     "shell.execute_reply.started": "2022-07-12T14:29:23.297239Z"
    }
   },
   "outputs": [],
   "source": [
    "qW.component_labels"
   ]
  },
  {
   "cell_type": "code",
   "execution_count": null,
   "metadata": {
    "execution": {
     "iopub.execute_input": "2022-07-12T14:29:44.266468Z",
     "iopub.status.busy": "2022-07-12T14:29:44.264943Z",
     "iopub.status.idle": "2022-07-12T14:29:44.281662Z",
     "shell.execute_reply": "2022-07-12T14:29:44.278894Z",
     "shell.execute_reply.started": "2022-07-12T14:29:44.266405Z"
    }
   },
   "outputs": [],
   "source": [
    "df['component'] = qW.component_labels"
   ]
  },
  {
   "cell_type": "code",
   "execution_count": null,
   "metadata": {
    "execution": {
     "iopub.execute_input": "2022-07-12T14:31:00.415244Z",
     "iopub.status.busy": "2022-07-12T14:31:00.414471Z",
     "iopub.status.idle": "2022-07-12T14:31:04.146964Z",
     "shell.execute_reply": "2022-07-12T14:31:04.146570Z",
     "shell.execute_reply.started": "2022-07-12T14:31:00.415202Z"
    },
    "tags": []
   },
   "outputs": [],
   "source": [
    "df.explore(column='component', tooltip=['component', 'geoid'], categorical=True, cmap='Set1')"
   ]
  },
  {
   "cell_type": "code",
   "execution_count": null,
   "metadata": {
    "execution": {
     "iopub.execute_input": "2022-07-12T14:31:24.320154Z",
     "iopub.status.busy": "2022-07-12T14:31:24.319388Z",
     "iopub.status.idle": "2022-07-12T14:31:24.403373Z",
     "shell.execute_reply": "2022-07-12T14:31:24.402167Z",
     "shell.execute_reply.started": "2022-07-12T14:31:24.320104Z"
    }
   },
   "outputs": [],
   "source": [
    "df[df.component==2].explore()"
   ]
  },
  {
   "cell_type": "code",
   "execution_count": null,
   "metadata": {
    "execution": {
     "iopub.execute_input": "2022-07-12T14:31:31.834683Z",
     "iopub.status.busy": "2022-07-12T14:31:31.833872Z",
     "iopub.status.idle": "2022-07-12T14:31:31.864976Z",
     "shell.execute_reply": "2022-07-12T14:31:31.864586Z",
     "shell.execute_reply.started": "2022-07-12T14:31:31.834650Z"
    }
   },
   "outputs": [],
   "source": [
    "df[df.component==2].head()"
   ]
  },
  {
   "cell_type": "code",
   "execution_count": null,
   "metadata": {
    "execution": {
     "iopub.execute_input": "2022-07-12T14:32:12.207816Z",
     "iopub.status.busy": "2022-07-12T14:32:12.206781Z",
     "iopub.status.idle": "2022-07-12T14:32:12.228352Z",
     "shell.execute_reply": "2022-07-12T14:32:12.227899Z",
     "shell.execute_reply.started": "2022-07-12T14:32:12.207781Z"
    },
    "tags": []
   },
   "outputs": [],
   "source": [
    "qW.neighbors[4285]"
   ]
  },
  {
   "cell_type": "code",
   "execution_count": null,
   "metadata": {
    "execution": {
     "iopub.execute_input": "2022-07-12T14:32:18.059950Z",
     "iopub.status.busy": "2022-07-12T14:32:18.058987Z",
     "iopub.status.idle": "2022-07-12T14:32:18.091198Z",
     "shell.execute_reply": "2022-07-12T14:32:18.090761Z",
     "shell.execute_reply.started": "2022-07-12T14:32:18.059899Z"
    }
   },
   "outputs": [],
   "source": [
    "df[df.component==1].head()"
   ]
  },
  {
   "cell_type": "code",
   "execution_count": null,
   "metadata": {
    "execution": {
     "iopub.execute_input": "2022-07-12T14:32:23.910640Z",
     "iopub.status.busy": "2022-07-12T14:32:23.910166Z",
     "iopub.status.idle": "2022-07-12T14:32:23.918858Z",
     "shell.execute_reply": "2022-07-12T14:32:23.918285Z",
     "shell.execute_reply.started": "2022-07-12T14:32:23.910615Z"
    }
   },
   "outputs": [],
   "source": [
    "qW.neighbors[2000]"
   ]
  },
  {
   "cell_type": "code",
   "execution_count": null,
   "metadata": {
    "execution": {
     "iopub.execute_input": "2022-07-12T14:32:31.140762Z",
     "iopub.status.busy": "2022-07-12T14:32:31.140071Z",
     "iopub.status.idle": "2022-07-12T14:32:31.153970Z",
     "shell.execute_reply": "2022-07-12T14:32:31.152493Z",
     "shell.execute_reply.started": "2022-07-12T14:32:31.140714Z"
    }
   },
   "outputs": [],
   "source": [
    "qW.neighbors[3021]"
   ]
  },
  {
   "cell_type": "code",
   "execution_count": null,
   "metadata": {
    "execution": {
     "iopub.execute_input": "2022-07-12T14:32:43.509209Z",
     "iopub.status.busy": "2022-07-12T14:32:43.508112Z",
     "iopub.status.idle": "2022-07-12T14:32:43.581118Z",
     "shell.execute_reply": "2022-07-12T14:32:43.580485Z",
     "shell.execute_reply.started": "2022-07-12T14:32:43.509150Z"
    }
   },
   "outputs": [],
   "source": [
    "df[df.component==1].explore()"
   ]
  },
  {
   "cell_type": "code",
   "execution_count": null,
   "metadata": {
    "execution": {
     "iopub.execute_input": "2022-07-12T14:34:29.617465Z",
     "iopub.status.busy": "2022-07-12T14:34:29.616769Z",
     "iopub.status.idle": "2022-07-12T14:34:29.628067Z",
     "shell.execute_reply": "2022-07-12T14:34:29.627205Z",
     "shell.execute_reply.started": "2022-07-12T14:34:29.617412Z"
    }
   },
   "outputs": [],
   "source": [
    "c1 = df[df.component==1]"
   ]
  },
  {
   "cell_type": "code",
   "execution_count": null,
   "metadata": {
    "execution": {
     "iopub.execute_input": "2022-07-12T14:34:29.985279Z",
     "iopub.status.busy": "2022-07-12T14:34:29.984826Z",
     "iopub.status.idle": "2022-07-12T14:34:29.994057Z",
     "shell.execute_reply": "2022-07-12T14:34:29.993368Z",
     "shell.execute_reply.started": "2022-07-12T14:34:29.985250Z"
    }
   },
   "outputs": [],
   "source": [
    "c1.geometry"
   ]
  },
  {
   "cell_type": "code",
   "execution_count": null,
   "metadata": {
    "execution": {
     "iopub.execute_input": "2022-07-12T14:34:30.358873Z",
     "iopub.status.busy": "2022-07-12T14:34:30.358190Z",
     "iopub.status.idle": "2022-07-12T14:34:30.381375Z",
     "shell.execute_reply": "2022-07-12T14:34:30.380248Z",
     "shell.execute_reply.started": "2022-07-12T14:34:30.358840Z"
    }
   },
   "outputs": [],
   "source": [
    "c1.geometry[2000]"
   ]
  },
  {
   "cell_type": "code",
   "execution_count": null,
   "metadata": {
    "execution": {
     "iopub.execute_input": "2022-07-12T14:34:30.850420Z",
     "iopub.status.busy": "2022-07-12T14:34:30.849639Z",
     "iopub.status.idle": "2022-07-12T14:34:30.869683Z",
     "shell.execute_reply": "2022-07-12T14:34:30.868862Z",
     "shell.execute_reply.started": "2022-07-12T14:34:30.850385Z"
    }
   },
   "outputs": [],
   "source": [
    "c1.geometry[3021]"
   ]
  },
  {
   "cell_type": "code",
   "execution_count": null,
   "metadata": {
    "execution": {
     "iopub.execute_input": "2022-07-12T14:34:37.780598Z",
     "iopub.status.busy": "2022-07-12T14:34:37.779834Z",
     "iopub.status.idle": "2022-07-12T14:34:37.794806Z",
     "shell.execute_reply": "2022-07-12T14:34:37.793872Z",
     "shell.execute_reply.started": "2022-07-12T14:34:37.780562Z"
    }
   },
   "outputs": [],
   "source": [
    "c1.geometry[2000].boundary.coords.xy"
   ]
  },
  {
   "cell_type": "code",
   "execution_count": null,
   "metadata": {
    "execution": {
     "iopub.execute_input": "2022-07-12T14:34:39.532484Z",
     "iopub.status.busy": "2022-07-12T14:34:39.531728Z",
     "iopub.status.idle": "2022-07-12T14:34:39.551640Z",
     "shell.execute_reply": "2022-07-12T14:34:39.549324Z",
     "shell.execute_reply.started": "2022-07-12T14:34:39.532449Z"
    }
   },
   "outputs": [],
   "source": [
    "c1.geometry[3021]"
   ]
  },
  {
   "cell_type": "code",
   "execution_count": null,
   "metadata": {
    "execution": {
     "iopub.execute_input": "2022-07-12T14:34:42.338644Z",
     "iopub.status.busy": "2022-07-12T14:34:42.338239Z",
     "iopub.status.idle": "2022-07-12T14:34:42.364786Z",
     "shell.execute_reply": "2022-07-12T14:34:42.363982Z",
     "shell.execute_reply.started": "2022-07-12T14:34:42.338620Z"
    }
   },
   "outputs": [],
   "source": [
    "c1.head()"
   ]
  },
  {
   "cell_type": "code",
   "execution_count": null,
   "metadata": {
    "execution": {
     "iopub.execute_input": "2022-07-12T14:34:45.854768Z",
     "iopub.status.busy": "2022-07-12T14:34:45.853756Z",
     "iopub.status.idle": "2022-07-12T14:34:45.884947Z",
     "shell.execute_reply": "2022-07-12T14:34:45.884442Z",
     "shell.execute_reply.started": "2022-07-12T14:34:45.854707Z"
    }
   },
   "outputs": [],
   "source": [
    "c1e = c1.explode()\n",
    "c1e.head()"
   ]
  },
  {
   "cell_type": "code",
   "execution_count": null,
   "metadata": {
    "execution": {
     "iopub.execute_input": "2022-07-12T14:35:36.459378Z",
     "iopub.status.busy": "2022-07-12T14:35:36.458918Z",
     "iopub.status.idle": "2022-07-12T14:35:36.477488Z",
     "shell.execute_reply": "2022-07-12T14:35:36.476745Z",
     "shell.execute_reply.started": "2022-07-12T14:35:36.459349Z"
    }
   },
   "outputs": [],
   "source": [
    "coords = []\n",
    "for geom in c1e.geometry:\n",
    "    coords.append( set(list(zip(*geom.boundary.coords.xy))) )"
   ]
  },
  {
   "cell_type": "code",
   "execution_count": null,
   "metadata": {
    "execution": {
     "iopub.execute_input": "2022-07-12T14:35:36.668116Z",
     "iopub.status.busy": "2022-07-12T14:35:36.667609Z",
     "iopub.status.idle": "2022-07-12T14:35:36.698748Z",
     "shell.execute_reply": "2022-07-12T14:35:36.696499Z",
     "shell.execute_reply.started": "2022-07-12T14:35:36.668086Z"
    }
   },
   "outputs": [],
   "source": [
    "coords[0].intersection(coords[1])"
   ]
  },
  {
   "cell_type": "code",
   "execution_count": null,
   "metadata": {
    "execution": {
     "iopub.execute_input": "2022-07-12T14:35:36.841413Z",
     "iopub.status.busy": "2022-07-12T14:35:36.840952Z",
     "iopub.status.idle": "2022-07-12T14:35:36.849938Z",
     "shell.execute_reply": "2022-07-12T14:35:36.848861Z",
     "shell.execute_reply.started": "2022-07-12T14:35:36.841386Z"
    }
   },
   "outputs": [],
   "source": [
    "coords[0].intersection(coords[2])"
   ]
  },
  {
   "cell_type": "code",
   "execution_count": null,
   "metadata": {
    "execution": {
     "iopub.execute_input": "2022-07-12T14:35:37.044517Z",
     "iopub.status.busy": "2022-07-12T14:35:37.044052Z",
     "iopub.status.idle": "2022-07-12T14:35:37.053213Z",
     "shell.execute_reply": "2022-07-12T14:35:37.052190Z",
     "shell.execute_reply.started": "2022-07-12T14:35:37.044487Z"
    }
   },
   "outputs": [],
   "source": [
    "coords[1].intersection(coords[2])"
   ]
  },
  {
   "cell_type": "code",
   "execution_count": null,
   "metadata": {
    "execution": {
     "iopub.execute_input": "2022-07-12T14:35:37.640945Z",
     "iopub.status.busy": "2022-07-12T14:35:37.640241Z",
     "iopub.status.idle": "2022-07-12T14:35:37.718962Z",
     "shell.execute_reply": "2022-07-12T14:35:37.718218Z",
     "shell.execute_reply.started": "2022-07-12T14:35:37.640911Z"
    }
   },
   "outputs": [],
   "source": [
    "c1e.explore(tooltip=['geoid'])"
   ]
  },
  {
   "cell_type": "code",
   "execution_count": null,
   "metadata": {},
   "outputs": [],
   "source": [
    "c1e[c1e.geoid==\"06037599000\"].explore(tooltip=['geoid'])"
   ]
  },
  {
   "cell_type": "markdown",
   "metadata": {},
   "source": [
    "#### Rook Weights"
   ]
  },
  {
   "cell_type": "markdown",
   "metadata": {},
   "source": [
    "Rook weights are another type of contiguity weight, but consider observations as neighboring only when they share an edge. The rook neighbors of an observation may be different than its queen neighbors, depending on how the observation and its nearby polygons are configured. \n",
    "\n",
    "We can construct this in the same way as the queen weights:"
   ]
  },
  {
   "cell_type": "code",
   "execution_count": null,
   "metadata": {
    "execution": {
     "iopub.execute_input": "2022-07-12T14:36:12.786357Z",
     "iopub.status.busy": "2022-07-12T14:36:12.785886Z",
     "iopub.status.idle": "2022-07-12T14:36:13.439741Z",
     "shell.execute_reply": "2022-07-12T14:36:13.439438Z",
     "shell.execute_reply.started": "2022-07-12T14:36:12.786331Z"
    }
   },
   "outputs": [],
   "source": [
    "rW = Rook.from_dataframe(df)"
   ]
  },
  {
   "cell_type": "code",
   "execution_count": null,
   "metadata": {
    "execution": {
     "iopub.execute_input": "2022-07-12T14:36:30.218426Z",
     "iopub.status.busy": "2022-07-12T14:36:30.218194Z",
     "iopub.status.idle": "2022-07-12T14:36:30.223485Z",
     "shell.execute_reply": "2022-07-12T14:36:30.222554Z",
     "shell.execute_reply.started": "2022-07-12T14:36:30.218408Z"
    },
    "tags": []
   },
   "outputs": [],
   "source": [
    "rW.neighbors[100]"
   ]
  },
  {
   "cell_type": "code",
   "execution_count": null,
   "metadata": {},
   "outputs": [],
   "source": []
  },
  {
   "cell_type": "code",
   "execution_count": null,
   "metadata": {
    "execution": {
     "iopub.execute_input": "2022-07-12T14:36:30.560300Z",
     "iopub.status.busy": "2022-07-12T14:36:30.559516Z",
     "iopub.status.idle": "2022-07-12T14:36:30.593348Z",
     "shell.execute_reply": "2022-07-12T14:36:30.592547Z",
     "shell.execute_reply.started": "2022-07-12T14:36:30.560261Z"
    }
   },
   "outputs": [],
   "source": [
    "len(rW.neighbors[100])"
   ]
  },
  {
   "cell_type": "code",
   "execution_count": null,
   "metadata": {
    "execution": {
     "iopub.execute_input": "2022-07-12T14:36:34.381203Z",
     "iopub.status.busy": "2022-07-12T14:36:34.380074Z",
     "iopub.status.idle": "2022-07-12T14:36:34.420786Z",
     "shell.execute_reply": "2022-07-12T14:36:34.420317Z",
     "shell.execute_reply.started": "2022-07-12T14:36:34.381153Z"
    }
   },
   "outputs": [],
   "source": [
    "df.iloc[rW.neighbors[100]]"
   ]
  },
  {
   "cell_type": "code",
   "execution_count": null,
   "metadata": {
    "execution": {
     "iopub.execute_input": "2022-07-12T14:37:15.286467Z",
     "iopub.status.busy": "2022-07-12T14:37:15.285601Z",
     "iopub.status.idle": "2022-07-12T14:37:16.633754Z",
     "shell.execute_reply": "2022-07-12T14:37:16.633448Z",
     "shell.execute_reply.started": "2022-07-12T14:37:15.286426Z"
    },
    "tags": []
   },
   "outputs": [],
   "source": [
    "plot_spatial_weights(rW, df)"
   ]
  },
  {
   "cell_type": "code",
   "execution_count": null,
   "metadata": {
    "execution": {
     "iopub.execute_input": "2022-07-12T14:37:47.074632Z",
     "iopub.status.busy": "2022-07-12T14:37:47.074136Z",
     "iopub.status.idle": "2022-07-12T14:37:47.186226Z",
     "shell.execute_reply": "2022-07-12T14:37:47.185820Z",
     "shell.execute_reply.started": "2022-07-12T14:37:47.074607Z"
    },
    "tags": []
   },
   "outputs": [],
   "source": [
    "pandas.Series(rW.cardinalities).plot.hist(bins=9)"
   ]
  },
  {
   "cell_type": "markdown",
   "metadata": {},
   "source": [
    "#### Bishop Weights"
   ]
  },
  {
   "cell_type": "markdown",
   "metadata": {},
   "source": [
    "In theory, a \"Bishop\" weighting scheme is one that arises when only polygons that share vertexes are considered to be neighboring. But, since Queen contiguigy requires either an edge or a vertex and Rook contiguity requires only shared edges, the following relationship is true:\n",
    "\n",
    "$$ \\mathcal{Q} = \\mathcal{R} \\cup \\mathcal{B} $$\n",
    "\n",
    "where $\\mathcal{Q}$ is the set of neighbor pairs *via* queen contiguity, $\\mathcal{R}$ is the set of neighbor pairs *via* Rook contiguity, and $\\mathcal{B}$ *via* Bishop contiguity. Thus:\n",
    "\n",
    "$$ \\mathcal{Q} \\setminus \\mathcal{R} = \\mathcal{B}$$\n",
    "\n",
    "Bishop weights entail all Queen neighbor pairs that are not also Rook neighbors.\n",
    "\n",
    "PySAL does not have a dedicated bishop weights constructor, but you can construct very easily using the `w_difference` function. This function is one of a family of tools to work with weights, all defined in `libpysal.weights`, that conduct these types of set operations between weight objects."
   ]
  },
  {
   "cell_type": "code",
   "execution_count": null,
   "metadata": {
    "execution": {
     "iopub.execute_input": "2022-07-12T14:38:29.022364Z",
     "iopub.status.busy": "2022-07-12T14:38:29.021605Z",
     "iopub.status.idle": "2022-07-12T14:38:29.060473Z",
     "shell.execute_reply": "2022-07-12T14:38:29.060024Z",
     "shell.execute_reply.started": "2022-07-12T14:38:29.022327Z"
    }
   },
   "outputs": [],
   "source": [
    "bW = libpysal.weights.w_difference(qW, rW, constrained=False)"
   ]
  },
  {
   "cell_type": "code",
   "execution_count": null,
   "metadata": {
    "execution": {
     "iopub.execute_input": "2022-07-12T14:38:43.389095Z",
     "iopub.status.busy": "2022-07-12T14:38:43.388041Z",
     "iopub.status.idle": "2022-07-12T14:38:43.714654Z",
     "shell.execute_reply": "2022-07-12T14:38:43.714276Z",
     "shell.execute_reply.started": "2022-07-12T14:38:43.389037Z"
    }
   },
   "outputs": [],
   "source": [
    "bW = libpysal.weights.w_difference(qW, rW, constrained=False)"
   ]
  },
  {
   "cell_type": "code",
   "execution_count": null,
   "metadata": {},
   "outputs": [],
   "source": []
  },
  {
   "cell_type": "code",
   "execution_count": null,
   "metadata": {
    "execution": {
     "iopub.execute_input": "2022-07-12T14:38:44.405918Z",
     "iopub.status.busy": "2022-07-12T14:38:44.404869Z",
     "iopub.status.idle": "2022-07-12T14:38:44.428360Z",
     "shell.execute_reply": "2022-07-12T14:38:44.427106Z",
     "shell.execute_reply.started": "2022-07-12T14:38:44.405858Z"
    }
   },
   "outputs": [],
   "source": [
    "bW.histogram"
   ]
  },
  {
   "cell_type": "markdown",
   "metadata": {},
   "source": [
    "Thus, many tracts have no bishop neighbors. But, a few do. A simple way to see these observations in the dataframe is to find all elements of the dataframe that are not \"islands,\" the term for an observation with no neighbors:"
   ]
  },
  {
   "cell_type": "code",
   "execution_count": null,
   "metadata": {
    "execution": {
     "iopub.execute_input": "2022-07-12T14:38:46.583129Z",
     "iopub.status.busy": "2022-07-12T14:38:46.580734Z",
     "iopub.status.idle": "2022-07-12T14:38:47.517080Z",
     "shell.execute_reply": "2022-07-12T14:38:47.516768Z",
     "shell.execute_reply.started": "2022-07-12T14:38:46.583075Z"
    }
   },
   "outputs": [],
   "source": [
    "plot_spatial_weights(bW, df)"
   ]
  },
  {
   "cell_type": "markdown",
   "metadata": {},
   "source": [
    "## Distance"
   ]
  },
  {
   "cell_type": "markdown",
   "metadata": {},
   "source": [
    "There are many other kinds of weighting functions in PySAL. Another separate type use a continuous measure of distance to define neighborhoods. "
   ]
  },
  {
   "cell_type": "code",
   "execution_count": null,
   "metadata": {
    "execution": {
     "iopub.execute_input": "2022-07-12T14:40:33.111747Z",
     "iopub.status.busy": "2022-07-12T14:40:33.111310Z",
     "iopub.status.idle": "2022-07-12T14:40:33.122371Z",
     "shell.execute_reply": "2022-07-12T14:40:33.120266Z",
     "shell.execute_reply.started": "2022-07-12T14:40:33.111720Z"
    }
   },
   "outputs": [],
   "source": [
    "df.crs"
   ]
  },
  {
   "cell_type": "markdown",
   "metadata": {},
   "source": [
    "Our coordinate system (UTM 11N) measures distance in meters, so that's how we'll define our neighbors"
   ]
  },
  {
   "cell_type": "code",
   "execution_count": null,
   "metadata": {
    "execution": {
     "iopub.execute_input": "2022-07-12T14:40:56.581641Z",
     "iopub.status.busy": "2022-07-12T14:40:56.580854Z",
     "iopub.status.idle": "2022-07-12T14:40:56.765601Z",
     "shell.execute_reply": "2022-07-12T14:40:56.765299Z",
     "shell.execute_reply.started": "2022-07-12T14:40:56.581605Z"
    }
   },
   "outputs": [],
   "source": [
    "dist_band = DistanceBand.from_dataframe(df, threshold=2000)"
   ]
  },
  {
   "cell_type": "code",
   "execution_count": null,
   "metadata": {
    "execution": {
     "iopub.execute_input": "2022-07-12T14:41:01.438601Z",
     "iopub.status.busy": "2022-07-12T14:41:01.437525Z",
     "iopub.status.idle": "2022-07-12T14:41:03.230899Z",
     "shell.execute_reply": "2022-07-12T14:41:03.230566Z",
     "shell.execute_reply.started": "2022-07-12T14:41:01.438562Z"
    }
   },
   "outputs": [],
   "source": [
    "plot_spatial_weights(dist_band,df)"
   ]
  },
  {
   "cell_type": "code",
   "execution_count": null,
   "metadata": {},
   "outputs": [],
   "source": []
  },
  {
   "cell_type": "markdown",
   "metadata": {},
   "source": [
    "### knn defined weights"
   ]
  },
  {
   "cell_type": "code",
   "execution_count": null,
   "metadata": {
    "execution": {
     "iopub.execute_input": "2022-07-12T14:44:23.224418Z",
     "iopub.status.busy": "2022-07-12T14:44:23.223832Z",
     "iopub.status.idle": "2022-07-12T14:44:23.236476Z",
     "shell.execute_reply": "2022-07-12T14:44:23.235444Z",
     "shell.execute_reply.started": "2022-07-12T14:44:23.224381Z"
    }
   },
   "outputs": [],
   "source": [
    "radius_mile = libpysal.cg.sphere.RADIUS_EARTH_MILES\n",
    "radius_mile"
   ]
  },
  {
   "cell_type": "code",
   "execution_count": null,
   "metadata": {
    "execution": {
     "iopub.execute_input": "2022-07-12T14:44:24.527925Z",
     "iopub.status.busy": "2022-07-12T14:44:24.527520Z",
     "iopub.status.idle": "2022-07-12T14:44:24.622269Z",
     "shell.execute_reply": "2022-07-12T14:44:24.621933Z",
     "shell.execute_reply.started": "2022-07-12T14:44:24.527901Z"
    }
   },
   "outputs": [],
   "source": [
    "df_latlong = df.to_crs(4326)"
   ]
  },
  {
   "cell_type": "code",
   "execution_count": null,
   "metadata": {
    "execution": {
     "iopub.execute_input": "2022-07-12T14:44:46.122507Z",
     "iopub.status.busy": "2022-07-12T14:44:46.121719Z",
     "iopub.status.idle": "2022-07-12T14:44:46.292438Z",
     "shell.execute_reply": "2022-07-12T14:44:46.292053Z",
     "shell.execute_reply.started": "2022-07-12T14:44:46.122466Z"
    }
   },
   "outputs": [],
   "source": [
    "knn8_bad = KNN.from_dataframe(df_latlong, k=8) # ignore curvature of the earth"
   ]
  },
  {
   "cell_type": "code",
   "execution_count": null,
   "metadata": {
    "execution": {
     "iopub.execute_input": "2022-07-12T14:44:47.340401Z",
     "iopub.status.busy": "2022-07-12T14:44:47.331664Z",
     "iopub.status.idle": "2022-07-12T14:44:47.348287Z",
     "shell.execute_reply": "2022-07-12T14:44:47.347484Z",
     "shell.execute_reply.started": "2022-07-12T14:44:47.340362Z"
    }
   },
   "outputs": [],
   "source": [
    "knn8_bad.histogram"
   ]
  },
  {
   "cell_type": "code",
   "execution_count": null,
   "metadata": {
    "execution": {
     "iopub.execute_input": "2022-07-12T14:45:06.374977Z",
     "iopub.status.busy": "2022-07-12T14:45:06.374380Z",
     "iopub.status.idle": "2022-07-12T14:45:06.580135Z",
     "shell.execute_reply": "2022-07-12T14:45:06.579772Z",
     "shell.execute_reply.started": "2022-07-12T14:45:06.374950Z"
    }
   },
   "outputs": [],
   "source": [
    "knn8 = KNN.from_dataframe(df_latlong, k=8, radius=radius_mile)"
   ]
  },
  {
   "cell_type": "code",
   "execution_count": null,
   "metadata": {
    "execution": {
     "iopub.execute_input": "2022-07-12T14:45:06.833042Z",
     "iopub.status.busy": "2022-07-12T14:45:06.832359Z",
     "iopub.status.idle": "2022-07-12T14:45:06.844748Z",
     "shell.execute_reply": "2022-07-12T14:45:06.843764Z",
     "shell.execute_reply.started": "2022-07-12T14:45:06.833008Z"
    }
   },
   "outputs": [],
   "source": [
    "knn8.histogram"
   ]
  },
  {
   "cell_type": "code",
   "execution_count": null,
   "metadata": {
    "execution": {
     "iopub.execute_input": "2022-07-12T14:45:08.318475Z",
     "iopub.status.busy": "2022-07-12T14:45:08.317205Z",
     "iopub.status.idle": "2022-07-12T14:45:08.330182Z",
     "shell.execute_reply": "2022-07-12T14:45:08.329271Z",
     "shell.execute_reply.started": "2022-07-12T14:45:08.318379Z"
    }
   },
   "outputs": [],
   "source": [
    "knn8_bad.neighbors[1487]"
   ]
  },
  {
   "cell_type": "code",
   "execution_count": null,
   "metadata": {
    "execution": {
     "iopub.execute_input": "2022-07-12T14:45:09.022836Z",
     "iopub.status.busy": "2022-07-12T14:45:09.022013Z",
     "iopub.status.idle": "2022-07-12T14:45:09.035573Z",
     "shell.execute_reply": "2022-07-12T14:45:09.034000Z",
     "shell.execute_reply.started": "2022-07-12T14:45:09.022799Z"
    }
   },
   "outputs": [],
   "source": [
    "knn8.neighbors[1487]"
   ]
  },
  {
   "cell_type": "code",
   "execution_count": null,
   "metadata": {
    "execution": {
     "iopub.execute_input": "2022-07-12T14:45:38.921978Z",
     "iopub.status.busy": "2022-07-12T14:45:38.921491Z",
     "iopub.status.idle": "2022-07-12T14:45:38.933638Z",
     "shell.execute_reply": "2022-07-12T14:45:38.932681Z",
     "shell.execute_reply.started": "2022-07-12T14:45:38.921947Z"
    }
   },
   "outputs": [],
   "source": [
    "set(knn8_bad.neighbors[1487]) == set(knn8.neighbors[1487])"
   ]
  },
  {
   "cell_type": "markdown",
   "metadata": {},
   "source": [
    "<div class=\"alert alert-success\" style=\"font-size:120%\">\n",
    "<b>Exercise</b>: <br>\n",
    "Enumerate the tracts for which ignoring curvature results in an incorrect neighbor set for knn.\n",
    "</div>"
   ]
  },
  {
   "cell_type": "code",
   "execution_count": null,
   "metadata": {
    "execution": {
     "iopub.execute_input": "2022-07-12T14:48:30.852811Z",
     "iopub.status.busy": "2022-07-12T14:48:30.852292Z",
     "iopub.status.idle": "2022-07-12T14:48:30.887842Z",
     "shell.execute_reply": "2022-07-12T14:48:30.887469Z",
     "shell.execute_reply.started": "2022-07-12T14:48:30.852777Z"
    },
    "tags": []
   },
   "outputs": [],
   "source": [
    "# %load solutions/02_knn.py\n",
    "counter = 0\n",
    "for i, neighbor in enumerate(knn8_bad.neighbors):\n",
    "\n",
    "    if not set(knn8_bad.neighbors[neighbor]) == set(knn8.neighbors[neighbor]):\n",
    "                                      counter +=1\n",
    "print(f\" {counter} ({np.round(len(knn8_bad.neighbors)/counter, 3)}%) of the tracts have incorrect neighbors\")"
   ]
  },
  {
   "cell_type": "markdown",
   "metadata": {},
   "source": [
    "### Kernel W"
   ]
  },
  {
   "cell_type": "markdown",
   "metadata": {},
   "source": [
    "Kernel Weights are continuous distance-based weights that use kernel densities to define the neighbor relationship.\n",
    "Typically, they estimate a `bandwidth`, which is a parameter governing how far out observations should be considered neighboring. Then, using this bandwidth, they evaluate a continuous kernel function to provide a weight between 0 and 1.\n",
    "\n",
    "Many different choices of kernel functions are supported, and bandwidths can either be fixed (constant over all units) or adaptive in function of unit density.\n",
    "\n",
    "For example, if we want to use **adaptive bandwidths for the map and weight according to a gaussian kernel**:"
   ]
  },
  {
   "cell_type": "markdown",
   "metadata": {},
   "source": [
    "#### Adaptive gaussian kernel weights\n",
    "\n",
    "bandwidth = the distance to the kth nearest neighbor for each\n",
    "                  observation\n",
    "   \n",
    "bandwith is changing across observations"
   ]
  },
  {
   "cell_type": "code",
   "execution_count": null,
   "metadata": {},
   "outputs": [],
   "source": [
    "kernelWa = Kernel.from_dataframe(df, k=10, fixed=False, function='gaussian')"
   ]
  },
  {
   "cell_type": "code",
   "execution_count": null,
   "metadata": {
    "execution": {
     "iopub.execute_input": "2022-07-12T14:51:30.483616Z",
     "iopub.status.busy": "2022-07-12T14:51:30.481505Z",
     "iopub.status.idle": "2022-07-12T14:51:32.275304Z",
     "shell.execute_reply": "2022-07-12T14:51:32.274991Z",
     "shell.execute_reply.started": "2022-07-12T14:51:30.483006Z"
    }
   },
   "outputs": [],
   "source": [
    "plot_spatial_weights(kernelWa, df)"
   ]
  },
  {
   "cell_type": "code",
   "execution_count": null,
   "metadata": {
    "execution": {
     "iopub.execute_input": "2022-07-12T14:52:09.341914Z",
     "iopub.status.busy": "2022-07-12T14:52:09.341506Z",
     "iopub.status.idle": "2022-07-12T14:52:09.349397Z",
     "shell.execute_reply": "2022-07-12T14:52:09.348661Z",
     "shell.execute_reply.started": "2022-07-12T14:52:09.341889Z"
    },
    "tags": []
   },
   "outputs": [],
   "source": [
    "kernelWa[155]"
   ]
  },
  {
   "cell_type": "code",
   "execution_count": null,
   "metadata": {
    "execution": {
     "iopub.execute_input": "2022-07-12T14:52:35.566292Z",
     "iopub.status.busy": "2022-07-12T14:52:35.565288Z",
     "iopub.status.idle": "2022-07-12T14:52:35.583326Z",
     "shell.execute_reply": "2022-07-12T14:52:35.582892Z",
     "shell.execute_reply.started": "2022-07-12T14:52:35.566236Z"
    }
   },
   "outputs": [],
   "source": [
    "kernelWa.bandwidth"
   ]
  },
  {
   "cell_type": "code",
   "execution_count": null,
   "metadata": {
    "execution": {
     "iopub.execute_input": "2022-07-12T14:52:37.285274Z",
     "iopub.status.busy": "2022-07-12T14:52:37.284753Z",
     "iopub.status.idle": "2022-07-12T14:52:37.971234Z",
     "shell.execute_reply": "2022-07-12T14:52:37.970786Z",
     "shell.execute_reply.started": "2022-07-12T14:52:37.285247Z"
    }
   },
   "outputs": [],
   "source": [
    "df.assign(bw=kernelWa.bandwidth.flatten()).plot('bw', cmap='Reds')"
   ]
  },
  {
   "cell_type": "markdown",
   "metadata": {},
   "source": [
    "## Block Weights"
   ]
  },
  {
   "cell_type": "code",
   "execution_count": null,
   "metadata": {
    "execution": {
     "iopub.execute_input": "2022-07-12T14:53:19.516118Z",
     "iopub.status.busy": "2022-07-12T14:53:19.515303Z",
     "iopub.status.idle": "2022-07-12T14:53:19.530535Z",
     "shell.execute_reply": "2022-07-12T14:53:19.529040Z",
     "shell.execute_reply.started": "2022-07-12T14:53:19.516077Z"
    }
   },
   "outputs": [],
   "source": [
    "w,s,e,n = df.total_bounds"
   ]
  },
  {
   "cell_type": "code",
   "execution_count": null,
   "metadata": {
    "execution": {
     "iopub.execute_input": "2022-07-12T14:53:23.947677Z",
     "iopub.status.busy": "2022-07-12T14:53:23.947042Z",
     "iopub.status.idle": "2022-07-12T14:53:23.959562Z",
     "shell.execute_reply": "2022-07-12T14:53:23.958853Z",
     "shell.execute_reply.started": "2022-07-12T14:53:23.947647Z"
    }
   },
   "outputs": [],
   "source": [
    "mx = (w+e)/2\n",
    "my = (n+s)/2"
   ]
  },
  {
   "cell_type": "code",
   "execution_count": null,
   "metadata": {
    "execution": {
     "iopub.execute_input": "2022-07-12T14:53:27.003075Z",
     "iopub.status.busy": "2022-07-12T14:53:27.002298Z",
     "iopub.status.idle": "2022-07-12T14:53:27.012786Z",
     "shell.execute_reply": "2022-07-12T14:53:27.011869Z",
     "shell.execute_reply.started": "2022-07-12T14:53:27.003039Z"
    }
   },
   "outputs": [],
   "source": [
    "import shapely"
   ]
  },
  {
   "cell_type": "code",
   "execution_count": null,
   "metadata": {
    "execution": {
     "iopub.execute_input": "2022-07-12T14:53:30.020622Z",
     "iopub.status.busy": "2022-07-12T14:53:30.019832Z",
     "iopub.status.idle": "2022-07-12T14:53:30.050191Z",
     "shell.execute_reply": "2022-07-12T14:53:30.049510Z",
     "shell.execute_reply.started": "2022-07-12T14:53:30.020585Z"
    }
   },
   "outputs": [],
   "source": [
    "centroids = df.geometry.centroid"
   ]
  },
  {
   "cell_type": "code",
   "execution_count": null,
   "metadata": {
    "execution": {
     "iopub.execute_input": "2022-07-12T14:53:32.064575Z",
     "iopub.status.busy": "2022-07-12T14:53:32.064031Z",
     "iopub.status.idle": "2022-07-12T14:53:32.273944Z",
     "shell.execute_reply": "2022-07-12T14:53:32.273595Z",
     "shell.execute_reply.started": "2022-07-12T14:53:32.064547Z"
    }
   },
   "outputs": [],
   "source": [
    "lon = centroids.apply(lambda p: p.x).values\n",
    "lat = centroids.apply(lambda p: p.y).values"
   ]
  },
  {
   "cell_type": "code",
   "execution_count": null,
   "metadata": {
    "execution": {
     "iopub.execute_input": "2022-07-12T14:53:32.568448Z",
     "iopub.status.busy": "2022-07-12T14:53:32.567663Z",
     "iopub.status.idle": "2022-07-12T14:53:32.577834Z",
     "shell.execute_reply": "2022-07-12T14:53:32.576196Z",
     "shell.execute_reply.started": "2022-07-12T14:53:32.568414Z"
    }
   },
   "outputs": [],
   "source": [
    "north = lat > my\n",
    "south = lat <= my\n",
    "east = lon > mx\n",
    "west = lon <= mx"
   ]
  },
  {
   "cell_type": "code",
   "execution_count": null,
   "metadata": {
    "execution": {
     "iopub.execute_input": "2022-07-12T14:53:33.193350Z",
     "iopub.status.busy": "2022-07-12T14:53:33.192703Z",
     "iopub.status.idle": "2022-07-12T14:53:33.203621Z",
     "shell.execute_reply": "2022-07-12T14:53:33.202592Z",
     "shell.execute_reply.started": "2022-07-12T14:53:33.193320Z"
    }
   },
   "outputs": [],
   "source": [
    "nw = west * north * 2\n",
    "ne = east * north * 1\n",
    "sw = west * south * 3\n",
    "se = east * south *4\n",
    "quad = nw + ne + sw + se"
   ]
  },
  {
   "cell_type": "code",
   "execution_count": null,
   "metadata": {
    "execution": {
     "iopub.execute_input": "2022-07-12T14:53:34.087218Z",
     "iopub.status.busy": "2022-07-12T14:53:34.086638Z",
     "iopub.status.idle": "2022-07-12T14:53:34.095147Z",
     "shell.execute_reply": "2022-07-12T14:53:34.094241Z",
     "shell.execute_reply.started": "2022-07-12T14:53:34.087189Z"
    }
   },
   "outputs": [],
   "source": [
    "quad"
   ]
  },
  {
   "cell_type": "code",
   "execution_count": null,
   "metadata": {
    "execution": {
     "iopub.execute_input": "2022-07-12T14:53:34.604261Z",
     "iopub.status.busy": "2022-07-12T14:53:34.603302Z",
     "iopub.status.idle": "2022-07-12T14:53:35.021703Z",
     "shell.execute_reply": "2022-07-12T14:53:35.021357Z",
     "shell.execute_reply.started": "2022-07-12T14:53:34.604223Z"
    }
   },
   "outputs": [],
   "source": [
    "df['quad'] = quad\n",
    "df.plot(column=\"quad\", categorical=True)"
   ]
  },
  {
   "cell_type": "code",
   "execution_count": null,
   "metadata": {
    "execution": {
     "iopub.execute_input": "2022-07-12T14:53:55.776916Z",
     "iopub.status.busy": "2022-07-12T14:53:55.776160Z",
     "iopub.status.idle": "2022-07-12T14:53:59.911912Z",
     "shell.execute_reply": "2022-07-12T14:53:59.911599Z",
     "shell.execute_reply.started": "2022-07-12T14:53:55.776881Z"
    },
    "tags": []
   },
   "outputs": [],
   "source": [
    "blockW = libpysal.weights.block_weights(df[\"quad\"])"
   ]
  },
  {
   "cell_type": "code",
   "execution_count": null,
   "metadata": {
    "execution": {
     "iopub.execute_input": "2022-07-12T14:54:03.081031Z",
     "iopub.status.busy": "2022-07-12T14:54:03.080852Z",
     "iopub.status.idle": "2022-07-12T14:54:03.085399Z",
     "shell.execute_reply": "2022-07-12T14:54:03.085086Z",
     "shell.execute_reply.started": "2022-07-12T14:54:03.081019Z"
    }
   },
   "outputs": [],
   "source": [
    "blockW.n"
   ]
  },
  {
   "cell_type": "code",
   "execution_count": null,
   "metadata": {
    "execution": {
     "iopub.execute_input": "2022-07-12T14:54:04.841703Z",
     "iopub.status.busy": "2022-07-12T14:54:04.840989Z",
     "iopub.status.idle": "2022-07-12T14:54:04.850995Z",
     "shell.execute_reply": "2022-07-12T14:54:04.850045Z",
     "shell.execute_reply.started": "2022-07-12T14:54:04.841668Z"
    }
   },
   "outputs": [],
   "source": [
    "blockW.pct_nonzero"
   ]
  },
  {
   "cell_type": "code",
   "execution_count": null,
   "metadata": {
    "execution": {
     "iopub.execute_input": "2022-07-12T14:54:27.947187Z",
     "iopub.status.busy": "2022-07-12T14:54:27.946448Z",
     "iopub.status.idle": "2022-07-12T14:54:28.076661Z",
     "shell.execute_reply": "2022-07-12T14:54:28.076276Z",
     "shell.execute_reply.started": "2022-07-12T14:54:27.947137Z"
    },
    "tags": []
   },
   "outputs": [],
   "source": [
    "pandas.Series(blockW.cardinalities).plot.hist()"
   ]
  },
  {
   "cell_type": "code",
   "execution_count": null,
   "metadata": {
    "execution": {
     "iopub.execute_input": "2022-07-12T14:54:29.774326Z",
     "iopub.status.busy": "2022-07-12T14:54:29.773527Z",
     "iopub.status.idle": "2022-07-12T14:54:29.823298Z",
     "shell.execute_reply": "2022-07-12T14:54:29.822220Z",
     "shell.execute_reply.started": "2022-07-12T14:54:29.774289Z"
    }
   },
   "outputs": [],
   "source": [
    "df.groupby(by='quad').count()"
   ]
  },
  {
   "cell_type": "code",
   "execution_count": null,
   "metadata": {
    "execution": {
     "iopub.execute_input": "2022-07-12T14:58:31.588553Z",
     "iopub.status.busy": "2022-07-12T14:58:31.581330Z",
     "iopub.status.idle": "2022-07-12T15:05:16.336705Z",
     "shell.execute_reply": "2022-07-12T15:05:16.336399Z",
     "shell.execute_reply.started": "2022-07-12T14:58:31.588509Z"
    }
   },
   "outputs": [],
   "source": [
    "plot_spatial_weights(blockW, df)"
   ]
  },
  {
   "cell_type": "code",
   "execution_count": null,
   "metadata": {},
   "outputs": [],
   "source": []
  },
  {
   "cell_type": "markdown",
   "metadata": {},
   "source": [
    "<div class=\"alert alert-success\" style=\"font-size:120%\">\n",
    "<b>Exercise</b>: <br>\n",
    "    Which spatial weights structure would be more dense, tracts based on rook contiguity or SoCal tracts based on knn with k=4?\n",
    "</div>"
   ]
  },
  {
   "cell_type": "markdown",
   "metadata": {},
   "source": [
    "<div class=\"alert alert-success\" style=\"font-size:120%\">\n",
    "<b>Exercise</b>: <br>\n",
    "    How many tracts have fewer neighbors under rook contiguity relative to knn4?\n",
    "</div>"
   ]
  },
  {
   "cell_type": "markdown",
   "metadata": {},
   "source": [
    "<div class=\"alert alert-success\" style=\"font-size:120%\">\n",
    "<b>Exercise</b>: <br>\n",
    "    How many tracts have identical neighbors under queen contiguity and queen rook contiguity?\n",
    "</div>"
   ]
  },
  {
   "cell_type": "code",
   "execution_count": null,
   "metadata": {},
   "outputs": [],
   "source": [
    "# %load solutions/02.py"
   ]
  },
  {
   "cell_type": "markdown",
   "metadata": {},
   "source": [
    "---\n",
    "\n",
    "<a rel=\"license\" href=\"http://creativecommons.org/licenses/by-nc-\n",
    "sa/4.0/\"><img alt=\"Creative Commons License\" style=\"border-width:0\"\n",
    "src=\"https://i.creativecommons.org/l/by-nc-sa/4.0/88x31.png\" /></a><br /><span\n",
    "xmlns:dct=\"http://purl.org/dc/terms/\" property=\"dct:title\">Spatial Weights</span> by <a xmlns:cc=\"http://creativecommons.org/ns#\"\n",
    "href=\"http://sergerey.org\" property=\"cc:attributionName\"\n",
    "rel=\"cc:attributionURL\">Serge Rey</a> is licensed under a <a\n",
    "rel=\"license\" href=\"http://creativecommons.org/licenses/by-nc-sa/4.0/\">Creative\n",
    "Commons Attribution-NonCommercial-ShareAlike 4.0 International License</a>."
   ]
  }
 ],
 "metadata": {
  "anaconda-cloud": {},
  "jupytext": {
   "formats": "ipynb,md"
  },
  "kernelspec": {
   "display_name": "Python [conda env:pysal-workshop]",
   "language": "python",
   "name": "conda-env-pysal-workshop-py"
  },
  "language_info": {
   "codemirror_mode": {
    "name": "ipython",
    "version": 3
   },
   "file_extension": ".py",
   "mimetype": "text/x-python",
   "name": "python",
   "nbconvert_exporter": "python",
   "pygments_lexer": "ipython3",
   "version": "3.9.13"
  },
  "widgets": {
   "application/vnd.jupyter.widget-state+json": {
    "state": {},
    "version_major": 2,
    "version_minor": 0
   }
  }
 },
 "nbformat": 4,
 "nbformat_minor": 4
}
