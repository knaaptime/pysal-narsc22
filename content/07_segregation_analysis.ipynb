{
 "cells": [
  {
   "cell_type": "markdown",
   "metadata": {},
   "source": [
    "# Segregation Analysis with PySAL"
   ]
  },
  {
   "cell_type": "code",
   "execution_count": null,
   "metadata": {
    "execution": {
     "iopub.execute_input": "2022-07-12T16:41:08.792856Z",
     "iopub.status.busy": "2022-07-12T16:41:08.791961Z",
     "iopub.status.idle": "2022-07-12T16:41:08.953782Z",
     "shell.execute_reply": "2022-07-12T16:41:08.953439Z",
     "shell.execute_reply.started": "2022-07-12T16:41:08.792827Z"
    },
    "tags": []
   },
   "outputs": [],
   "source": [
    "%load_ext watermark\n",
    "%load_ext autoreload\n",
    "%autoreload 2"
   ]
  },
  {
   "cell_type": "code",
   "execution_count": null,
   "metadata": {
    "execution": {
     "iopub.execute_input": "2022-07-12T16:41:10.178089Z",
     "iopub.status.busy": "2022-07-12T16:41:10.177240Z",
     "iopub.status.idle": "2022-07-12T16:41:10.231096Z",
     "shell.execute_reply": "2022-07-12T16:41:10.230079Z",
     "shell.execute_reply.started": "2022-07-12T16:41:10.178042Z"
    },
    "tags": []
   },
   "outputs": [],
   "source": [
    "%watermark -v -a \"author: eli knaap\" -d -u -p segregation,libpysal,geopandas"
   ]
  },
  {
   "cell_type": "markdown",
   "metadata": {},
   "source": [
    "Here, we'll use PySAL's `segregation` module to analyze racial segregation in southern california"
   ]
  },
  {
   "cell_type": "code",
   "execution_count": null,
   "metadata": {
    "execution": {
     "iopub.execute_input": "2022-07-12T16:41:12.948510Z",
     "iopub.status.busy": "2022-07-12T16:41:12.947699Z",
     "iopub.status.idle": "2022-07-12T16:41:13.019128Z",
     "shell.execute_reply": "2022-07-12T16:41:13.017237Z",
     "shell.execute_reply.started": "2022-07-12T16:41:12.948473Z"
    },
    "tags": []
   },
   "outputs": [],
   "source": [
    "import geopandas as gpd"
   ]
  },
  {
   "cell_type": "markdown",
   "metadata": {},
   "source": [
    "## Data Prep"
   ]
  },
  {
   "cell_type": "code",
   "execution_count": null,
   "metadata": {
    "execution": {
     "iopub.execute_input": "2022-07-12T16:41:15.063756Z",
     "iopub.status.busy": "2022-07-12T16:41:15.063333Z",
     "iopub.status.idle": "2022-07-12T16:41:15.664815Z",
     "shell.execute_reply": "2022-07-12T16:41:15.664422Z",
     "shell.execute_reply.started": "2022-07-12T16:41:15.063732Z"
    },
    "tags": []
   },
   "outputs": [],
   "source": [
    "scag = gpd.read_file(\"data/scag_region.gpkg\", layer=\"tracts\")"
   ]
  },
  {
   "cell_type": "markdown",
   "metadata": {},
   "source": [
    "We need to reproject the data into a more appropriate coordinate system. We can estimate the appropriate \n",
    "UTM zone using a method on the geodataframe"
   ]
  },
  {
   "cell_type": "code",
   "execution_count": null,
   "metadata": {
    "execution": {
     "iopub.execute_input": "2022-07-12T16:41:58.670103Z",
     "iopub.status.busy": "2022-07-12T16:41:58.668843Z",
     "iopub.status.idle": "2022-07-12T16:41:58.830984Z",
     "shell.execute_reply": "2022-07-12T16:41:58.830592Z",
     "shell.execute_reply.started": "2022-07-12T16:41:58.670017Z"
    },
    "tags": []
   },
   "outputs": [],
   "source": [
    "scag = scag.to_crs(scag.estimate_utm_crs())"
   ]
  },
  {
   "cell_type": "code",
   "execution_count": null,
   "metadata": {
    "execution": {
     "iopub.execute_input": "2022-07-12T16:41:59.204556Z",
     "iopub.status.busy": "2022-07-12T16:41:59.204055Z",
     "iopub.status.idle": "2022-07-12T16:41:59.261270Z",
     "shell.execute_reply": "2022-07-12T16:41:59.260698Z",
     "shell.execute_reply.started": "2022-07-12T16:41:59.204528Z"
    },
    "tags": []
   },
   "outputs": [],
   "source": [
    "scag.crs"
   ]
  },
  {
   "cell_type": "code",
   "execution_count": null,
   "metadata": {
    "execution": {
     "iopub.execute_input": "2022-07-12T16:42:02.956971Z",
     "iopub.status.busy": "2022-07-12T16:42:02.956434Z",
     "iopub.status.idle": "2022-07-12T16:42:06.931370Z",
     "shell.execute_reply": "2022-07-12T16:42:06.930896Z",
     "shell.execute_reply.started": "2022-07-12T16:42:02.956943Z"
    },
    "tags": []
   },
   "outputs": [],
   "source": [
    "scag.dropna(subset=['p_hispanic_persons']).explore(column='p_hispanic_persons',\n",
    "                                                scheme='quantiles', \n",
    "                                                cmap='Blues',\n",
    "                                                k=8,\n",
    "                                                tooltip=['p_hispanic_persons'], \n",
    "                                                style_kwds={'stroke':False})"
   ]
  },
  {
   "cell_type": "markdown",
   "metadata": {},
   "source": [
    "some background on [fips codes](https://www.policymap.com/2012/08/tips-on-fips-a-quick-guide-to-geographic-place-codes-part-iii/)"
   ]
  },
  {
   "cell_type": "code",
   "execution_count": null,
   "metadata": {
    "execution": {
     "iopub.execute_input": "2022-07-12T16:42:17.897716Z",
     "iopub.status.busy": "2022-07-12T16:42:17.896043Z",
     "iopub.status.idle": "2022-07-12T16:42:17.950119Z",
     "shell.execute_reply": "2022-07-12T16:42:17.949633Z",
     "shell.execute_reply.started": "2022-07-12T16:42:17.897670Z"
    },
    "tags": []
   },
   "outputs": [],
   "source": [
    "scag['county'] = scag.geoid.str[:5]"
   ]
  },
  {
   "cell_type": "code",
   "execution_count": null,
   "metadata": {
    "execution": {
     "iopub.execute_input": "2022-07-12T16:42:47.069119Z",
     "iopub.status.busy": "2022-07-12T16:42:47.068701Z",
     "iopub.status.idle": "2022-07-12T16:42:47.127525Z",
     "shell.execute_reply": "2022-07-12T16:42:47.126943Z",
     "shell.execute_reply.started": "2022-07-12T16:42:47.069092Z"
    },
    "tags": []
   },
   "outputs": [],
   "source": [
    "scag.county.unique()"
   ]
  },
  {
   "cell_type": "code",
   "execution_count": null,
   "metadata": {
    "execution": {
     "iopub.execute_input": "2022-07-12T16:42:52.089117Z",
     "iopub.status.busy": "2022-07-12T16:42:52.088225Z",
     "iopub.status.idle": "2022-07-12T16:42:52.162205Z",
     "shell.execute_reply": "2022-07-12T16:42:52.161831Z",
     "shell.execute_reply.started": "2022-07-12T16:42:52.089086Z"
    },
    "tags": []
   },
   "outputs": [],
   "source": [
    "county_names = [\"Los Angeles\", \"Imperial\", \"Orange\", \"San Bernadino\", \"San Diego\", \"Riverside\", \"Ventura\"]"
   ]
  },
  {
   "cell_type": "code",
   "execution_count": null,
   "metadata": {
    "execution": {
     "iopub.execute_input": "2022-07-12T16:42:54.646639Z",
     "iopub.status.busy": "2022-07-12T16:42:54.645947Z",
     "iopub.status.idle": "2022-07-12T16:42:54.706087Z",
     "shell.execute_reply": "2022-07-12T16:42:54.705636Z",
     "shell.execute_reply.started": "2022-07-12T16:42:54.646608Z"
    },
    "tags": []
   },
   "outputs": [],
   "source": [
    "namer = dict(zip(scag.county.unique(), county_names))"
   ]
  },
  {
   "cell_type": "code",
   "execution_count": null,
   "metadata": {
    "execution": {
     "iopub.execute_input": "2022-07-12T16:42:55.697914Z",
     "iopub.status.busy": "2022-07-12T16:42:55.697472Z",
     "iopub.status.idle": "2022-07-12T16:42:55.754199Z",
     "shell.execute_reply": "2022-07-12T16:42:55.753492Z",
     "shell.execute_reply.started": "2022-07-12T16:42:55.697890Z"
    },
    "tags": []
   },
   "outputs": [],
   "source": [
    "namer"
   ]
  },
  {
   "cell_type": "markdown",
   "metadata": {},
   "source": [
    "Now that we know which county is which, we could just use these codes to divide up the region into pieces. But lets go ahead and replace the codes with their names. It's more to type, but if we want to subset later, we won't have to go look up the codes again"
   ]
  },
  {
   "cell_type": "code",
   "execution_count": null,
   "metadata": {
    "execution": {
     "iopub.execute_input": "2022-07-12T16:42:58.261410Z",
     "iopub.status.busy": "2022-07-12T16:42:58.258942Z",
     "iopub.status.idle": "2022-07-12T16:42:58.315667Z",
     "shell.execute_reply": "2022-07-12T16:42:58.315213Z",
     "shell.execute_reply.started": "2022-07-12T16:42:58.261368Z"
    },
    "tags": []
   },
   "outputs": [],
   "source": [
    "scag['county'] = scag.county.replace(to_replace=namer)"
   ]
  },
  {
   "cell_type": "code",
   "execution_count": null,
   "metadata": {
    "execution": {
     "iopub.execute_input": "2022-07-12T16:42:59.362876Z",
     "iopub.status.busy": "2022-07-12T16:42:59.362172Z",
     "iopub.status.idle": "2022-07-12T16:42:59.406858Z",
     "shell.execute_reply": "2022-07-12T16:42:59.406468Z",
     "shell.execute_reply.started": "2022-07-12T16:42:59.362829Z"
    },
    "tags": []
   },
   "outputs": [],
   "source": [
    "scag.county"
   ]
  },
  {
   "cell_type": "code",
   "execution_count": null,
   "metadata": {
    "execution": {
     "iopub.execute_input": "2022-07-12T16:43:18.601782Z",
     "iopub.status.busy": "2022-07-12T16:43:18.601187Z",
     "iopub.status.idle": "2022-07-12T16:43:18.671238Z",
     "shell.execute_reply": "2022-07-12T16:43:18.670554Z",
     "shell.execute_reply.started": "2022-07-12T16:43:18.601752Z"
    },
    "tags": []
   },
   "outputs": [],
   "source": [
    "coastal = scag[scag.county.isin([\"Los Angeles\", \"Orange\", \"San Diego\", \"Ventura\"])]"
   ]
  },
  {
   "cell_type": "code",
   "execution_count": null,
   "metadata": {
    "execution": {
     "iopub.execute_input": "2022-07-12T16:43:18.959743Z",
     "iopub.status.busy": "2022-07-12T16:43:18.959356Z",
     "iopub.status.idle": "2022-07-12T16:43:19.007826Z",
     "shell.execute_reply": "2022-07-12T16:43:19.007169Z",
     "shell.execute_reply.started": "2022-07-12T16:43:18.959719Z"
    },
    "tags": []
   },
   "outputs": [],
   "source": [
    "inland = scag[scag.county.isin(['Riverside', \"San Bernadino\", \"Imperial\"])]"
   ]
  },
  {
   "cell_type": "code",
   "execution_count": null,
   "metadata": {
    "execution": {
     "iopub.execute_input": "2022-07-12T16:43:20.274592Z",
     "iopub.status.busy": "2022-07-12T16:43:20.274185Z",
     "iopub.status.idle": "2022-07-12T16:43:20.666057Z",
     "shell.execute_reply": "2022-07-12T16:43:20.665618Z",
     "shell.execute_reply.started": "2022-07-12T16:43:20.274567Z"
    },
    "tags": []
   },
   "outputs": [],
   "source": [
    "coastal.plot(column='county')"
   ]
  },
  {
   "cell_type": "code",
   "execution_count": null,
   "metadata": {
    "execution": {
     "iopub.execute_input": "2022-07-12T16:43:20.666988Z",
     "iopub.status.busy": "2022-07-12T16:43:20.666890Z",
     "iopub.status.idle": "2022-07-12T16:43:20.890925Z",
     "shell.execute_reply": "2022-07-12T16:43:20.890541Z",
     "shell.execute_reply.started": "2022-07-12T16:43:20.666980Z"
    },
    "tags": []
   },
   "outputs": [],
   "source": [
    "inland.plot(column='county')"
   ]
  },
  {
   "cell_type": "markdown",
   "metadata": {},
   "source": [
    "## Calculating Segregation Measures"
   ]
  },
  {
   "cell_type": "markdown",
   "metadata": {},
   "source": [
    "The `segregation` package calculates dozens of segregation indices, each of which captures something different about the ways that population groups interact or remain separated in space. Most of the commonly-used statistics are global or aggregate measures, meaning they summarize the total level of segregation across all units in a study region. "
   ]
  },
  {
   "cell_type": "markdown",
   "metadata": {},
   "source": [
    "### Classic (aspatial) Single-Group Indices"
   ]
  },
  {
   "cell_type": "markdown",
   "metadata": {},
   "source": [
    "Single-group indices measure the partitioning of one population group relative to everyone else. "
   ]
  },
  {
   "cell_type": "code",
   "execution_count": null,
   "metadata": {
    "execution": {
     "iopub.execute_input": "2022-07-12T16:44:11.751891Z",
     "iopub.status.busy": "2022-07-12T16:44:11.751399Z",
     "iopub.status.idle": "2022-07-12T16:44:11.833365Z",
     "shell.execute_reply": "2022-07-12T16:44:11.832670Z",
     "shell.execute_reply.started": "2022-07-12T16:44:11.751861Z"
    },
    "tags": []
   },
   "outputs": [],
   "source": [
    "from segregation.singlegroup import Dissim, Gini, Entropy"
   ]
  },
  {
   "cell_type": "code",
   "execution_count": null,
   "metadata": {
    "execution": {
     "iopub.execute_input": "2022-07-12T16:44:30.836181Z",
     "iopub.status.busy": "2022-07-12T16:44:30.823537Z",
     "iopub.status.idle": "2022-07-12T16:44:32.669799Z",
     "shell.execute_reply": "2022-07-12T16:44:32.669467Z",
     "shell.execute_reply.started": "2022-07-12T16:44:30.836112Z"
    },
    "tags": []
   },
   "outputs": [],
   "source": [
    "dissim_hisp = Dissim(scag, \"n_hispanic_persons\", \"n_total_pop\")\n",
    "dissim_black = Dissim(scag, \"n_nonhisp_black_persons\", \"n_total_pop\")\n",
    "\n",
    "gini_hisp = Gini(scag, \"n_hispanic_persons\", \"n_total_pop\")\n",
    "gini_black = Gini(scag, \"n_nonhisp_black_persons\", \"n_total_pop\")\n",
    "\n",
    "entropy_hisp = Entropy(scag, \"n_hispanic_persons\", \"n_total_pop\")\n",
    "entropy_black = Entropy(scag, \"n_nonhisp_black_persons\", \"n_total_pop\")"
   ]
  },
  {
   "cell_type": "markdown",
   "metadata": {},
   "source": [
    "Each class has a `statistic` attribute that holds the computed value for each segregation measure"
   ]
  },
  {
   "cell_type": "code",
   "execution_count": null,
   "metadata": {
    "execution": {
     "iopub.execute_input": "2022-07-12T16:44:37.568985Z",
     "iopub.status.busy": "2022-07-12T16:44:37.568567Z",
     "iopub.status.idle": "2022-07-12T16:44:37.624411Z",
     "shell.execute_reply": "2022-07-12T16:44:37.623977Z",
     "shell.execute_reply.started": "2022-07-12T16:44:37.568961Z"
    },
    "tags": []
   },
   "outputs": [],
   "source": [
    "dissim_hisp.statistic"
   ]
  },
  {
   "cell_type": "code",
   "execution_count": null,
   "metadata": {
    "execution": {
     "iopub.execute_input": "2022-07-12T16:44:37.815519Z",
     "iopub.status.busy": "2022-07-12T16:44:37.814449Z",
     "iopub.status.idle": "2022-07-12T16:44:37.902530Z",
     "shell.execute_reply": "2022-07-12T16:44:37.902132Z",
     "shell.execute_reply.started": "2022-07-12T16:44:37.815486Z"
    },
    "tags": []
   },
   "outputs": [],
   "source": [
    "dissim_black.statistic"
   ]
  },
  {
   "cell_type": "code",
   "execution_count": null,
   "metadata": {
    "execution": {
     "iopub.execute_input": "2022-07-12T16:44:38.040456Z",
     "iopub.status.busy": "2022-07-12T16:44:38.039891Z",
     "iopub.status.idle": "2022-07-12T16:44:38.092567Z",
     "shell.execute_reply": "2022-07-12T16:44:38.091721Z",
     "shell.execute_reply.started": "2022-07-12T16:44:38.040425Z"
    },
    "tags": []
   },
   "outputs": [],
   "source": [
    "gini_hisp.statistic"
   ]
  },
  {
   "cell_type": "code",
   "execution_count": null,
   "metadata": {
    "execution": {
     "iopub.execute_input": "2022-07-12T16:44:38.242610Z",
     "iopub.status.busy": "2022-07-12T16:44:38.242061Z",
     "iopub.status.idle": "2022-07-12T16:44:38.346295Z",
     "shell.execute_reply": "2022-07-12T16:44:38.345803Z",
     "shell.execute_reply.started": "2022-07-12T16:44:38.242574Z"
    },
    "tags": []
   },
   "outputs": [],
   "source": [
    "gini_black.statistic"
   ]
  },
  {
   "cell_type": "code",
   "execution_count": null,
   "metadata": {
    "execution": {
     "iopub.execute_input": "2022-07-12T16:44:38.468238Z",
     "iopub.status.busy": "2022-07-12T16:44:38.464844Z",
     "iopub.status.idle": "2022-07-12T16:44:38.524976Z",
     "shell.execute_reply": "2022-07-12T16:44:38.524486Z",
     "shell.execute_reply.started": "2022-07-12T16:44:38.468196Z"
    },
    "tags": []
   },
   "outputs": [],
   "source": [
    "entropy_hisp.statistic"
   ]
  },
  {
   "cell_type": "code",
   "execution_count": null,
   "metadata": {
    "execution": {
     "iopub.execute_input": "2022-07-12T16:44:38.676908Z",
     "iopub.status.busy": "2022-07-12T16:44:38.676160Z",
     "iopub.status.idle": "2022-07-12T16:44:38.732903Z",
     "shell.execute_reply": "2022-07-12T16:44:38.732549Z",
     "shell.execute_reply.started": "2022-07-12T16:44:38.676881Z"
    },
    "tags": []
   },
   "outputs": [],
   "source": [
    "entropy_black.statistic"
   ]
  },
  {
   "cell_type": "markdown",
   "metadata": {},
   "source": [
    "According to the Dissimilarity and Gini indices, the black population in southern California is more segregated than the Latinx/Hispanic population, but the reverse is true according to the Entropy index"
   ]
  },
  {
   "cell_type": "markdown",
   "metadata": {},
   "source": [
    "#### Batch Computation"
   ]
  },
  {
   "cell_type": "markdown",
   "metadata": {},
   "source": [
    "To examine several indices at once, `segregation` provides a set of \"batch_compute\" functions. "
   ]
  },
  {
   "cell_type": "code",
   "execution_count": null,
   "metadata": {
    "execution": {
     "iopub.execute_input": "2022-07-12T16:45:19.879779Z",
     "iopub.status.busy": "2022-07-12T16:45:19.879078Z",
     "iopub.status.idle": "2022-07-12T16:45:19.929999Z",
     "shell.execute_reply": "2022-07-12T16:45:19.929600Z",
     "shell.execute_reply.started": "2022-07-12T16:45:19.879733Z"
    },
    "tags": []
   },
   "outputs": [],
   "source": [
    "from segregation.batch import batch_compute_singlegroup"
   ]
  },
  {
   "cell_type": "code",
   "execution_count": null,
   "metadata": {
    "execution": {
     "iopub.execute_input": "2022-07-12T16:45:26.629751Z",
     "iopub.status.busy": "2022-07-12T16:45:26.628829Z",
     "iopub.status.idle": "2022-07-12T16:46:34.726400Z",
     "shell.execute_reply": "2022-07-12T16:46:34.726028Z",
     "shell.execute_reply.started": "2022-07-12T16:45:26.629714Z"
    },
    "tags": []
   },
   "outputs": [],
   "source": [
    "scag_all_singlegroup = batch_compute_singlegroup(scag, \"n_hispanic_persons\", \"n_total_pop\")"
   ]
  },
  {
   "cell_type": "code",
   "execution_count": null,
   "metadata": {
    "execution": {
     "iopub.execute_input": "2022-07-12T16:46:34.727443Z",
     "iopub.status.busy": "2022-07-12T16:46:34.727319Z",
     "iopub.status.idle": "2022-07-12T16:46:34.789064Z",
     "shell.execute_reply": "2022-07-12T16:46:34.788504Z",
     "shell.execute_reply.started": "2022-07-12T16:46:34.727433Z"
    },
    "tags": []
   },
   "outputs": [],
   "source": [
    "scag_all_singlegroup"
   ]
  },
  {
   "cell_type": "markdown",
   "metadata": {},
   "source": [
    "### Multigroup Indices"
   ]
  },
  {
   "cell_type": "markdown",
   "metadata": {},
   "source": [
    "Multigroup measures capture the partitioning of several groups simultaneously"
   ]
  },
  {
   "cell_type": "code",
   "execution_count": null,
   "metadata": {
    "execution": {
     "iopub.execute_input": "2022-07-12T16:47:28.631459Z",
     "iopub.status.busy": "2022-07-12T16:47:28.631047Z",
     "iopub.status.idle": "2022-07-12T16:47:28.679816Z",
     "shell.execute_reply": "2022-07-12T16:47:28.677187Z",
     "shell.execute_reply.started": "2022-07-12T16:47:28.631434Z"
    },
    "tags": []
   },
   "outputs": [],
   "source": [
    "from segregation.multigroup import MultiInfoTheory, MultiGini, MultiDiversity"
   ]
  },
  {
   "cell_type": "code",
   "execution_count": null,
   "metadata": {
    "execution": {
     "iopub.execute_input": "2022-07-12T16:47:34.411848Z",
     "iopub.status.busy": "2022-07-12T16:47:34.410704Z",
     "iopub.status.idle": "2022-07-12T16:47:34.469543Z",
     "shell.execute_reply": "2022-07-12T16:47:34.467466Z",
     "shell.execute_reply.started": "2022-07-12T16:47:34.411786Z"
    },
    "tags": []
   },
   "outputs": [],
   "source": [
    "pop_groups = ['n_asian_persons', 'n_hispanic_persons', 'n_nonhisp_black_persons', 'n_nonhisp_white_persons']"
   ]
  },
  {
   "cell_type": "code",
   "execution_count": null,
   "metadata": {
    "execution": {
     "iopub.execute_input": "2022-07-12T16:47:35.303384Z",
     "iopub.status.busy": "2022-07-12T16:47:35.302701Z",
     "iopub.status.idle": "2022-07-12T16:47:35.380969Z",
     "shell.execute_reply": "2022-07-12T16:47:35.379045Z",
     "shell.execute_reply.started": "2022-07-12T16:47:35.303357Z"
    },
    "tags": []
   },
   "outputs": [],
   "source": [
    "multi_div_coast = MultiDiversity(coastal, pop_groups)\n",
    "multi_div_inland = MultiDiversity(inland, pop_groups)\n",
    "\n",
    "\n",
    "multi_info_coast = MultiInfoTheory(coastal, pop_groups)\n",
    "multi_info_inland = MultiInfoTheory(inland, pop_groups)"
   ]
  },
  {
   "cell_type": "markdown",
   "metadata": {},
   "source": [
    "For multigroup diversity:"
   ]
  },
  {
   "cell_type": "code",
   "execution_count": null,
   "metadata": {
    "execution": {
     "iopub.execute_input": "2022-07-12T16:47:37.383958Z",
     "iopub.status.busy": "2022-07-12T16:47:37.383475Z",
     "iopub.status.idle": "2022-07-12T16:47:37.451505Z",
     "shell.execute_reply": "2022-07-12T16:47:37.450973Z",
     "shell.execute_reply.started": "2022-07-12T16:47:37.383930Z"
    },
    "tags": []
   },
   "outputs": [],
   "source": [
    "print(f\"coast: {multi_div_coast.statistic}\")\n",
    "print(f\"inland: {multi_div_inland.statistic}\")"
   ]
  },
  {
   "cell_type": "markdown",
   "metadata": {},
   "source": [
    "for multigroup information theory:"
   ]
  },
  {
   "cell_type": "code",
   "execution_count": null,
   "metadata": {
    "execution": {
     "iopub.execute_input": "2022-07-12T16:47:38.181488Z",
     "iopub.status.busy": "2022-07-12T16:47:38.180948Z",
     "iopub.status.idle": "2022-07-12T16:47:38.239557Z",
     "shell.execute_reply": "2022-07-12T16:47:38.239082Z",
     "shell.execute_reply.started": "2022-07-12T16:47:38.181460Z"
    },
    "tags": []
   },
   "outputs": [],
   "source": [
    "print(f\"coast: {multi_info_coast.statistic}\")\n",
    "print(f\"inland: {multi_info_inland.statistic}\")"
   ]
  },
  {
   "cell_type": "markdown",
   "metadata": {},
   "source": [
    "Regardless which index is used, multigroup segregation is higher in the coastal region than the inland one"
   ]
  },
  {
   "cell_type": "markdown",
   "metadata": {},
   "source": [
    "#### Batch Computation"
   ]
  },
  {
   "cell_type": "markdown",
   "metadata": {},
   "source": [
    "Again, the measures can be \"batch computed\""
   ]
  },
  {
   "cell_type": "code",
   "execution_count": null,
   "metadata": {
    "execution": {
     "iopub.execute_input": "2022-07-12T16:47:45.940060Z",
     "iopub.status.busy": "2022-07-12T16:47:45.939029Z",
     "iopub.status.idle": "2022-07-12T16:47:45.997671Z",
     "shell.execute_reply": "2022-07-12T16:47:45.997276Z",
     "shell.execute_reply.started": "2022-07-12T16:47:45.940024Z"
    },
    "tags": []
   },
   "outputs": [],
   "source": [
    "from segregation.batch import batch_compute_multigroup"
   ]
  },
  {
   "cell_type": "code",
   "execution_count": null,
   "metadata": {
    "execution": {
     "iopub.execute_input": "2022-07-12T16:47:46.242640Z",
     "iopub.status.busy": "2022-07-12T16:47:46.241894Z",
     "iopub.status.idle": "2022-07-12T16:47:50.925508Z",
     "shell.execute_reply": "2022-07-12T16:47:50.925173Z",
     "shell.execute_reply.started": "2022-07-12T16:47:46.242583Z"
    },
    "tags": []
   },
   "outputs": [],
   "source": [
    "scag_all_multigroup = batch_compute_multigroup(scag, groups=pop_groups)"
   ]
  },
  {
   "cell_type": "code",
   "execution_count": null,
   "metadata": {
    "execution": {
     "iopub.execute_input": "2022-07-12T16:47:50.926309Z",
     "iopub.status.busy": "2022-07-12T16:47:50.926207Z",
     "iopub.status.idle": "2022-07-12T16:47:50.963606Z",
     "shell.execute_reply": "2022-07-12T16:47:50.963178Z",
     "shell.execute_reply.started": "2022-07-12T16:47:50.926300Z"
    },
    "tags": []
   },
   "outputs": [],
   "source": [
    "scag_all_multigroup"
   ]
  },
  {
   "cell_type": "markdown",
   "metadata": {
    "tags": []
   },
   "source": [
    "### Spatial Segregation Indices"
   ]
  },
  {
   "cell_type": "markdown",
   "metadata": {},
   "source": [
    "\n",
    "\n",
    "Every index in the `segregation` package can leverage spatial relationships in its computation. Some segregation indices include a spatially-explicit formulation, e.g. the [spatial dissimilarity index](https://journals.sagepub.com/doi/abs/10.1080/00420989320080551?). Others can be generalized into spatial versions using the logic of [Reardon et al](https://link.springer.com/article/10.1353/dem.0.0019), in which case we adopt the notion of ['egohoods'](https://escholarship.org/uc/item/71m5522z)"
   ]
  },
  {
   "cell_type": "code",
   "execution_count": null,
   "metadata": {
    "execution": {
     "iopub.execute_input": "2022-07-12T16:48:56.192154Z",
     "iopub.status.busy": "2022-07-12T16:48:56.191585Z",
     "iopub.status.idle": "2022-07-12T16:48:56.246434Z",
     "shell.execute_reply": "2022-07-12T16:48:56.246010Z",
     "shell.execute_reply.started": "2022-07-12T16:48:56.192126Z"
    },
    "tags": []
   },
   "outputs": [],
   "source": [
    "from libpysal import weights"
   ]
  },
  {
   "cell_type": "code",
   "execution_count": null,
   "metadata": {
    "execution": {
     "iopub.execute_input": "2022-07-12T16:48:56.646446Z",
     "iopub.status.busy": "2022-07-12T16:48:56.645793Z",
     "iopub.status.idle": "2022-07-12T16:48:56.703475Z",
     "shell.execute_reply": "2022-07-12T16:48:56.702864Z",
     "shell.execute_reply.started": "2022-07-12T16:48:56.646415Z"
    },
    "tags": []
   },
   "outputs": [],
   "source": [
    "from segregation.singlegroup import SpatialDissim"
   ]
  },
  {
   "cell_type": "code",
   "execution_count": null,
   "metadata": {
    "execution": {
     "iopub.execute_input": "2022-07-12T16:49:28.527698Z",
     "iopub.status.busy": "2022-07-12T16:49:28.526960Z",
     "iopub.status.idle": "2022-07-12T16:49:29.185384Z",
     "shell.execute_reply": "2022-07-12T16:49:29.185015Z",
     "shell.execute_reply.started": "2022-07-12T16:49:28.527651Z"
    },
    "tags": []
   },
   "outputs": [],
   "source": [
    "w_queen = weights.Queen.from_dataframe(scag)\n",
    "w_dist = weights.DistanceBand.from_dataframe(scag, 2500)"
   ]
  },
  {
   "cell_type": "markdown",
   "metadata": {},
   "source": [
    "#### Single Group"
   ]
  },
  {
   "cell_type": "code",
   "execution_count": null,
   "metadata": {
    "execution": {
     "iopub.execute_input": "2022-07-12T16:49:30.319650Z",
     "iopub.status.busy": "2022-07-12T16:49:30.319194Z",
     "iopub.status.idle": "2022-07-12T16:49:30.865456Z",
     "shell.execute_reply": "2022-07-12T16:49:30.864989Z",
     "shell.execute_reply.started": "2022-07-12T16:49:30.319624Z"
    },
    "tags": []
   },
   "outputs": [],
   "source": [
    "# aspatial\n",
    "dissim = SpatialDissim(scag, 'n_hispanic_persons', 'n_total_pop')"
   ]
  },
  {
   "cell_type": "code",
   "execution_count": null,
   "metadata": {
    "execution": {
     "iopub.execute_input": "2022-07-12T16:49:30.866377Z",
     "iopub.status.busy": "2022-07-12T16:49:30.866289Z",
     "iopub.status.idle": "2022-07-12T16:49:30.903290Z",
     "shell.execute_reply": "2022-07-12T16:49:30.902789Z",
     "shell.execute_reply.started": "2022-07-12T16:49:30.866368Z"
    },
    "tags": []
   },
   "outputs": [],
   "source": [
    "dissim.statistic"
   ]
  },
  {
   "cell_type": "code",
   "execution_count": null,
   "metadata": {
    "execution": {
     "iopub.execute_input": "2022-07-12T16:49:32.313398Z",
     "iopub.status.busy": "2022-07-12T16:49:32.312627Z",
     "iopub.status.idle": "2022-07-12T16:49:32.447909Z",
     "shell.execute_reply": "2022-07-12T16:49:32.447489Z",
     "shell.execute_reply.started": "2022-07-12T16:49:32.313344Z"
    },
    "tags": []
   },
   "outputs": [],
   "source": [
    "# spatially-explicit index (using queen neighborhoods)\n",
    "\n",
    "dissim_queen = SpatialDissim(scag, 'n_hispanic_persons', 'n_total_pop', w=w_queen)"
   ]
  },
  {
   "cell_type": "code",
   "execution_count": null,
   "metadata": {
    "execution": {
     "iopub.execute_input": "2022-07-12T16:49:32.586512Z",
     "iopub.status.busy": "2022-07-12T16:49:32.586179Z",
     "iopub.status.idle": "2022-07-12T16:49:32.638050Z",
     "shell.execute_reply": "2022-07-12T16:49:32.637512Z",
     "shell.execute_reply.started": "2022-07-12T16:49:32.586492Z"
    },
    "tags": []
   },
   "outputs": [],
   "source": [
    "dissim_queen.statistic"
   ]
  },
  {
   "cell_type": "code",
   "execution_count": null,
   "metadata": {
    "execution": {
     "iopub.execute_input": "2022-07-12T16:49:43.861670Z",
     "iopub.status.busy": "2022-07-12T16:49:43.861129Z",
     "iopub.status.idle": "2022-07-12T16:49:44.001179Z",
     "shell.execute_reply": "2022-07-12T16:49:44.000803Z",
     "shell.execute_reply.started": "2022-07-12T16:49:43.861634Z"
    },
    "tags": []
   },
   "outputs": [],
   "source": [
    "# spatially-explicit index using distance-based neighborhoods of 2500m)\n",
    "# exeryone inside the distance-band has the same interaction potential\n",
    "\n",
    "dissim_dist = SpatialDissim(scag, 'n_hispanic_persons', 'n_total_pop', w=w_dist)"
   ]
  },
  {
   "cell_type": "code",
   "execution_count": null,
   "metadata": {
    "execution": {
     "iopub.execute_input": "2022-07-12T16:49:44.164752Z",
     "iopub.status.busy": "2022-07-12T16:49:44.164253Z",
     "iopub.status.idle": "2022-07-12T16:49:44.214980Z",
     "shell.execute_reply": "2022-07-12T16:49:44.214652Z",
     "shell.execute_reply.started": "2022-07-12T16:49:44.164730Z"
    },
    "tags": []
   },
   "outputs": [],
   "source": [
    "dissim_dist.statistic"
   ]
  },
  {
   "cell_type": "code",
   "execution_count": null,
   "metadata": {
    "execution": {
     "iopub.execute_input": "2022-07-12T16:50:08.648042Z",
     "iopub.status.busy": "2022-07-12T16:50:08.647528Z",
     "iopub.status.idle": "2022-07-12T16:50:09.154056Z",
     "shell.execute_reply": "2022-07-12T16:50:09.153513Z",
     "shell.execute_reply.started": "2022-07-12T16:50:08.648012Z"
    },
    "tags": []
   },
   "outputs": [],
   "source": [
    "# spatially-implicit Dissimilarity index\n",
    "# the interaction potential among people inside the distance-band is weighted by proximity\n",
    "\n",
    "dissim_implicit_linear = Dissim(scag, 'n_hispanic_persons', 'n_total_pop', distance=2500)"
   ]
  },
  {
   "cell_type": "code",
   "execution_count": null,
   "metadata": {
    "execution": {
     "iopub.execute_input": "2022-07-12T16:51:41.355989Z",
     "iopub.status.busy": "2022-07-12T16:51:41.355230Z",
     "iopub.status.idle": "2022-07-12T16:51:41.429795Z",
     "shell.execute_reply": "2022-07-12T16:51:41.429327Z",
     "shell.execute_reply.started": "2022-07-12T16:51:41.355955Z"
    }
   },
   "outputs": [],
   "source": [
    "dissim = Dissim(scag, 'n_hispanic_persons', 'n_total_pop')"
   ]
  },
  {
   "cell_type": "code",
   "execution_count": null,
   "metadata": {
    "execution": {
     "iopub.execute_input": "2022-07-12T16:51:48.856808Z",
     "iopub.status.busy": "2022-07-12T16:51:48.856260Z",
     "iopub.status.idle": "2022-07-12T16:51:48.913593Z",
     "shell.execute_reply": "2022-07-12T16:51:48.913213Z",
     "shell.execute_reply.started": "2022-07-12T16:51:48.856777Z"
    }
   },
   "outputs": [],
   "source": [
    "dissim.statistic"
   ]
  },
  {
   "cell_type": "code",
   "execution_count": null,
   "metadata": {
    "execution": {
     "iopub.execute_input": "2022-07-12T16:51:26.740962Z",
     "iopub.status.busy": "2022-07-12T16:51:26.740452Z",
     "iopub.status.idle": "2022-07-12T16:51:26.841707Z",
     "shell.execute_reply": "2022-07-12T16:51:26.841248Z",
     "shell.execute_reply.started": "2022-07-12T16:51:26.740914Z"
    },
    "tags": []
   },
   "outputs": [],
   "source": [
    "dissim_implicit_linear.statistic"
   ]
  },
  {
   "cell_type": "code",
   "execution_count": null,
   "metadata": {
    "execution": {
     "iopub.execute_input": "2022-07-12T16:51:26.946382Z",
     "iopub.status.busy": "2022-07-12T16:51:26.946160Z",
     "iopub.status.idle": "2022-07-12T16:51:27.546420Z",
     "shell.execute_reply": "2022-07-12T16:51:27.545940Z",
     "shell.execute_reply.started": "2022-07-12T16:51:26.946370Z"
    },
    "tags": []
   },
   "outputs": [],
   "source": [
    "dissim_implicit_gaussian = Dissim(scag, 'n_hispanic_persons', 'n_total_pop', distance=2500, function='gaussian')"
   ]
  },
  {
   "cell_type": "code",
   "execution_count": null,
   "metadata": {
    "execution": {
     "iopub.execute_input": "2022-07-12T16:51:27.547511Z",
     "iopub.status.busy": "2022-07-12T16:51:27.547385Z",
     "iopub.status.idle": "2022-07-12T16:51:27.587374Z",
     "shell.execute_reply": "2022-07-12T16:51:27.586877Z",
     "shell.execute_reply.started": "2022-07-12T16:51:27.547501Z"
    },
    "tags": []
   },
   "outputs": [],
   "source": [
    "dissim_implicit_gaussian.statistic"
   ]
  },
  {
   "cell_type": "code",
   "execution_count": null,
   "metadata": {
    "execution": {
     "iopub.execute_input": "2022-07-12T16:51:27.591254Z",
     "iopub.status.busy": "2022-07-12T16:51:27.590499Z",
     "iopub.status.idle": "2022-07-12T16:51:28.268115Z",
     "shell.execute_reply": "2022-07-12T16:51:28.267676Z",
     "shell.execute_reply.started": "2022-07-12T16:51:27.590823Z"
    },
    "tags": []
   },
   "outputs": [],
   "source": [
    "# spatially-implicit Dissimilarity index\n",
    "dissim_implicit = Dissim(scag, 'n_hispanic_persons', 'n_total_pop', distance=3000)"
   ]
  },
  {
   "cell_type": "code",
   "execution_count": null,
   "metadata": {
    "execution": {
     "iopub.execute_input": "2022-07-12T16:51:28.269123Z",
     "iopub.status.busy": "2022-07-12T16:51:28.269007Z",
     "iopub.status.idle": "2022-07-12T16:51:28.307271Z",
     "shell.execute_reply": "2022-07-12T16:51:28.306880Z",
     "shell.execute_reply.started": "2022-07-12T16:51:28.269114Z"
    },
    "tags": []
   },
   "outputs": [],
   "source": [
    "dissim_implicit.statistic"
   ]
  },
  {
   "cell_type": "markdown",
   "metadata": {},
   "source": [
    "#### Multi Group"
   ]
  },
  {
   "cell_type": "code",
   "execution_count": null,
   "metadata": {
    "execution": {
     "iopub.execute_input": "2022-07-12T16:52:07.533268Z",
     "iopub.status.busy": "2022-07-12T16:52:07.532615Z",
     "iopub.status.idle": "2022-07-12T16:52:07.826739Z",
     "shell.execute_reply": "2022-07-12T16:52:07.826325Z",
     "shell.execute_reply.started": "2022-07-12T16:52:07.533237Z"
    },
    "tags": []
   },
   "outputs": [],
   "source": [
    "spatial_info_queen = MultiInfoTheory(scag, pop_groups, w=w_queen)\n",
    "spatial_info_dist = MultiInfoTheory(scag, pop_groups, w=w_dist)"
   ]
  },
  {
   "cell_type": "code",
   "execution_count": null,
   "metadata": {
    "execution": {
     "iopub.execute_input": "2022-07-12T16:52:07.827543Z",
     "iopub.status.busy": "2022-07-12T16:52:07.827405Z",
     "iopub.status.idle": "2022-07-12T16:52:08.193742Z",
     "shell.execute_reply": "2022-07-12T16:52:08.193248Z",
     "shell.execute_reply.started": "2022-07-12T16:52:07.827533Z"
    },
    "tags": []
   },
   "outputs": [],
   "source": [
    "info_spatial = MultiInfoTheory(scag, groups=pop_groups, distance=2000)"
   ]
  },
  {
   "cell_type": "code",
   "execution_count": null,
   "metadata": {
    "execution": {
     "iopub.execute_input": "2022-07-12T16:52:08.194579Z",
     "iopub.status.busy": "2022-07-12T16:52:08.194465Z",
     "iopub.status.idle": "2022-07-12T16:52:08.229157Z",
     "shell.execute_reply": "2022-07-12T16:52:08.228759Z",
     "shell.execute_reply.started": "2022-07-12T16:52:08.194571Z"
    },
    "tags": []
   },
   "outputs": [],
   "source": [
    "spatial_info_queen.statistic"
   ]
  },
  {
   "cell_type": "code",
   "execution_count": null,
   "metadata": {
    "execution": {
     "iopub.execute_input": "2022-07-12T16:52:08.240157Z",
     "iopub.status.busy": "2022-07-12T16:52:08.239985Z",
     "iopub.status.idle": "2022-07-12T16:52:08.276147Z",
     "shell.execute_reply": "2022-07-12T16:52:08.275230Z",
     "shell.execute_reply.started": "2022-07-12T16:52:08.240144Z"
    },
    "tags": []
   },
   "outputs": [],
   "source": [
    "spatial_info_dist.statistic"
   ]
  },
  {
   "cell_type": "code",
   "execution_count": null,
   "metadata": {
    "execution": {
     "iopub.status.busy": "2022-07-12T12:38:55.565600Z",
     "iopub.status.idle": "2022-07-12T12:38:55.565722Z",
     "shell.execute_reply": "2022-07-12T12:38:55.565660Z",
     "shell.execute_reply.started": "2022-07-12T12:38:55.565655Z"
    }
   },
   "outputs": [],
   "source": [
    "info_spatial.statistic"
   ]
  },
  {
   "cell_type": "code",
   "execution_count": null,
   "metadata": {},
   "outputs": [],
   "source": []
  },
  {
   "cell_type": "markdown",
   "metadata": {},
   "source": [
    "## Spatial Segregation Dynamics"
   ]
  },
  {
   "cell_type": "markdown",
   "metadata": {
    "tags": []
   },
   "source": [
    "#### Multiscalar Profile"
   ]
  },
  {
   "cell_type": "markdown",
   "metadata": {},
   "source": [
    "The multiscalar segregation profile is a way of measuring how global versus local the segregation patterns are in a region. As stylized examples, consider a city where one population groups lives on the eastern half and another group lives on the western half (large-scale/macro segregation) versus a city full of dense apartment buildings, but each building is occupied exclusively by members of a single population group"
   ]
  },
  {
   "cell_type": "markdown",
   "metadata": {},
   "source": [
    "![](https://knaaptime.com/images/macromicro.jpeg)"
   ]
  },
  {
   "cell_type": "code",
   "execution_count": null,
   "metadata": {
    "execution": {
     "iopub.execute_input": "2022-07-12T16:53:48.339941Z",
     "iopub.status.busy": "2022-07-12T16:53:48.339371Z",
     "iopub.status.idle": "2022-07-12T16:53:48.395807Z",
     "shell.execute_reply": "2022-07-12T16:53:48.395297Z",
     "shell.execute_reply.started": "2022-07-12T16:53:48.339913Z"
    },
    "tags": []
   },
   "outputs": [],
   "source": [
    "from segregation.dynamics import compute_multiscalar_profile"
   ]
  },
  {
   "cell_type": "code",
   "execution_count": null,
   "metadata": {
    "execution": {
     "iopub.execute_input": "2022-07-12T16:53:43.287121Z",
     "iopub.status.busy": "2022-07-12T16:53:43.286234Z",
     "iopub.status.idle": "2022-07-12T16:53:43.412714Z",
     "shell.execute_reply": "2022-07-12T16:53:43.412218Z",
     "shell.execute_reply.started": "2022-07-12T16:53:43.287088Z"
    },
    "tags": []
   },
   "outputs": [],
   "source": [
    "distances = [1500., 2500., 3500., 4500., 5500.]"
   ]
  },
  {
   "cell_type": "code",
   "execution_count": null,
   "metadata": {
    "execution": {
     "iopub.execute_input": "2022-07-12T16:53:58.148948Z",
     "iopub.status.busy": "2022-07-12T16:53:58.148264Z",
     "iopub.status.idle": "2022-07-12T16:54:04.077094Z",
     "shell.execute_reply": "2022-07-12T16:54:04.076589Z",
     "shell.execute_reply.started": "2022-07-12T16:53:58.148914Z"
    },
    "tags": []
   },
   "outputs": [],
   "source": [
    "prof = compute_multiscalar_profile(scag,segregation_index=MultiInfoTheory, groups=pop_groups, distances=distances)"
   ]
  },
  {
   "cell_type": "code",
   "execution_count": null,
   "metadata": {
    "execution": {
     "iopub.execute_input": "2022-07-12T16:54:04.077909Z",
     "iopub.status.busy": "2022-07-12T16:54:04.077811Z",
     "iopub.status.idle": "2022-07-12T16:54:04.182223Z",
     "shell.execute_reply": "2022-07-12T16:54:04.181775Z",
     "shell.execute_reply.started": "2022-07-12T16:54:04.077900Z"
    },
    "tags": []
   },
   "outputs": [],
   "source": [
    "prof.plot()"
   ]
  },
  {
   "cell_type": "markdown",
   "metadata": {},
   "source": [
    "We can also look at how the segregation profiles differ by region. If we plot them all on the same graph, we can compare the slopes of the lines to see how the shape of segregation differs between places in the southern cal region"
   ]
  },
  {
   "cell_type": "code",
   "execution_count": null,
   "metadata": {
    "execution": {
     "iopub.execute_input": "2022-07-12T16:54:31.831453Z",
     "iopub.status.busy": "2022-07-12T16:54:31.830865Z",
     "iopub.status.idle": "2022-07-12T16:54:37.954807Z",
     "shell.execute_reply": "2022-07-12T16:54:37.954392Z",
     "shell.execute_reply.started": "2022-07-12T16:54:31.831421Z"
    },
    "tags": []
   },
   "outputs": [],
   "source": [
    "coastal_prof = compute_multiscalar_profile(coastal, segregation_index=MultiInfoTheory, groups=pop_groups, distances=distances)\n",
    "inland_prof = compute_multiscalar_profile(inland, segregation_index=MultiInfoTheory, groups=pop_groups, distances=distances)"
   ]
  },
  {
   "cell_type": "code",
   "execution_count": null,
   "metadata": {
    "execution": {
     "iopub.execute_input": "2022-07-12T16:54:46.026411Z",
     "iopub.status.busy": "2022-07-12T16:54:46.025742Z",
     "iopub.status.idle": "2022-07-12T16:54:46.088925Z",
     "shell.execute_reply": "2022-07-12T16:54:46.088491Z",
     "shell.execute_reply.started": "2022-07-12T16:54:46.026375Z"
    },
    "tags": []
   },
   "outputs": [],
   "source": [
    "import pandas as pd"
   ]
  },
  {
   "cell_type": "code",
   "execution_count": null,
   "metadata": {
    "execution": {
     "iopub.execute_input": "2022-07-12T16:54:46.935348Z",
     "iopub.status.busy": "2022-07-12T16:54:46.934587Z",
     "iopub.status.idle": "2022-07-12T16:54:47.077684Z",
     "shell.execute_reply": "2022-07-12T16:54:47.077341Z",
     "shell.execute_reply.started": "2022-07-12T16:54:46.935320Z"
    },
    "tags": []
   },
   "outputs": [],
   "source": [
    "\n",
    "pd.Series(prof, name='socal').plot(legend=True)\n",
    "pd.Series(coastal_prof, name='coastal').plot(legend=True)\n",
    "pd.Series(inland_prof, name='inland').plot(legend=True)"
   ]
  },
  {
   "cell_type": "markdown",
   "metadata": {
    "tags": []
   },
   "source": [
    "## Local Segregation Measures"
   ]
  },
  {
   "cell_type": "markdown",
   "metadata": {},
   "source": [
    "Unlike global measures, local segregation statistics measure "
   ]
  },
  {
   "cell_type": "code",
   "execution_count": null,
   "metadata": {
    "execution": {
     "iopub.execute_input": "2022-07-12T16:55:34.971337Z",
     "iopub.status.busy": "2022-07-12T16:55:34.970920Z",
     "iopub.status.idle": "2022-07-12T16:55:35.028697Z",
     "shell.execute_reply": "2022-07-12T16:55:35.028291Z",
     "shell.execute_reply.started": "2022-07-12T16:55:34.971312Z"
    },
    "tags": []
   },
   "outputs": [],
   "source": [
    "from segregation.local import LocalDistortion, MultiLocationQuotient"
   ]
  },
  {
   "cell_type": "code",
   "execution_count": null,
   "metadata": {
    "tags": []
   },
   "outputs": [],
   "source": []
  },
  {
   "cell_type": "code",
   "execution_count": null,
   "metadata": {
    "execution": {
     "iopub.execute_input": "2022-07-12T16:55:35.506217Z",
     "iopub.status.busy": "2022-07-12T16:55:35.505529Z",
     "iopub.status.idle": "2022-07-12T16:55:39.874409Z",
     "shell.execute_reply": "2022-07-12T16:55:39.873878Z",
     "shell.execute_reply.started": "2022-07-12T16:55:35.506183Z"
    },
    "tags": []
   },
   "outputs": [],
   "source": [
    "d = LocalDistortion(scag, groups=pop_groups)"
   ]
  },
  {
   "cell_type": "code",
   "execution_count": null,
   "metadata": {
    "execution": {
     "iopub.execute_input": "2022-07-12T16:55:39.875365Z",
     "iopub.status.busy": "2022-07-12T16:55:39.875271Z",
     "iopub.status.idle": "2022-07-12T16:55:39.922807Z",
     "shell.execute_reply": "2022-07-12T16:55:39.922440Z",
     "shell.execute_reply.started": "2022-07-12T16:55:39.875357Z"
    },
    "tags": []
   },
   "outputs": [],
   "source": [
    "d.data"
   ]
  },
  {
   "cell_type": "code",
   "execution_count": null,
   "metadata": {
    "execution": {
     "iopub.execute_input": "2022-07-12T16:55:39.923447Z",
     "iopub.status.busy": "2022-07-12T16:55:39.923351Z",
     "iopub.status.idle": "2022-07-12T16:55:40.173227Z",
     "shell.execute_reply": "2022-07-12T16:55:40.172846Z",
     "shell.execute_reply.started": "2022-07-12T16:55:39.923438Z"
    },
    "tags": []
   },
   "outputs": [],
   "source": [
    "import contextily as ctx"
   ]
  },
  {
   "cell_type": "code",
   "execution_count": null,
   "metadata": {
    "execution": {
     "iopub.execute_input": "2022-07-12T16:55:44.089501Z",
     "iopub.status.busy": "2022-07-12T16:55:44.088042Z",
     "iopub.status.idle": "2022-07-12T16:55:44.144164Z",
     "shell.execute_reply": "2022-07-12T16:55:44.143777Z",
     "shell.execute_reply.started": "2022-07-12T16:55:44.089464Z"
    },
    "tags": []
   },
   "outputs": [],
   "source": [
    "d.data.crs"
   ]
  },
  {
   "cell_type": "code",
   "execution_count": null,
   "metadata": {
    "execution": {
     "iopub.execute_input": "2022-07-12T16:55:45.866718Z",
     "iopub.status.busy": "2022-07-12T16:55:45.866175Z",
     "iopub.status.idle": "2022-07-12T16:56:14.277030Z",
     "shell.execute_reply": "2022-07-12T16:56:14.276648Z",
     "shell.execute_reply.started": "2022-07-12T16:55:45.866670Z"
    },
    "tags": []
   },
   "outputs": [],
   "source": [
    "ax = d.data.to_crs(3857).plot('distortion',  scheme='fisherjenks', cmap='RdBu_r', alpha=0.6, figsize=(10,10) )\n",
    "ctx.add_basemap(ax=ax)"
   ]
  },
  {
   "cell_type": "code",
   "execution_count": null,
   "metadata": {
    "execution": {
     "iopub.execute_input": "2022-07-12T16:56:14.277818Z",
     "iopub.status.busy": "2022-07-12T16:56:14.277726Z",
     "iopub.status.idle": "2022-07-12T16:56:15.316479Z",
     "shell.execute_reply": "2022-07-12T16:56:15.316091Z",
     "shell.execute_reply.started": "2022-07-12T16:56:14.277808Z"
    },
    "tags": []
   },
   "outputs": [],
   "source": [
    "d.data.explore('distortion',cmap ='RdBu_r', style_kwds={'stroke':False}, scheme='fisherjenks', tiles=\"Stamen Toner\")"
   ]
  },
  {
   "cell_type": "markdown",
   "metadata": {
    "tags": []
   },
   "source": [
    "## Single-Value Inference"
   ]
  },
  {
   "cell_type": "markdown",
   "metadata": {},
   "source": [
    "This shows that segregation in the coastal region is considerably larger than the inland region at every scale, though have similar shapes to their overall segregation profiles."
   ]
  },
  {
   "cell_type": "code",
   "execution_count": null,
   "metadata": {
    "execution": {
     "iopub.execute_input": "2022-07-12T16:58:02.835893Z",
     "iopub.status.busy": "2022-07-12T16:58:02.835496Z",
     "iopub.status.idle": "2022-07-12T16:58:02.902335Z",
     "shell.execute_reply": "2022-07-12T16:58:02.901759Z",
     "shell.execute_reply.started": "2022-07-12T16:58:02.835869Z"
    },
    "tags": []
   },
   "outputs": [],
   "source": [
    "from segregation.inference import SingleValueTest"
   ]
  },
  {
   "cell_type": "code",
   "execution_count": null,
   "metadata": {
    "execution": {
     "iopub.execute_input": "2022-07-12T16:58:03.296658Z",
     "iopub.status.busy": "2022-07-12T16:58:03.296257Z",
     "iopub.status.idle": "2022-07-12T16:58:08.734010Z",
     "shell.execute_reply": "2022-07-12T16:58:08.733483Z",
     "shell.execute_reply.started": "2022-07-12T16:58:03.296635Z"
    },
    "tags": []
   },
   "outputs": [],
   "source": [
    "entropy_test = SingleValueTest(entropy_black)"
   ]
  },
  {
   "cell_type": "code",
   "execution_count": null,
   "metadata": {
    "execution": {
     "iopub.execute_input": "2022-07-12T16:58:18.816189Z",
     "iopub.status.busy": "2022-07-12T16:58:18.815649Z",
     "iopub.status.idle": "2022-07-12T16:58:18.877928Z",
     "shell.execute_reply": "2022-07-12T16:58:18.877460Z",
     "shell.execute_reply.started": "2022-07-12T16:58:18.816163Z"
    },
    "tags": []
   },
   "outputs": [],
   "source": [
    "entropy_test.p_value"
   ]
  },
  {
   "cell_type": "code",
   "execution_count": null,
   "metadata": {
    "execution": {
     "iopub.execute_input": "2022-07-12T16:58:23.021672Z",
     "iopub.status.busy": "2022-07-12T16:58:23.021113Z",
     "iopub.status.idle": "2022-07-12T16:58:23.386293Z",
     "shell.execute_reply": "2022-07-12T16:58:23.385798Z",
     "shell.execute_reply.started": "2022-07-12T16:58:23.021641Z"
    },
    "tags": []
   },
   "outputs": [],
   "source": [
    "entropy_test.plot()"
   ]
  },
  {
   "cell_type": "markdown",
   "metadata": {},
   "source": [
    "## Comparative Inference"
   ]
  },
  {
   "cell_type": "code",
   "execution_count": null,
   "metadata": {
    "execution": {
     "iopub.execute_input": "2022-07-12T16:59:06.342391Z",
     "iopub.status.busy": "2022-07-12T16:59:06.341592Z",
     "iopub.status.idle": "2022-07-12T16:59:06.434872Z",
     "shell.execute_reply": "2022-07-12T16:59:06.434217Z",
     "shell.execute_reply.started": "2022-07-12T16:59:06.342347Z"
    },
    "tags": []
   },
   "outputs": [],
   "source": [
    "from segregation.inference import TwoValueTest"
   ]
  },
  {
   "cell_type": "code",
   "execution_count": null,
   "metadata": {
    "execution": {
     "iopub.execute_input": "2022-07-12T16:59:07.231688Z",
     "iopub.status.busy": "2022-07-12T16:59:07.231289Z",
     "iopub.status.idle": "2022-07-12T16:59:08.603958Z",
     "shell.execute_reply": "2022-07-12T16:59:08.603413Z",
     "shell.execute_reply.started": "2022-07-12T16:59:07.231664Z"
    },
    "tags": []
   },
   "outputs": [],
   "source": [
    "info_test = TwoValueTest(MultiInfoTheory(coastal, pop_groups),\n",
    "            MultiInfoTheory(inland, pop_groups))"
   ]
  },
  {
   "cell_type": "code",
   "execution_count": null,
   "metadata": {
    "execution": {
     "iopub.execute_input": "2022-07-12T16:59:09.177778Z",
     "iopub.status.busy": "2022-07-12T16:59:09.177382Z",
     "iopub.status.idle": "2022-07-12T16:59:09.254123Z",
     "shell.execute_reply": "2022-07-12T16:59:09.253685Z",
     "shell.execute_reply.started": "2022-07-12T16:59:09.177754Z"
    },
    "tags": []
   },
   "outputs": [],
   "source": [
    "info_test.est_point_diff"
   ]
  },
  {
   "cell_type": "code",
   "execution_count": null,
   "metadata": {
    "execution": {
     "iopub.execute_input": "2022-07-12T16:59:10.679643Z",
     "iopub.status.busy": "2022-07-12T16:59:10.679200Z",
     "iopub.status.idle": "2022-07-12T16:59:10.852228Z",
     "shell.execute_reply": "2022-07-12T16:59:10.851758Z",
     "shell.execute_reply.started": "2022-07-12T16:59:10.679617Z"
    },
    "tags": []
   },
   "outputs": [],
   "source": [
    "info_test.plot()"
   ]
  },
  {
   "cell_type": "markdown",
   "metadata": {},
   "source": [
    "## Exercise"
   ]
  },
  {
   "cell_type": "markdown",
   "metadata": {},
   "source": [
    "1. Which county in the socal region has the greatest level of multiracial segregation, (using the 4 categories above) according to the multigroup Information Theory index?\n",
    "\n",
    "2. According to the Gini index, is hispanic/latino segregation in Riverside County greater or less than Ventura County? Is that difference significant?\n"
   ]
  },
  {
   "cell_type": "code",
   "execution_count": null,
   "metadata": {
    "execution": {
     "iopub.execute_input": "2022-07-12T17:00:00.686723Z",
     "iopub.status.busy": "2022-07-12T17:00:00.685689Z",
     "iopub.status.idle": "2022-07-12T17:00:00.759594Z",
     "shell.execute_reply": "2022-07-12T17:00:00.758939Z",
     "shell.execute_reply.started": "2022-07-12T17:00:00.686652Z"
    },
    "tags": []
   },
   "outputs": [],
   "source": [
    "# %load solutions/06.py\n",
    "#### 1\n",
    "\n",
    "results = {}\n",
    "\n",
    "for i in scag.county.unique():\n",
    "\n",
    "    results[i] = MultiInformationTheory(scag[scag.county==i], pop_groups).statistic\n",
    "    print(f\"{i} Info Theory: {results[i]}\")\n",
    "\n",
    "\n",
    "#### 2\n",
    "\n",
    "rside_gini = GiniSeg(scag[scag.county=='Riverside'], group_pop_var='n_hispanic_persons', total_pop_var='n_total_pop')\n",
    "vent_gini = GiniSeg(scag[scag.county=='Ventura'], group_pop_var='n_hispanic_persons', total_pop_var='n_total_pop')\n",
    "\n",
    "print(f\"\\nRiverside Gini: {rside_gini.statistic}\")\n",
    "print(f\"Venura Gini: {vent_gini.statistic}\")\n",
    "ginitest = TwoValueTest(rside_gini, vent_gini)\n",
    "print(f\"test significance level = {ginitest.p_value}\")\n",
    "ginitest.plot()\n",
    "\n",
    "#### 3\n",
    "\n",
    "rside = scag[scag.county=='Riverside']\n",
    "d = LocalDistortion(rside, groups=pop_groups)\n",
    "d.d.set_index('geoid').max()\n"
   ]
  },
  {
   "cell_type": "code",
   "execution_count": null,
   "metadata": {},
   "outputs": [],
   "source": []
  }
 ],
 "metadata": {
  "kernelspec": {
   "display_name": "Python [conda env:pysal-workshop]",
   "language": "python",
   "name": "conda-env-pysal-workshop-py"
  },
  "language_info": {
   "codemirror_mode": {
    "name": "ipython",
    "version": 3
   },
   "file_extension": ".py",
   "mimetype": "text/x-python",
   "name": "python",
   "nbconvert_exporter": "python",
   "pygments_lexer": "ipython3",
   "version": "3.9.13"
  },
  "widgets": {
   "application/vnd.jupyter.widget-state+json": {
    "state": {
     "0547bd1897c24243960b219851258544": {
      "model_module": "@jupyter-widgets/controls",
      "model_module_version": "1.5.0",
      "model_name": "FloatProgressModel",
      "state": {
       "bar_style": "success",
       "layout": "IPY_MODEL_072dc67e5f58486da9a02e164b88971c",
       "max": 500,
       "style": "IPY_MODEL_5d0e0abbc4194b46907309fdfccead1a",
       "value": 500
      }
     },
     "072dc67e5f58486da9a02e164b88971c": {
      "model_module": "@jupyter-widgets/base",
      "model_module_version": "1.2.0",
      "model_name": "LayoutModel",
      "state": {}
     },
     "0961185a37284683b7a1a771515c9877": {
      "model_module": "@jupyter-widgets/controls",
      "model_module_version": "1.5.0",
      "model_name": "DescriptionStyleModel",
      "state": {
       "description_width": ""
      }
     },
     "0a1a566ecd6e4c9aa158a47fbb42713f": {
      "model_module": "@jupyter-widgets/controls",
      "model_module_version": "1.5.0",
      "model_name": "DescriptionStyleModel",
      "state": {
       "description_width": ""
      }
     },
     "132c0e87db9445b6bac6393e2c93ed0a": {
      "model_module": "@jupyter-widgets/base",
      "model_module_version": "1.2.0",
      "model_name": "LayoutModel",
      "state": {}
     },
     "139427eeab5c4fe4954159b76c4da0ac": {
      "model_module": "@jupyter-widgets/controls",
      "model_module_version": "1.5.0",
      "model_name": "HTMLModel",
      "state": {
       "layout": "IPY_MODEL_73395ba869544e5db503dcd0f65b5bd5",
       "style": "IPY_MODEL_22b318ae8dea4b9594d26a391781b749",
       "value": "SpatialProximity: 100%"
      }
     },
     "1814f399256b420e9330c49345d69788": {
      "model_module": "@jupyter-widgets/base",
      "model_module_version": "1.2.0",
      "model_name": "LayoutModel",
      "state": {}
     },
     "1de75c686424402aa9d6e789099a68d6": {
      "model_module": "@jupyter-widgets/base",
      "model_module_version": "1.2.0",
      "model_name": "LayoutModel",
      "state": {}
     },
     "22b318ae8dea4b9594d26a391781b749": {
      "model_module": "@jupyter-widgets/controls",
      "model_module_version": "1.5.0",
      "model_name": "DescriptionStyleModel",
      "state": {
       "description_width": ""
      }
     },
     "238ea6bc4e184b6598668d27a4507f8c": {
      "model_module": "@jupyter-widgets/controls",
      "model_module_version": "1.5.0",
      "model_name": "FloatProgressModel",
      "state": {
       "bar_style": "success",
       "layout": "IPY_MODEL_25fc9681aab8457b8ce20b16f99eeacd",
       "max": 27,
       "style": "IPY_MODEL_da5fc999b24d4e0e9d8b11333bdad4b8",
       "value": 27
      }
     },
     "25fc9681aab8457b8ce20b16f99eeacd": {
      "model_module": "@jupyter-widgets/base",
      "model_module_version": "1.2.0",
      "model_name": "LayoutModel",
      "state": {}
     },
     "2f3d384bbb5c4f4781b8322f060906d0": {
      "model_module": "@jupyter-widgets/controls",
      "model_module_version": "1.5.0",
      "model_name": "HTMLModel",
      "state": {
       "layout": "IPY_MODEL_1de75c686424402aa9d6e789099a68d6",
       "style": "IPY_MODEL_0a1a566ecd6e4c9aa158a47fbb42713f",
       "value": " 27/27 [02:23&lt;00:00,  7.76s/it]"
      }
     },
     "4ce6c05cf7594570ae56465de4f68c0e": {
      "model_module": "@jupyter-widgets/base",
      "model_module_version": "1.2.0",
      "model_name": "LayoutModel",
      "state": {}
     },
     "583ce290719b4ba8a63c6acb65c51555": {
      "model_module": "@jupyter-widgets/base",
      "model_module_version": "1.2.0",
      "model_name": "LayoutModel",
      "state": {}
     },
     "5a940264a42a489e9d3bfae3f9a50a6b": {
      "model_module": "@jupyter-widgets/controls",
      "model_module_version": "1.5.0",
      "model_name": "HBoxModel",
      "state": {
       "children": [
        "IPY_MODEL_139427eeab5c4fe4954159b76c4da0ac",
        "IPY_MODEL_238ea6bc4e184b6598668d27a4507f8c",
        "IPY_MODEL_2f3d384bbb5c4f4781b8322f060906d0"
       ],
       "layout": "IPY_MODEL_afe8d70ed2b24d46926cadd27191e1ef"
      }
     },
     "5d0e0abbc4194b46907309fdfccead1a": {
      "model_module": "@jupyter-widgets/controls",
      "model_module_version": "1.5.0",
      "model_name": "ProgressStyleModel",
      "state": {
       "description_width": ""
      }
     },
     "6e07aae6719d4c71aa5fe63092d099cb": {
      "model_module": "@jupyter-widgets/base",
      "model_module_version": "1.2.0",
      "model_name": "LayoutModel",
      "state": {}
     },
     "6f8342e390254a0989fdc0cc490220c6": {
      "model_module": "@jupyter-widgets/controls",
      "model_module_version": "1.5.0",
      "model_name": "FloatProgressModel",
      "state": {
       "bar_style": "success",
       "layout": "IPY_MODEL_da03141660f04b93b301d9738799c636",
       "max": 500,
       "style": "IPY_MODEL_c1136b69499e4e3aa6152d3fec8974c4",
       "value": 500
      }
     },
     "73395ba869544e5db503dcd0f65b5bd5": {
      "model_module": "@jupyter-widgets/base",
      "model_module_version": "1.2.0",
      "model_name": "LayoutModel",
      "state": {}
     },
     "738437feaf9b445d897afd394c070d13": {
      "model_module": "@jupyter-widgets/controls",
      "model_module_version": "1.5.0",
      "model_name": "DescriptionStyleModel",
      "state": {
       "description_width": ""
      }
     },
     "7d9f32b2f45a4003a78f11c4f3232576": {
      "model_module": "@jupyter-widgets/base",
      "model_module_version": "1.2.0",
      "model_name": "LayoutModel",
      "state": {}
     },
     "8276759b8b3749a2a5b40fb77a7b820e": {
      "model_module": "@jupyter-widgets/controls",
      "model_module_version": "1.5.0",
      "model_name": "HTMLModel",
      "state": {
       "layout": "IPY_MODEL_6e07aae6719d4c71aa5fe63092d099cb",
       "style": "IPY_MODEL_0961185a37284683b7a1a771515c9877",
       "value": " 500/500 [00:00&lt;00:00, 619.57it/s]"
      }
     },
     "afe8d70ed2b24d46926cadd27191e1ef": {
      "model_module": "@jupyter-widgets/base",
      "model_module_version": "1.2.0",
      "model_name": "LayoutModel",
      "state": {}
     },
     "b69f5ff41d2d408387b44d2816a1371d": {
      "model_module": "@jupyter-widgets/controls",
      "model_module_version": "1.5.0",
      "model_name": "DescriptionStyleModel",
      "state": {
       "description_width": ""
      }
     },
     "bec547ddd790412099aa7db18268f99d": {
      "model_module": "@jupyter-widgets/controls",
      "model_module_version": "1.5.0",
      "model_name": "HTMLModel",
      "state": {
       "layout": "IPY_MODEL_4ce6c05cf7594570ae56465de4f68c0e",
       "style": "IPY_MODEL_738437feaf9b445d897afd394c070d13",
       "value": "100%"
      }
     },
     "c1136b69499e4e3aa6152d3fec8974c4": {
      "model_module": "@jupyter-widgets/controls",
      "model_module_version": "1.5.0",
      "model_name": "ProgressStyleModel",
      "state": {
       "description_width": ""
      }
     },
     "cb0f9868cd1d465ea725252fafb47276": {
      "model_module": "@jupyter-widgets/controls",
      "model_module_version": "1.5.0",
      "model_name": "HTMLModel",
      "state": {
       "layout": "IPY_MODEL_1814f399256b420e9330c49345d69788",
       "style": "IPY_MODEL_b69f5ff41d2d408387b44d2816a1371d",
       "value": " 500/500 [00:04&lt;00:00, 361.25it/s]"
      }
     },
     "d27626af5b4242f1914b9be8b71c191c": {
      "model_module": "@jupyter-widgets/controls",
      "model_module_version": "1.5.0",
      "model_name": "HTMLModel",
      "state": {
       "layout": "IPY_MODEL_583ce290719b4ba8a63c6acb65c51555",
       "style": "IPY_MODEL_dcc1ae3e741040aaaf0e74471ba9461c",
       "value": "100%"
      }
     },
     "d2a4fae8d9a546999fa41d879f22a3b0": {
      "model_module": "@jupyter-widgets/controls",
      "model_module_version": "1.5.0",
      "model_name": "HBoxModel",
      "state": {
       "children": [
        "IPY_MODEL_bec547ddd790412099aa7db18268f99d",
        "IPY_MODEL_6f8342e390254a0989fdc0cc490220c6",
        "IPY_MODEL_8276759b8b3749a2a5b40fb77a7b820e"
       ],
       "layout": "IPY_MODEL_132c0e87db9445b6bac6393e2c93ed0a"
      }
     },
     "da03141660f04b93b301d9738799c636": {
      "model_module": "@jupyter-widgets/base",
      "model_module_version": "1.2.0",
      "model_name": "LayoutModel",
      "state": {}
     },
     "da5fc999b24d4e0e9d8b11333bdad4b8": {
      "model_module": "@jupyter-widgets/controls",
      "model_module_version": "1.5.0",
      "model_name": "ProgressStyleModel",
      "state": {
       "description_width": ""
      }
     },
     "dcc1ae3e741040aaaf0e74471ba9461c": {
      "model_module": "@jupyter-widgets/controls",
      "model_module_version": "1.5.0",
      "model_name": "DescriptionStyleModel",
      "state": {
       "description_width": ""
      }
     },
     "fd005e72acd5447baa077cd00fb68364": {
      "model_module": "@jupyter-widgets/controls",
      "model_module_version": "1.5.0",
      "model_name": "HBoxModel",
      "state": {
       "children": [
        "IPY_MODEL_d27626af5b4242f1914b9be8b71c191c",
        "IPY_MODEL_0547bd1897c24243960b219851258544",
        "IPY_MODEL_cb0f9868cd1d465ea725252fafb47276"
       ],
       "layout": "IPY_MODEL_7d9f32b2f45a4003a78f11c4f3232576"
      }
     }
    },
    "version_major": 2,
    "version_minor": 0
   }
  }
 },
 "nbformat": 4,
 "nbformat_minor": 4
}
