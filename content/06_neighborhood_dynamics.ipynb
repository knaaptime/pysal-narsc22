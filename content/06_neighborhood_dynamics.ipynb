{
 "cells": [
  {
   "cell_type": "markdown",
   "id": "8f7fcda7-13cb-467f-bad4-bb6fa15a97c9",
   "metadata": {},
   "source": [
    "# Modeling Neighborhood Dynamics with `geosnap`"
   ]
  },
  {
   "cell_type": "markdown",
   "id": "34c582c1-5ff6-4d4c-b444-181c3f030a30",
   "metadata": {},
   "source": [
    "The geosnap package is designed for geodemographic analysis and regionalization applied to longitudinal data. Following those analyses, it also provides tools for modeling neighborhood composition into the future using spatial and temporal transition rules learned from the past."
   ]
  },
  {
   "cell_type": "code",
   "execution_count": null,
   "id": "b496b8ba-2472-4f81-b814-27c3e45e6ced",
   "metadata": {
    "tags": []
   },
   "outputs": [],
   "source": [
    "%load_ext watermark\n",
    "%watermark -v -a \"author: eli knaap\" -d -u -p segregation,libpysal,geopandas,geosnap"
   ]
  },
  {
   "cell_type": "code",
   "execution_count": null,
   "id": "8ae455b1-4d2b-4e0d-b8af-14e6aea17fd9",
   "metadata": {
    "tags": []
   },
   "outputs": [],
   "source": [
    "from geosnap import DataStore\n",
    "from geosnap.io import get_acs\n",
    "from geosnap.analyze import cluster, regionalize"
   ]
  },
  {
   "cell_type": "code",
   "execution_count": null,
   "id": "448e2408-b4a9-42fb-a9b4-796ba3f86f38",
   "metadata": {
    "tags": []
   },
   "outputs": [],
   "source": [
    "from geosnap.visualize import plot_timeseries, animate_timeseries"
   ]
  },
  {
   "cell_type": "code",
   "execution_count": null,
   "id": "1a1c6342-9f83-4951-9ba2-3178771b6659",
   "metadata": {
    "tags": []
   },
   "outputs": [],
   "source": [
    "import geopandas as gpd"
   ]
  },
  {
   "cell_type": "markdown",
   "id": "2ce13726-cc7d-4739-a399-1add75c3c4c9",
   "metadata": {},
   "source": [
    "## Examining Data"
   ]
  },
  {
   "cell_type": "code",
   "execution_count": null,
   "id": "f986e461-2c14-4e7e-b7b4-384f2933fb0e",
   "metadata": {
    "tags": []
   },
   "outputs": [],
   "source": [
    "store = DataStore()"
   ]
  },
  {
   "cell_type": "markdown",
   "id": "a4446823-6579-4595-a1e9-0700f5149c18",
   "metadata": {},
   "source": [
    "The DataStore class provides access to hundreds of neighbrohood indicators for the U.S. collected from federal agencies. We store these datasets in the cloud and stream them on demand. But if you plan on doing repeated analyses you can store the data locally (which we've already done on the JupyterHub)"
   ]
  },
  {
   "cell_type": "code",
   "execution_count": null,
   "id": "6b182bbb-f488-4780-8fca-7a124c4f25e8",
   "metadata": {
    "tags": []
   },
   "outputs": [],
   "source": [
    "dir(store)"
   ]
  },
  {
   "cell_type": "markdown",
   "id": "bcb88834-e976-44a3-99ff-ffd947e63396",
   "metadata": {},
   "source": [
    "Each dataset in the datastore covers the entire country for a single time period. To generate a dataset for a single place, geosnap provides several convenience functions"
   ]
  },
  {
   "cell_type": "code",
   "execution_count": null,
   "id": "6a562339-92c6-4428-9956-dcb84f72f46d",
   "metadata": {
    "tags": []
   },
   "outputs": [],
   "source": [
    "chicago = get_acs(store, county_fips='17031', level='tract', years=list(range(2013, 2017)))  # without specifying a subset of years, we get everything"
   ]
  },
  {
   "cell_type": "code",
   "execution_count": null,
   "id": "52c67e5b-32ec-45e2-822f-82cc211045db",
   "metadata": {
    "tags": []
   },
   "outputs": [],
   "source": [
    "chicago"
   ]
  },
  {
   "cell_type": "markdown",
   "id": "35a1123a-5ae1-4851-a1d0-3f15555c3651",
   "metadata": {},
   "source": [
    "(If several people hit the server at once, things can slow down. There's a local copy of the data in that case)"
   ]
  },
  {
   "cell_type": "code",
   "execution_count": null,
   "id": "3c15dc13-dc26-446f-93df-93e369d681b5",
   "metadata": {
    "tags": []
   },
   "outputs": [],
   "source": [
    "# chicago = gpd.read_parquet(\"data/chicago_acs.parquet\")"
   ]
  },
  {
   "cell_type": "code",
   "execution_count": null,
   "id": "a199bee6-a5c9-4044-90f2-562ff01728b3",
   "metadata": {
    "tags": []
   },
   "outputs": [],
   "source": [
    "chicago.info()"
   ]
  },
  {
   "cell_type": "code",
   "execution_count": null,
   "id": "ace26f04-eb16-4c4a-8315-443651e2a251",
   "metadata": {
    "tags": []
   },
   "outputs": [],
   "source": [
    "chicago.head()"
   ]
  },
  {
   "cell_type": "markdown",
   "id": "49c97b19-205a-4849-897e-dbd717525f13",
   "metadata": {},
   "source": [
    "There are also convenient plotting methods for looking at change over time. A useful feature here is that the choropleth bins are the same for each time period, making it easy to see change over time"
   ]
  },
  {
   "cell_type": "code",
   "execution_count": null,
   "id": "0705a313-5bde-4c21-ab11-e7ebd7920624",
   "metadata": {
    "tags": []
   },
   "outputs": [],
   "source": [
    "plot_timeseries(chicago, \"median_home_value\", scheme='quantiles', k=7, nrows=2, ncols=2, cmap='YlOrBr')"
   ]
  },
  {
   "cell_type": "markdown",
   "id": "137ecd43-2442-4bf1-b2ba-3739761e3e2c",
   "metadata": {
    "execution": {
     "iopub.execute_input": "2022-04-14T02:39:44.766069Z",
     "iopub.status.busy": "2022-04-14T02:39:44.764729Z",
     "iopub.status.idle": "2022-04-14T02:39:44.783154Z",
     "shell.execute_reply": "2022-04-14T02:39:44.782588Z",
     "shell.execute_reply.started": "2022-04-14T02:39:44.766025Z"
    }
   },
   "source": [
    "Still it can be difficult to see minute changes across the various maps. The `animate_timeseries` function can make it easier to see what's happening, like the steady income decline in Midlothian near the southern edge of the region"
   ]
  },
  {
   "cell_type": "code",
   "execution_count": null,
   "id": "7acabc44-0750-4790-8057-636131f956d2",
   "metadata": {
    "tags": []
   },
   "outputs": [],
   "source": [
    "animate_timeseries(chicago, 'median_home_value', scheme='quantiles', k=7, cmap='YlOrBr', filename='figs/chicago_income_change.gif', fps=1.5)"
   ]
  },
  {
   "cell_type": "code",
   "execution_count": null,
   "id": "ecd50593-1af8-40df-8fd5-7091e8b85066",
   "metadata": {
    "tags": []
   },
   "outputs": [],
   "source": [
    "from IPython.display import Image"
   ]
  },
  {
   "cell_type": "code",
   "execution_count": null,
   "id": "276b1508-5a0a-487b-85de-c930fae0dd47",
   "metadata": {
    "tags": []
   },
   "outputs": [],
   "source": [
    "Image(\"figs/chicago_income_change.gif\", width=800)"
   ]
  },
  {
   "cell_type": "markdown",
   "id": "74380d76-6444-41e3-a14a-6f7ac950f570",
   "metadata": {},
   "source": [
    "Note here that we're comparing overlapping samples from the ACS 5-year survey, which the Census Bureau recommends against. Here it just makes a good example :)"
   ]
  },
  {
   "cell_type": "markdown",
   "id": "c853ee5d-5f5f-404e-8a69-49b7bb5f262d",
   "metadata": {},
   "source": [
    "## Modeling Neighborhood Types"
   ]
  },
  {
   "cell_type": "markdown",
   "id": "4ae5e94a-00af-443e-9608-12ec80aa8ccc",
   "metadata": {},
   "source": [
    "With `geosnap`, it's possible to look at *temporal* geodemographics without writing much code. Under the hood, the package provides tools for scaling each dataset within its own time period, adjusting currency values for inflation, and ensuring that times, variables, and geometries stay aligned properly. Together those tools make it easy to explore how different portions of the region transition into different neighborhood types over time, and if desired, model the evolution of neighborhood change as a spatial Markov process."
   ]
  },
  {
   "cell_type": "markdown",
   "id": "88477cb1-dc0f-4f67-acc0-d3a2655ef959",
   "metadata": {},
   "source": [
    "Any variables could be used to examine neighborhood transitions, but we'll return to the simple set of sociodemographic veriables used before to understand if/how patterns of racial and socioeconomic segregation and neighborhood partitioning unfold over time"
   ]
  },
  {
   "cell_type": "code",
   "execution_count": null,
   "id": "54dc32bc-44c5-4dad-b5dd-d3e157afec7c",
   "metadata": {
    "tags": []
   },
   "outputs": [],
   "source": [
    "columns = ['median_household_income', 'median_home_value', 'p_asian_persons', 'p_hispanic_persons', 'p_nonhisp_black_persons', 'p_nonhisp_white_persons']"
   ]
  },
  {
   "cell_type": "code",
   "execution_count": null,
   "id": "df67d242-5698-48f1-96ad-d1cee4e86a4c",
   "metadata": {
    "tags": []
   },
   "outputs": [],
   "source": [
    "cluster?"
   ]
  },
  {
   "cell_type": "code",
   "execution_count": null,
   "id": "36b16667-08d5-4701-9c3d-fcff589bd1cf",
   "metadata": {
    "tags": []
   },
   "outputs": [],
   "source": [
    "chicago_ward = cluster(chicago, columns=columns, method='ward', n_clusters=6)"
   ]
  },
  {
   "cell_type": "markdown",
   "id": "017129bf-52ae-40a9-9dfc-a67d69be9564",
   "metadata": {},
   "source": [
    "The simplest version of the function returns the geodataframe with new cluster labels appended"
   ]
  },
  {
   "cell_type": "code",
   "execution_count": null,
   "id": "d4afdc6a-71ac-4923-9454-f60df425c777",
   "metadata": {
    "tags": []
   },
   "outputs": [],
   "source": [
    "chicago_ward.head()"
   ]
  },
  {
   "cell_type": "code",
   "execution_count": null,
   "id": "c65dede9-a541-48e1-a55f-1a9343e1c831",
   "metadata": {
    "tags": []
   },
   "outputs": [],
   "source": [
    "plot_timeseries(chicago_ward, 'ward', categorical=True, nrows=2, ncols=2)"
   ]
  },
  {
   "cell_type": "code",
   "execution_count": null,
   "id": "6632934a-f076-4853-bce5-9d96347f16da",
   "metadata": {
    "tags": []
   },
   "outputs": [],
   "source": [
    "animate_timeseries(chicago_ward, 'ward', categorical=True, filename='figs/chicago_type_change.gif', fps=1.5)"
   ]
  },
  {
   "cell_type": "markdown",
   "id": "684d15bd-fef3-4cf2-820a-5c223bc251b1",
   "metadata": {},
   "source": [
    "The vast majority of tracts are assigned to the same geodemographic type in each time period, but some transition into different types over time. The ones that *do* transition tend to be those on the edges of large contiguous groups (i.e. change tends to happen along the periphery and move inward, implying a certain kind of spatial dynamic)"
   ]
  },
  {
   "cell_type": "code",
   "execution_count": null,
   "id": "98931d99-6c72-4212-a921-c1e1d15d8616",
   "metadata": {
    "tags": []
   },
   "outputs": [],
   "source": [
    "Image('figs/chicago_type_change.gif', width=800)"
   ]
  },
  {
   "cell_type": "markdown",
   "id": "86d8d49a-122c-4dc8-85bc-a2641a598236",
   "metadata": {},
   "source": [
    "If we add the argument `return_model=True`, then the function returns the same geodataframe as before, as well as a `ModelResults` class that holds additional diagnostic measures, as well as plotting and simulation methods"
   ]
  },
  {
   "cell_type": "code",
   "execution_count": null,
   "id": "e564eec6-346a-419b-a9fd-a2a1ca169e89",
   "metadata": {
    "tags": []
   },
   "outputs": [],
   "source": [
    "chicago_ward, chi_model = cluster(chicago, columns=columns, method='ward', n_clusters=6, return_model=True)"
   ]
  },
  {
   "cell_type": "code",
   "execution_count": null,
   "id": "c763cc75-76fc-4a1b-afff-d33d8352a379",
   "metadata": {
    "tags": []
   },
   "outputs": [],
   "source": [
    "chi_model?"
   ]
  },
  {
   "cell_type": "code",
   "execution_count": null,
   "id": "55788949-c830-4c93-b0ee-e00aa1c3fc9b",
   "metadata": {
    "tags": []
   },
   "outputs": [],
   "source": [
    "type(chi_model)"
   ]
  },
  {
   "cell_type": "markdown",
   "id": "a103b788-5b07-4f2a-ad85-87fb4c072b07",
   "metadata": {},
   "source": [
    "For example, the `silhouette_scores` attribute makes computing a silhouette coefficient for the cluster model a one-liner:"
   ]
  },
  {
   "cell_type": "code",
   "execution_count": null,
   "id": "839e2d9f-49ec-4d73-93ab-e5496b45a0f1",
   "metadata": {
    "tags": []
   },
   "outputs": [],
   "source": [
    "chi_model.silhouette_scores"
   ]
  },
  {
   "cell_type": "markdown",
   "id": "e6985e88-9f85-4189-8120-ea34684959cb",
   "metadata": {},
   "source": [
    "Each observation is given its own silhouette score to identify potential spatial outliers, or the measures can be summarized to provide an aggregate statistic"
   ]
  },
  {
   "cell_type": "code",
   "execution_count": null,
   "id": "59dfbc23-75a1-4c25-b92a-51e5b0fb95c1",
   "metadata": {
    "tags": []
   },
   "outputs": [],
   "source": [
    "chi_model.silhouette_scores.silhouette_score.mean()"
   ]
  },
  {
   "cell_type": "markdown",
   "id": "e701a7fb-e1de-4a46-b8f6-748c95eaa8ca",
   "metadata": {},
   "source": [
    "Since the data are indexed by time, we can also examine whether certain time periods have a poorer fit versus others:"
   ]
  },
  {
   "cell_type": "code",
   "execution_count": null,
   "id": "b4c6727b-8c6d-42a9-b9cb-94e26d223492",
   "metadata": {
    "tags": []
   },
   "outputs": [],
   "source": [
    "chi_model.silhouette_scores.groupby('year').silhouette_score.mean()"
   ]
  },
  {
   "cell_type": "markdown",
   "id": "34626a6b-22f7-457b-9660-fd10b8690b43",
   "metadata": {},
   "source": [
    "## Analyzing Neighborhood Change"
   ]
  },
  {
   "cell_type": "markdown",
   "id": "e22af3ce-1814-4d99-a1a7-20d8e1b08f67",
   "metadata": {},
   "source": [
    "With the cluster model in hand, each census tract is represented as a series of neighborhood types over time (i.e. what we plotted above). To understand which neighborhoods have experienced the most change, the `ModelResults` class implements a method called \"LINCS\", the Local Indicator of Neighborhood Change. The `lincs` attribute measures how often a given spatial unit shares its cluster assignment with the other units over time.\n",
    "\n",
    "If a \"neighborhood\" is grouped with many different neighborhoods over time (rather than joining a single group with the same members repeatedly), then it shows more variation and thus a higher LINC score"
   ]
  },
  {
   "cell_type": "code",
   "execution_count": null,
   "id": "e2c24cd2-99b5-4945-aaee-c5e828ecee36",
   "metadata": {
    "tags": []
   },
   "outputs": [],
   "source": [
    "chi_lincs = chi_model.lincs"
   ]
  },
  {
   "cell_type": "code",
   "execution_count": null,
   "id": "4fb823c2-7a52-4302-a694-effe95ab2bee",
   "metadata": {
    "tags": []
   },
   "outputs": [],
   "source": [
    "chi_lincs"
   ]
  },
  {
   "cell_type": "code",
   "execution_count": null,
   "id": "f17f3ea8-a1eb-400e-af30-47cee1d3b3be",
   "metadata": {
    "tags": []
   },
   "outputs": [],
   "source": [
    "chi_lincs.plot('linc',legend=True, cmap='plasma')"
   ]
  },
  {
   "cell_type": "markdown",
   "id": "31c4d4bd-8d46-428b-bb55-821bc2d8a536",
   "metadata": {},
   "source": [
    "Yellow places have changed the most in our cluster model, and blue places have remained the most stagnant. We can use the LISA statistics from `esda` to locate hotspots of change or stagnation"
   ]
  },
  {
   "cell_type": "code",
   "execution_count": null,
   "id": "e3ef0364-cb0f-43c3-8198-d019fb86a001",
   "metadata": {
    "tags": []
   },
   "outputs": [],
   "source": [
    "chi_lincs.linc.plot(kind='density')"
   ]
  },
  {
   "cell_type": "code",
   "execution_count": null,
   "id": "5b7ca5e8-efd2-48e7-b81e-33551854a84b",
   "metadata": {
    "tags": []
   },
   "outputs": [],
   "source": [
    "from esda import Moran_Local"
   ]
  },
  {
   "cell_type": "code",
   "execution_count": null,
   "id": "f015d595-d9d1-43de-9e9f-d618f1f61076",
   "metadata": {
    "tags": []
   },
   "outputs": [],
   "source": [
    "from libpysal.weights import Queen"
   ]
  },
  {
   "cell_type": "code",
   "execution_count": null,
   "id": "13b98922-3d9f-497e-8e91-3c85695d4317",
   "metadata": {
    "tags": []
   },
   "outputs": [],
   "source": [
    "w = Queen.from_dataframe(chi_model.lincs)"
   ]
  },
  {
   "cell_type": "code",
   "execution_count": null,
   "id": "dd26f745-cc4a-4d94-8e98-e243876bae4e",
   "metadata": {
    "tags": []
   },
   "outputs": [],
   "source": [
    "linc_lisa = Moran_Local(chi_lincs.linc, w)"
   ]
  },
  {
   "cell_type": "markdown",
   "id": "29963c81-9c5d-4e98-8add-ba62cff911d9",
   "metadata": {},
   "source": [
    "Recall that the LISA statistic measures the association between a focal observation and its neighbors. When we have spatial units (i.e. tracts) with a high LINC score, and their neighboring tracts *also* have high LINC scores, then we've found a local pocket of neighborhood change."
   ]
  },
  {
   "cell_type": "code",
   "execution_count": null,
   "id": "d7fd2924-bf5e-4703-9268-b415da6d36e1",
   "metadata": {
    "tags": []
   },
   "outputs": [],
   "source": [
    "linc_lisa.Is"
   ]
  },
  {
   "cell_type": "code",
   "execution_count": null,
   "id": "f95591a0-449f-4779-9b33-45576a8d63ac",
   "metadata": {
    "tags": []
   },
   "outputs": [],
   "source": [
    "chi_lincs.assign(i=linc_lisa.Is).plot('i', legend=True)"
   ]
  },
  {
   "cell_type": "code",
   "execution_count": null,
   "id": "c61289eb-5eed-48f8-8a4a-509afb8fa2a8",
   "metadata": {
    "tags": []
   },
   "outputs": [],
   "source": [
    "from splot.esda import plot_local_autocorrelation, lisa_cluster"
   ]
  },
  {
   "cell_type": "code",
   "execution_count": null,
   "id": "02b6e96d-fd8d-482e-bd3b-e2a381821dc3",
   "metadata": {
    "tags": []
   },
   "outputs": [],
   "source": [
    "plot_local_autocorrelation(linc_lisa, chi_lincs.to_crs(3857), 'linc')"
   ]
  },
  {
   "cell_type": "code",
   "execution_count": null,
   "id": "463989f0-4f7c-4573-aad7-44f73d23052e",
   "metadata": {
    "tags": []
   },
   "outputs": [],
   "source": [
    "import contextily as ctx"
   ]
  },
  {
   "cell_type": "code",
   "execution_count": null,
   "id": "c614452b-4402-4dbe-8104-3a9d106a8715",
   "metadata": {
    "tags": []
   },
   "outputs": [],
   "source": [
    "fig, ax = lisa_cluster(linc_lisa, chi_lincs.to_crs(3857), alpha=0.6, figsize=(8,10))\n",
    "ctx.add_basemap(ax=ax, source=ctx.providers.CartoDB.Positron, zoom=11)\n",
    "fig.tight_layout()"
   ]
  },
  {
   "cell_type": "markdown",
   "id": "54074b02-8dc0-4494-b298-2b9ccc1b225b",
   "metadata": {},
   "source": [
    "Red areas of high-high clusters of LINC scores are places undergoing change, whereas blue places (low LINC scores surrounded by low scores) are those that have changed very little over time. Orange places are particularly interesting, as they represent local pockets of change surrounded by larger pockets of stagnation.\n",
    "\n",
    "Substantively, this example shows that Chicago's famously segregated South Side and West Side form large regions of the city that demonstrate little demographic/socioeconomic change, particularly in neighborhoods like Rosewood and West Garfield. By contrast, places like Brideport and Portage Park have witnessed substantial change over the last decade according to this model"
   ]
  },
  {
   "cell_type": "markdown",
   "id": "b2d179e2-8c19-4d90-8635-a6e26f660aa8",
   "metadata": {
    "execution": {
     "iopub.execute_input": "2022-04-14T03:26:26.571433Z",
     "iopub.status.busy": "2022-04-14T03:26:26.570683Z",
     "iopub.status.idle": "2022-04-14T03:26:26.586058Z",
     "shell.execute_reply": "2022-04-14T03:26:26.579525Z",
     "shell.execute_reply.started": "2022-04-14T03:26:26.571391Z"
    }
   },
   "source": [
    "## Modeling Neighborhood Transitions"
   ]
  },
  {
   "cell_type": "markdown",
   "id": "b2b67e71-eb4c-43cd-afe0-0398a1ad450b",
   "metadata": {},
   "source": [
    "We can also use the sequence of labels to create a spatial Markov transition model. These models examine how often one neighborhood type transitions into another type--then how these transition rates change under different conditions of spatial context"
   ]
  },
  {
   "cell_type": "code",
   "execution_count": null,
   "id": "8afbb01e-b3ef-4c34-8190-302f1e87e159",
   "metadata": {
    "tags": []
   },
   "outputs": [],
   "source": [
    "from geosnap.visualize import plot_transition_matrix"
   ]
  },
  {
   "cell_type": "code",
   "execution_count": null,
   "id": "fee81fb5-fa8b-49a5-ab9f-834a2c7fae8f",
   "metadata": {
    "tags": []
   },
   "outputs": [],
   "source": [
    "plot_transition_matrix(chicago_ward, cluster_col='ward')"
   ]
  },
  {
   "cell_type": "markdown",
   "id": "37271f74-ea60-4392-b7f2-1846df6d3bfd",
   "metadata": {},
   "source": [
    "And we can use those transition rates to make predictions about future conditions"
   ]
  },
  {
   "cell_type": "code",
   "execution_count": null,
   "id": "3cdef13b-fd4e-44af-b2b8-d3df49121fc9",
   "metadata": {
    "tags": []
   },
   "outputs": [],
   "source": [
    "future = chi_model.predict_markov_labels(time_steps=10, increment=1)"
   ]
  },
  {
   "cell_type": "code",
   "execution_count": null,
   "id": "93573833-800f-4421-8873-84b063c82046",
   "metadata": {
    "tags": []
   },
   "outputs": [],
   "source": [
    "animate_timeseries(future, 'predicted', categorical=True, filename='figs/chicago_predictions.gif', fps=1.5)"
   ]
  },
  {
   "cell_type": "code",
   "execution_count": null,
   "id": "f3cf2b05-7224-42ef-81ac-854f6349b621",
   "metadata": {
    "tags": []
   },
   "outputs": [],
   "source": [
    "Image('figs/chicago_predictions.gif', width=800)"
   ]
  },
  {
   "cell_type": "markdown",
   "id": "a4d23e40-8bf8-486d-a8e2-7bff1bbaffc7",
   "metadata": {},
   "source": [
    "From a social equity perspective, these predictions can help inform investments in place that are likely to provide the greatest return, such as providing place-based affordable houising in high-opportunity (but low likelihood of change) or by providing displacement protections in places that show large potential for change"
   ]
  },
  {
   "cell_type": "code",
   "execution_count": null,
   "id": "f0d637c9-0ad5-4137-9af0-10da7e6b3206",
   "metadata": {},
   "outputs": [],
   "source": []
  }
 ],
 "metadata": {
  "kernelspec": {
   "display_name": "Python 3 (ipykernel)",
   "language": "python",
   "name": "python3"
  },
  "language_info": {
   "codemirror_mode": {
    "name": "ipython",
    "version": 3
   },
   "file_extension": ".py",
   "mimetype": "text/x-python",
   "name": "python",
   "nbconvert_exporter": "python",
   "pygments_lexer": "ipython3",
   "version": "3.9.13"
  },
  "widgets": {
   "application/vnd.jupyter.widget-state+json": {
    "state": {},
    "version_major": 2,
    "version_minor": 0
   }
  }
 },
 "nbformat": 4,
 "nbformat_minor": 5
}
