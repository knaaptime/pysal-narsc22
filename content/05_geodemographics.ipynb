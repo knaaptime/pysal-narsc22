{
 "cells": [
  {
   "cell_type": "markdown",
   "metadata": {},
   "source": [
    "# Geodemographic Analysis with PySAL and scikit-learn"
   ]
  },
  {
   "cell_type": "markdown",
   "metadata": {},
   "source": [
    "Here, we'll examine geodemographic clustering in Los Angeles County"
   ]
  },
  {
   "cell_type": "code",
   "execution_count": null,
   "metadata": {
    "execution": {
     "iopub.execute_input": "2022-07-12T15:42:45.014375Z",
     "iopub.status.busy": "2022-07-12T15:42:45.013808Z",
     "iopub.status.idle": "2022-07-12T15:42:45.029442Z",
     "shell.execute_reply": "2022-07-12T15:42:45.028352Z",
     "shell.execute_reply.started": "2022-07-12T15:42:45.014324Z"
    },
    "tags": []
   },
   "outputs": [],
   "source": [
    "%load_ext watermark"
   ]
  },
  {
   "cell_type": "code",
   "execution_count": null,
   "metadata": {
    "execution": {
     "iopub.execute_input": "2022-07-12T15:42:45.474627Z",
     "iopub.status.busy": "2022-07-12T15:42:45.473700Z",
     "iopub.status.idle": "2022-07-12T15:42:45.493245Z",
     "shell.execute_reply": "2022-07-12T15:42:45.492554Z",
     "shell.execute_reply.started": "2022-07-12T15:42:45.474595Z"
    },
    "tags": []
   },
   "outputs": [],
   "source": [
    "%watermark -v -a \"author: eli knaap\" -d -u -p segregation,libpysal,geopandas"
   ]
  },
  {
   "cell_type": "code",
   "execution_count": null,
   "metadata": {
    "execution": {
     "iopub.execute_input": "2022-07-12T15:43:06.514851Z",
     "iopub.status.busy": "2022-07-12T15:43:06.514196Z",
     "iopub.status.idle": "2022-07-12T15:43:06.529209Z",
     "shell.execute_reply": "2022-07-12T15:43:06.528016Z",
     "shell.execute_reply.started": "2022-07-12T15:43:06.514812Z"
    },
    "tags": []
   },
   "outputs": [],
   "source": [
    "import geopandas as gpd\n",
    "from libpysal import weights\n",
    "from sklearn.cluster import AffinityPropagation, AgglomerativeClustering, KMeans\n",
    "from sklearn.preprocessing import StandardScaler, MinMaxScaler\n",
    "import geoviews as gv\n",
    "import matplotlib.pyplot as plt"
   ]
  },
  {
   "cell_type": "markdown",
   "metadata": {},
   "source": [
    "## Data Prep"
   ]
  },
  {
   "cell_type": "code",
   "execution_count": null,
   "metadata": {
    "execution": {
     "iopub.execute_input": "2022-07-12T15:43:07.147648Z",
     "iopub.status.busy": "2022-07-12T15:43:07.147228Z",
     "iopub.status.idle": "2022-07-12T15:43:07.772570Z",
     "shell.execute_reply": "2022-07-12T15:43:07.772008Z",
     "shell.execute_reply.started": "2022-07-12T15:43:07.147622Z"
    },
    "tags": []
   },
   "outputs": [],
   "source": [
    "scag = gpd.read_file(\"data/scag_region.gpkg\", layer=\"tracts\")"
   ]
  },
  {
   "cell_type": "code",
   "execution_count": null,
   "metadata": {
    "execution": {
     "iopub.execute_input": "2022-07-12T15:43:09.423870Z",
     "iopub.status.busy": "2022-07-12T15:43:09.423269Z",
     "iopub.status.idle": "2022-07-12T15:43:09.470630Z",
     "shell.execute_reply": "2022-07-12T15:43:09.470193Z",
     "shell.execute_reply.started": "2022-07-12T15:43:09.423841Z"
    },
    "tags": []
   },
   "outputs": [],
   "source": [
    "scag = scag.fillna(0)"
   ]
  },
  {
   "cell_type": "code",
   "execution_count": null,
   "metadata": {
    "execution": {
     "iopub.execute_input": "2022-07-12T15:43:10.359469Z",
     "iopub.status.busy": "2022-07-12T15:43:10.358845Z",
     "iopub.status.idle": "2022-07-12T15:43:10.423913Z",
     "shell.execute_reply": "2022-07-12T15:43:10.423507Z",
     "shell.execute_reply.started": "2022-07-12T15:43:10.359441Z"
    },
    "tags": []
   },
   "outputs": [],
   "source": [
    "scag"
   ]
  },
  {
   "cell_type": "code",
   "execution_count": null,
   "metadata": {
    "execution": {
     "iopub.execute_input": "2022-07-12T15:43:20.994516Z",
     "iopub.status.busy": "2022-07-12T15:43:20.992512Z",
     "iopub.status.idle": "2022-07-12T15:43:21.030820Z",
     "shell.execute_reply": "2022-07-12T15:43:21.030454Z",
     "shell.execute_reply.started": "2022-07-12T15:43:20.994443Z"
    },
    "tags": []
   },
   "outputs": [],
   "source": [
    "la = scag[scag.geoid.str[:5]=='06037']"
   ]
  },
  {
   "cell_type": "code",
   "execution_count": null,
   "metadata": {
    "execution": {
     "iopub.execute_input": "2022-07-12T15:43:27.429179Z",
     "iopub.status.busy": "2022-07-12T15:43:27.428453Z",
     "iopub.status.idle": "2022-07-12T15:43:27.605334Z",
     "shell.execute_reply": "2022-07-12T15:43:27.604899Z",
     "shell.execute_reply.started": "2022-07-12T15:43:27.429130Z"
    },
    "tags": []
   },
   "outputs": [],
   "source": [
    "wq = weights.Queen.from_dataframe(la)"
   ]
  },
  {
   "cell_type": "code",
   "execution_count": null,
   "metadata": {
    "execution": {
     "iopub.execute_input": "2022-07-12T15:43:29.976259Z",
     "iopub.status.busy": "2022-07-12T15:43:29.975743Z",
     "iopub.status.idle": "2022-07-12T15:43:29.987395Z",
     "shell.execute_reply": "2022-07-12T15:43:29.986472Z",
     "shell.execute_reply.started": "2022-07-12T15:43:29.976233Z"
    },
    "tags": []
   },
   "outputs": [],
   "source": [
    "la = la.iloc[wq.component_labels==0]"
   ]
  },
  {
   "cell_type": "code",
   "execution_count": null,
   "metadata": {
    "execution": {
     "iopub.execute_input": "2022-07-12T15:44:03.174264Z",
     "iopub.status.busy": "2022-07-12T15:44:03.173550Z",
     "iopub.status.idle": "2022-07-12T15:44:03.503159Z",
     "shell.execute_reply": "2022-07-12T15:44:03.502586Z",
     "shell.execute_reply.started": "2022-07-12T15:44:03.174215Z"
    },
    "tags": []
   },
   "outputs": [],
   "source": [
    "la.plot()"
   ]
  },
  {
   "cell_type": "code",
   "execution_count": null,
   "metadata": {
    "execution": {
     "iopub.execute_input": "2022-07-12T15:44:11.654858Z",
     "iopub.status.busy": "2022-07-12T15:44:11.654406Z",
     "iopub.status.idle": "2022-07-12T15:44:13.723270Z",
     "shell.execute_reply": "2022-07-12T15:44:13.722746Z",
     "shell.execute_reply.started": "2022-07-12T15:44:11.654830Z"
    },
    "tags": []
   },
   "outputs": [],
   "source": [
    "la.explore()"
   ]
  },
  {
   "cell_type": "markdown",
   "metadata": {},
   "source": [
    "## Geodemographic Clusters"
   ]
  },
  {
   "cell_type": "markdown",
   "metadata": {},
   "source": [
    "[Geodemographic analysis](https://en.wikipedia.org/wiki/Geodemographic_segmentation), which includes applying unsupervised learning to demographic and socioeconomic data, followed by a spatial analysis of the results"
   ]
  },
  {
   "cell_type": "markdown",
   "metadata": {},
   "source": [
    "Geodemographic clustering is a way of discovering \"placetypes\" through empirical data. In academia, the practice has a long methodological lineage in sociology and economic geography. The focus on neighborhood composition extends back to early concepts of [neighborhood ecology](https://en.wikipedia.org/wiki/The_City_(Park_and_Burgess_book)), before adopting quantitative empirical methods like [social area analysis](https://books.google.com/books?id=nrUPAQAAMAAJ), [factor ecology](https://www.jstor.org/stable/143205?origin=crossref&seq=1), [ecometrics](https://journals.sagepub.com/doi/10.1111/0081-1750.00059), and [(currently)](http://www.tandfonline.com/doi/abs/10.1080/00330124.2013.848764) unsupervised machine learning."
   ]
  },
  {
   "cell_type": "markdown",
   "metadata": {},
   "source": [
    "In industry, geodemographics are used to help understand and serve different market areas, support urban and regional planning, and understand important dimensions of neighborhood change"
   ]
  },
  {
   "cell_type": "code",
   "execution_count": null,
   "metadata": {
    "execution": {
     "iopub.execute_input": "2022-07-12T15:46:52.254733Z",
     "iopub.status.busy": "2022-07-12T15:46:52.253428Z",
     "iopub.status.idle": "2022-07-12T15:46:52.262207Z",
     "shell.execute_reply": "2022-07-12T15:46:52.260060Z",
     "shell.execute_reply.started": "2022-07-12T15:46:52.254696Z"
    },
    "tags": []
   },
   "outputs": [],
   "source": [
    "columns = ['median_household_income', 'median_home_value', 'p_asian_persons', 'p_hispanic_persons', 'p_nonhisp_black_persons', 'p_nonhisp_white_persons']"
   ]
  },
  {
   "cell_type": "code",
   "execution_count": null,
   "metadata": {
    "execution": {
     "iopub.execute_input": "2022-07-12T15:46:57.300825Z",
     "iopub.status.busy": "2022-07-12T15:46:57.300017Z",
     "iopub.status.idle": "2022-07-12T15:46:57.309351Z",
     "shell.execute_reply": "2022-07-12T15:46:57.308064Z",
     "shell.execute_reply.started": "2022-07-12T15:46:57.300792Z"
    },
    "tags": []
   },
   "outputs": [],
   "source": [
    "scaler = StandardScaler()"
   ]
  },
  {
   "cell_type": "code",
   "execution_count": null,
   "metadata": {
    "execution": {
     "iopub.execute_input": "2022-07-12T15:47:14.626734Z",
     "iopub.status.busy": "2022-07-12T15:47:14.626113Z",
     "iopub.status.idle": "2022-07-12T15:47:14.854171Z",
     "shell.execute_reply": "2022-07-12T15:47:14.853642Z",
     "shell.execute_reply.started": "2022-07-12T15:47:14.626707Z"
    },
    "tags": []
   },
   "outputs": [],
   "source": [
    "la_kmeans = KMeans(n_clusters=6).fit(scaler.fit_transform(la[columns]))"
   ]
  },
  {
   "cell_type": "code",
   "execution_count": null,
   "metadata": {
    "execution": {
     "iopub.execute_input": "2022-07-12T15:47:15.151226Z",
     "iopub.status.busy": "2022-07-12T15:47:15.150928Z",
     "iopub.status.idle": "2022-07-12T15:47:15.156846Z",
     "shell.execute_reply": "2022-07-12T15:47:15.156334Z",
     "shell.execute_reply.started": "2022-07-12T15:47:15.151207Z"
    },
    "tags": []
   },
   "outputs": [],
   "source": [
    "la_kmeans.labels_"
   ]
  },
  {
   "cell_type": "code",
   "execution_count": null,
   "metadata": {
    "execution": {
     "iopub.execute_input": "2022-07-12T15:47:45.455340Z",
     "iopub.status.busy": "2022-07-12T15:47:45.453895Z",
     "iopub.status.idle": "2022-07-12T15:47:45.465850Z",
     "shell.execute_reply": "2022-07-12T15:47:45.464786Z",
     "shell.execute_reply.started": "2022-07-12T15:47:45.455195Z"
    },
    "tags": []
   },
   "outputs": [],
   "source": [
    "la['kmeans'] = la_kmeans.labels_"
   ]
  },
  {
   "cell_type": "code",
   "execution_count": null,
   "metadata": {
    "execution": {
     "iopub.execute_input": "2022-07-12T15:47:47.269478Z",
     "iopub.status.busy": "2022-07-12T15:47:47.269043Z",
     "iopub.status.idle": "2022-07-12T15:47:49.077987Z",
     "shell.execute_reply": "2022-07-12T15:47:49.077489Z",
     "shell.execute_reply.started": "2022-07-12T15:47:47.269453Z"
    },
    "tags": []
   },
   "outputs": [],
   "source": [
    "la.explore('kmeans', cmap='tab10')"
   ]
  },
  {
   "cell_type": "markdown",
   "metadata": {},
   "source": [
    "There are some obvious spatial patterns (which we might expect, given the results of our prior esda and segregation analyses). But what do these clusters mean? What kinds of demographic features do they represent?"
   ]
  },
  {
   "cell_type": "code",
   "execution_count": null,
   "metadata": {
    "execution": {
     "iopub.execute_input": "2022-07-12T15:49:24.816889Z",
     "iopub.status.busy": "2022-07-12T15:49:24.815493Z",
     "iopub.status.idle": "2022-07-12T15:49:24.842968Z",
     "shell.execute_reply": "2022-07-12T15:49:24.842469Z",
     "shell.execute_reply.started": "2022-07-12T15:49:24.816845Z"
    },
    "tags": []
   },
   "outputs": [],
   "source": [
    "la.groupby('kmeans')[columns].mean()"
   ]
  },
  {
   "cell_type": "markdown",
   "metadata": {},
   "source": [
    "This table is a lot to interpret at once, so a visualization would be handy. Violin plots are a nice way of examining how each of the input variables is distributed in each of the resulting clusters"
   ]
  },
  {
   "cell_type": "code",
   "execution_count": null,
   "metadata": {
    "execution": {
     "iopub.execute_input": "2022-07-12T15:49:32.942909Z",
     "iopub.status.busy": "2022-07-12T15:49:32.942494Z",
     "iopub.status.idle": "2022-07-12T15:49:32.948855Z",
     "shell.execute_reply": "2022-07-12T15:49:32.947860Z",
     "shell.execute_reply.started": "2022-07-12T15:49:32.942883Z"
    },
    "tags": []
   },
   "outputs": [],
   "source": [
    "import seaborn as sns"
   ]
  },
  {
   "cell_type": "code",
   "execution_count": null,
   "metadata": {
    "execution": {
     "iopub.execute_input": "2022-07-12T15:49:35.271765Z",
     "iopub.status.busy": "2022-07-12T15:49:35.271294Z",
     "iopub.status.idle": "2022-07-12T15:49:35.819039Z",
     "shell.execute_reply": "2022-07-12T15:49:35.818558Z",
     "shell.execute_reply.started": "2022-07-12T15:49:35.271739Z"
    },
    "tags": []
   },
   "outputs": [],
   "source": [
    "sns.set_style('whitegrid')\n",
    "fig, ax = plt.subplots(3,2, figsize=(12,8))\n",
    "ax=ax.flatten()\n",
    "for i, col in enumerate(columns):\n",
    "    sns.violinplot(data=la, y=col, x=la.kmeans, ax=ax[i])\n",
    "    ax[i].set_title(col.replace(\"_\", \" \").title())\n",
    "plt.tight_layout()\n"
   ]
  },
  {
   "cell_type": "markdown",
   "metadata": {},
   "source": [
    "We can also use a statistic to tell us how well this model fits the data. To do so, we can use scikit-learn's [silhouette score](https://scikit-learn.org/stable/modules/generated/sklearn.metrics.silhouette_score.html)\n",
    "\n",
    "> The Silhouette Coefficient is calculated using the mean intra-cluster distance (a) and the mean nearest-cluster distance (b) for each sample. The Silhouette Coefficient for a sample is (b - a) / max(a, b). To clarify, b is the distance between a sample and the nearest cluster that the sample is not a part of. Note that Silhouette Coefficient is only defined if number of labels is 2 <= n_labels <= n_samples - 1.\n",
    "\n",
    "> This function returns the mean Silhouette Coefficient over all samples. To obtain the values for each sample, use silhouette_samples.\n",
    "\n",
    "> The best value is 1 and the worst value is -1. Values near 0 indicate overlapping clusters. Negative values generally indicate that a sample has been assigned to the wrong cluster, as a different cluster is more similar."
   ]
  },
  {
   "cell_type": "code",
   "execution_count": null,
   "metadata": {
    "execution": {
     "iopub.execute_input": "2022-07-12T15:53:18.946479Z",
     "iopub.status.busy": "2022-07-12T15:53:18.946293Z",
     "iopub.status.idle": "2022-07-12T15:53:18.950526Z",
     "shell.execute_reply": "2022-07-12T15:53:18.950030Z",
     "shell.execute_reply.started": "2022-07-12T15:53:18.946465Z"
    },
    "tags": []
   },
   "outputs": [],
   "source": [
    "from sklearn.metrics import silhouette_score"
   ]
  },
  {
   "cell_type": "code",
   "execution_count": null,
   "metadata": {
    "execution": {
     "iopub.execute_input": "2022-07-12T15:53:23.391626Z",
     "iopub.status.busy": "2022-07-12T15:53:23.390584Z",
     "iopub.status.idle": "2022-07-12T15:53:23.481534Z",
     "shell.execute_reply": "2022-07-12T15:53:23.481131Z",
     "shell.execute_reply.started": "2022-07-12T15:53:23.391587Z"
    },
    "tags": []
   },
   "outputs": [],
   "source": [
    "silhouette_score(scaler.fit_transform(la[columns]), la_kmeans.labels_)"
   ]
  },
  {
   "cell_type": "markdown",
   "metadata": {},
   "source": [
    "What about other clustering algorithms or other numbers for *k*? Might we get a better model fit?"
   ]
  },
  {
   "cell_type": "code",
   "execution_count": null,
   "metadata": {
    "execution": {
     "iopub.execute_input": "2022-07-12T12:38:50.083118Z",
     "iopub.status.busy": "2022-07-12T12:38:50.083015Z",
     "iopub.status.idle": "2022-07-12T12:38:54.493609Z",
     "shell.execute_reply": "2022-07-12T12:38:54.493253Z",
     "shell.execute_reply.started": "2022-07-12T12:38:50.083109Z"
    },
    "tags": []
   },
   "outputs": [],
   "source": [
    "la_affprop = AffinityPropagation(damping=0.8, preference=-1000,).fit(scaler.fit_transform(la[columns]))"
   ]
  },
  {
   "cell_type": "code",
   "execution_count": null,
   "metadata": {
    "execution": {
     "iopub.execute_input": "2022-07-12T12:38:54.494228Z",
     "iopub.status.busy": "2022-07-12T12:38:54.494126Z",
     "iopub.status.idle": "2022-07-12T12:38:54.497161Z",
     "shell.execute_reply": "2022-07-12T12:38:54.496786Z",
     "shell.execute_reply.started": "2022-07-12T12:38:54.494218Z"
    },
    "tags": []
   },
   "outputs": [],
   "source": [
    "la_affprop.labels_"
   ]
  },
  {
   "cell_type": "code",
   "execution_count": null,
   "metadata": {
    "execution": {
     "iopub.execute_input": "2022-07-12T12:38:54.497755Z",
     "iopub.status.busy": "2022-07-12T12:38:54.497640Z",
     "iopub.status.idle": "2022-07-12T12:38:54.509167Z",
     "shell.execute_reply": "2022-07-12T12:38:54.508829Z",
     "shell.execute_reply.started": "2022-07-12T12:38:54.497746Z"
    },
    "tags": []
   },
   "outputs": [],
   "source": [
    "import pandas\n",
    "pandas.Series(la_affprop.labels_).unique()"
   ]
  },
  {
   "cell_type": "code",
   "execution_count": null,
   "metadata": {
    "execution": {
     "iopub.execute_input": "2022-07-12T15:54:26.616229Z",
     "iopub.status.busy": "2022-07-12T15:54:26.615706Z",
     "iopub.status.idle": "2022-07-12T15:54:26.701280Z",
     "shell.execute_reply": "2022-07-12T15:54:26.700732Z",
     "shell.execute_reply.started": "2022-07-12T15:54:26.616203Z"
    },
    "tags": []
   },
   "outputs": [],
   "source": [
    "silhouette_score(scaler.fit_transform(la[columns]), la_affprop.labels_)"
   ]
  },
  {
   "cell_type": "code",
   "execution_count": null,
   "metadata": {
    "execution": {
     "iopub.execute_input": "2022-07-12T15:54:29.702864Z",
     "iopub.status.busy": "2022-07-12T15:54:29.702056Z",
     "iopub.status.idle": "2022-07-12T15:54:29.713099Z",
     "shell.execute_reply": "2022-07-12T15:54:29.712348Z",
     "shell.execute_reply.started": "2022-07-12T15:54:29.702811Z"
    },
    "tags": []
   },
   "outputs": [],
   "source": [
    "la['affprop'] = la_affprop.labels_"
   ]
  },
  {
   "cell_type": "markdown",
   "metadata": {},
   "source": [
    "hvplot lets us lay out interactive maps side-by-side with linked pan and zoom. That makes it easier to compare both maps"
   ]
  },
  {
   "cell_type": "code",
   "execution_count": null,
   "metadata": {
    "execution": {
     "iopub.execute_input": "2022-07-12T15:54:51.897700Z",
     "iopub.status.busy": "2022-07-12T15:54:51.896911Z",
     "iopub.status.idle": "2022-07-12T15:54:52.056298Z",
     "shell.execute_reply": "2022-07-12T15:54:52.055474Z",
     "shell.execute_reply.started": "2022-07-12T15:54:51.897663Z"
    },
    "tags": []
   },
   "outputs": [],
   "source": [
    "import hvplot.pandas\n",
    "import seaborn as sns\n",
    "gv.extension('matplotlib', 'bokeh')\n",
    "gv.output(backend='bokeh')"
   ]
  },
  {
   "cell_type": "markdown",
   "metadata": {},
   "source": [
    "This will create a linked holoviews plot so we can zoom in on both maps together (**click the \"wheel zoom\" button on the bokeh plot so you can zoom in**)"
   ]
  },
  {
   "cell_type": "code",
   "execution_count": null,
   "metadata": {
    "execution": {
     "iopub.execute_input": "2022-07-12T12:38:55.471995Z",
     "iopub.status.busy": "2022-07-12T12:38:55.471729Z",
     "iopub.status.idle": "2022-07-12T12:39:01.105986Z",
     "shell.execute_reply": "2022-07-12T12:39:01.105654Z",
     "shell.execute_reply.started": "2022-07-12T12:38:55.471984Z"
    },
    "tags": []
   },
   "outputs": [],
   "source": [
    "la.hvplot(c='affprop', cmap='tab10', line_width=0.1, alpha=0.7,  geo=True, tiles='CartoLight',  xaxis=False, yaxis=False,  colorbar=False, title='Affinity Prop') + \\\n",
    "la.hvplot(c='kmeans', cmap='tab10', line_width=0.1, alpha=0.7,  geo=True, tiles='CartoLight',  xaxis=False, yaxis=False, colorbar=False, title='K-Means')"
   ]
  },
  {
   "cell_type": "markdown",
   "metadata": {},
   "source": [
    "The silhouette score tells us that the affinity propagation clusterer provided a better solution. Nonetheless, we end up with similar spatial patterns"
   ]
  },
  {
   "cell_type": "code",
   "execution_count": null,
   "metadata": {},
   "outputs": [],
   "source": []
  },
  {
   "cell_type": "markdown",
   "metadata": {},
   "source": [
    "## Spatially-Constrained Geodemographics (Regionalization)"
   ]
  },
  {
   "cell_type": "markdown",
   "metadata": {},
   "source": [
    "Above, we notice there are some obvious spatial patterns in the neighborhood clusters. That happens due to the underlying spatial autocorrelation in the race and class indicators we used to develop the clusters. Instead of allowing this autocorrelation to \"fall out\" of the results, we can leverage it to create spatially-contiguous clusters"
   ]
  },
  {
   "cell_type": "markdown",
   "metadata": {},
   "source": [
    "`scikit-learn`'s agglomerative clustering algorithm allows us to pass a constraint and it accepts a pysal `W` object. Lets compare solutions with and without the constraint"
   ]
  },
  {
   "cell_type": "markdown",
   "metadata": {},
   "source": []
  },
  {
   "cell_type": "code",
   "execution_count": null,
   "metadata": {},
   "outputs": [],
   "source": []
  },
  {
   "cell_type": "code",
   "execution_count": null,
   "metadata": {
    "execution": {
     "iopub.execute_input": "2022-07-12T15:58:08.801186Z",
     "iopub.status.busy": "2022-07-12T15:58:08.800675Z",
     "iopub.status.idle": "2022-07-12T15:58:08.982095Z",
     "shell.execute_reply": "2022-07-12T15:58:08.981690Z",
     "shell.execute_reply.started": "2022-07-12T15:58:08.801154Z"
    },
    "tags": []
   },
   "outputs": [],
   "source": [
    "w = weights.Queen.from_dataframe(la)"
   ]
  },
  {
   "cell_type": "code",
   "execution_count": null,
   "metadata": {
    "execution": {
     "iopub.execute_input": "2022-07-12T15:58:30.535449Z",
     "iopub.status.busy": "2022-07-12T15:58:30.534898Z",
     "iopub.status.idle": "2022-07-12T15:58:30.622852Z",
     "shell.execute_reply": "2022-07-12T15:58:30.622490Z",
     "shell.execute_reply.started": "2022-07-12T15:58:30.535416Z"
    },
    "tags": []
   },
   "outputs": [],
   "source": [
    "la_ward = AgglomerativeClustering(n_clusters=8, linkage='ward').fit(scaler.fit_transform(la[columns]))"
   ]
  },
  {
   "cell_type": "code",
   "execution_count": null,
   "metadata": {
    "execution": {
     "iopub.execute_input": "2022-07-12T15:58:35.997087Z",
     "iopub.status.busy": "2022-07-12T15:58:35.996806Z",
     "iopub.status.idle": "2022-07-12T15:58:36.001568Z",
     "shell.execute_reply": "2022-07-12T15:58:36.001140Z",
     "shell.execute_reply.started": "2022-07-12T15:58:35.997066Z"
    },
    "tags": []
   },
   "outputs": [],
   "source": [
    "la['ward'] = la_ward.labels_"
   ]
  },
  {
   "cell_type": "code",
   "execution_count": null,
   "metadata": {
    "execution": {
     "iopub.execute_input": "2022-07-12T15:58:36.301015Z",
     "iopub.status.busy": "2022-07-12T15:58:36.300061Z",
     "iopub.status.idle": "2022-07-12T15:58:36.328175Z",
     "shell.execute_reply": "2022-07-12T15:58:36.327713Z",
     "shell.execute_reply.started": "2022-07-12T15:58:36.300979Z"
    },
    "tags": []
   },
   "outputs": [],
   "source": [
    "la.groupby('ward')[columns].median()"
   ]
  },
  {
   "cell_type": "code",
   "execution_count": null,
   "metadata": {
    "execution": {
     "iopub.execute_input": "2022-07-12T15:58:40.219658Z",
     "iopub.status.busy": "2022-07-12T15:58:40.219208Z",
     "iopub.status.idle": "2022-07-12T15:58:40.236589Z",
     "shell.execute_reply": "2022-07-12T15:58:40.235769Z",
     "shell.execute_reply.started": "2022-07-12T15:58:40.219632Z"
    },
    "tags": []
   },
   "outputs": [],
   "source": [
    "sns.set_style('white')"
   ]
  },
  {
   "cell_type": "code",
   "execution_count": null,
   "metadata": {
    "execution": {
     "iopub.execute_input": "2022-07-12T15:58:40.645183Z",
     "iopub.status.busy": "2022-07-12T15:58:40.643973Z",
     "iopub.status.idle": "2022-07-12T15:58:41.047057Z",
     "shell.execute_reply": "2022-07-12T15:58:41.046572Z",
     "shell.execute_reply.started": "2022-07-12T15:58:40.645142Z"
    },
    "tags": []
   },
   "outputs": [],
   "source": [
    "la[['ward', 'geometry']].explore('ward', categorical=True)"
   ]
  },
  {
   "cell_type": "code",
   "execution_count": null,
   "metadata": {},
   "outputs": [],
   "source": []
  },
  {
   "cell_type": "code",
   "execution_count": null,
   "metadata": {
    "execution": {
     "iopub.execute_input": "2022-07-12T15:59:11.070650Z",
     "iopub.status.busy": "2022-07-12T15:59:11.070123Z",
     "iopub.status.idle": "2022-07-12T15:59:11.316046Z",
     "shell.execute_reply": "2022-07-12T15:59:11.315689Z",
     "shell.execute_reply.started": "2022-07-12T15:59:11.070624Z"
    },
    "tags": []
   },
   "outputs": [],
   "source": [
    "la_ward_spatial = AgglomerativeClustering(n_clusters=8, linkage='ward', connectivity=w.sparse).fit(scaler.fit_transform(la[columns]))"
   ]
  },
  {
   "cell_type": "code",
   "execution_count": null,
   "metadata": {
    "execution": {
     "iopub.execute_input": "2022-07-12T15:59:12.379150Z",
     "iopub.status.busy": "2022-07-12T15:59:12.378760Z",
     "iopub.status.idle": "2022-07-12T15:59:12.385754Z",
     "shell.execute_reply": "2022-07-12T15:59:12.385060Z",
     "shell.execute_reply.started": "2022-07-12T15:59:12.379126Z"
    },
    "tags": []
   },
   "outputs": [],
   "source": [
    "la['ward_spatial'] = la_ward_spatial.labels_"
   ]
  },
  {
   "cell_type": "code",
   "execution_count": null,
   "metadata": {
    "execution": {
     "iopub.execute_input": "2022-07-12T15:59:13.169477Z",
     "iopub.status.busy": "2022-07-12T15:59:13.165962Z",
     "iopub.status.idle": "2022-07-12T15:59:13.210605Z",
     "shell.execute_reply": "2022-07-12T15:59:13.209216Z",
     "shell.execute_reply.started": "2022-07-12T15:59:13.169436Z"
    },
    "tags": []
   },
   "outputs": [],
   "source": [
    "la.groupby('ward_spatial')[columns].median()"
   ]
  },
  {
   "cell_type": "code",
   "execution_count": null,
   "metadata": {
    "execution": {
     "iopub.execute_input": "2022-07-12T12:39:01.802256Z",
     "iopub.status.busy": "2022-07-12T12:39:01.802064Z",
     "iopub.status.idle": "2022-07-12T12:39:07.545792Z",
     "shell.execute_reply": "2022-07-12T12:39:07.545336Z",
     "shell.execute_reply.started": "2022-07-12T12:39:01.802243Z"
    }
   },
   "outputs": [],
   "source": [
    "la.hvplot(c='ward', cmap='tab10', line_width=0.1, alpha=0.7,  geo=True, tiles='CartoLight',  xaxis=False, yaxis=False, frame_height=450, colorbar=False) + \\\n",
    "la.hvplot(c='ward_spatial', cmap='tab10', line_width=0.1, alpha=0.7,  geo=True, tiles='CartoLight',  xaxis=False, yaxis=False, frame_height=450, colorbar=False)"
   ]
  },
  {
   "cell_type": "code",
   "execution_count": null,
   "metadata": {
    "execution": {
     "iopub.execute_input": "2022-07-12T16:00:40.087727Z",
     "iopub.status.busy": "2022-07-12T16:00:40.086918Z",
     "iopub.status.idle": "2022-07-12T16:00:40.183088Z",
     "shell.execute_reply": "2022-07-12T16:00:40.181843Z",
     "shell.execute_reply.started": "2022-07-12T16:00:40.087683Z"
    },
    "tags": []
   },
   "outputs": [],
   "source": [
    "silhouette_score(scaler.fit_transform(la[columns]), la_ward.labels_)"
   ]
  },
  {
   "cell_type": "code",
   "execution_count": null,
   "metadata": {
    "execution": {
     "iopub.execute_input": "2022-07-12T16:00:41.018681Z",
     "iopub.status.busy": "2022-07-12T16:00:41.018139Z",
     "iopub.status.idle": "2022-07-12T16:00:41.115406Z",
     "shell.execute_reply": "2022-07-12T16:00:41.114999Z",
     "shell.execute_reply.started": "2022-07-12T16:00:41.018653Z"
    },
    "tags": []
   },
   "outputs": [],
   "source": [
    "silhouette_score(scaler.fit_transform(la[columns]), la_ward_spatial.labels_)"
   ]
  },
  {
   "cell_type": "markdown",
   "metadata": {},
   "source": [
    "Why is the silhouette score higher for the first soluttion?"
   ]
  },
  {
   "cell_type": "markdown",
   "metadata": {},
   "source": [
    "## Discovering Bounded \"Neighborhoods\""
   ]
  },
  {
   "cell_type": "markdown",
   "metadata": {},
   "source": [
    "We could also use constrained clustering to develop an empirical version of geographically-bounded neighborhoods, where the neighborhoods are defined by internal social homogeneity. This is similar to the historic and well-defined neighborhood zones in places like Chicago and Pittsburgh"
   ]
  },
  {
   "cell_type": "code",
   "execution_count": null,
   "metadata": {
    "execution": {
     "iopub.execute_input": "2022-07-12T16:01:42.866260Z",
     "iopub.status.busy": "2022-07-12T16:01:42.865716Z",
     "iopub.status.idle": "2022-07-12T16:01:42.874225Z",
     "shell.execute_reply": "2022-07-12T16:01:42.871962Z",
     "shell.execute_reply.started": "2022-07-12T16:01:42.866223Z"
    },
    "tags": []
   },
   "outputs": [],
   "source": [
    "from IPython.display import Image"
   ]
  },
  {
   "cell_type": "code",
   "execution_count": null,
   "metadata": {
    "execution": {
     "iopub.execute_input": "2022-07-12T16:01:43.218800Z",
     "iopub.status.busy": "2022-07-12T16:01:43.216605Z",
     "iopub.status.idle": "2022-07-12T16:01:43.808057Z",
     "shell.execute_reply": "2022-07-12T16:01:43.807238Z",
     "shell.execute_reply.started": "2022-07-12T16:01:43.218734Z"
    },
    "tags": []
   },
   "outputs": [],
   "source": [
    "Image('https://upload.wikimedia.org/wikipedia/commons/b/b3/Chicago_neighborhoods_map.png', width=700)"
   ]
  },
  {
   "cell_type": "markdown",
   "metadata": {},
   "source": [
    "<https://en.wikivoyage.org/wiki/File:Chicago_neighborhoods_map.png>"
   ]
  },
  {
   "cell_type": "code",
   "execution_count": null,
   "metadata": {
    "execution": {
     "iopub.execute_input": "2022-07-12T12:39:07.836917Z",
     "iopub.status.busy": "2022-07-12T12:39:07.836818Z",
     "iopub.status.idle": "2022-07-12T12:39:08.165927Z",
     "shell.execute_reply": "2022-07-12T12:39:08.165573Z",
     "shell.execute_reply.started": "2022-07-12T12:39:07.836908Z"
    }
   },
   "outputs": [],
   "source": [
    "Image('https://www.visitpittsburgh.com/imager/s3_amazonaws_com/visit-pittsburgh/CMS/2020-Neighborhood-Map2_912cea74db451f62f021cb89047ce198.jpg', width=700)"
   ]
  },
  {
   "cell_type": "markdown",
   "metadata": {},
   "source": [
    "<https://www.visitpittsburgh.com/neighborhoods/>"
   ]
  },
  {
   "cell_type": "code",
   "execution_count": null,
   "metadata": {
    "execution": {
     "iopub.execute_input": "2022-07-12T16:03:33.046074Z",
     "iopub.status.busy": "2022-07-12T16:03:33.045541Z",
     "iopub.status.idle": "2022-07-12T16:03:33.222245Z",
     "shell.execute_reply": "2022-07-12T16:03:33.221828Z",
     "shell.execute_reply.started": "2022-07-12T16:03:33.046045Z"
    },
    "tags": []
   },
   "outputs": [],
   "source": [
    "# Using rook weights will result in more 'compact' clusters because they're forced to share a side\n",
    "w_rook = weights.Rook.from_dataframe(la)"
   ]
  },
  {
   "cell_type": "code",
   "execution_count": null,
   "metadata": {
    "execution": {
     "iopub.execute_input": "2022-07-12T16:03:40.594198Z",
     "iopub.status.busy": "2022-07-12T16:03:40.592637Z",
     "iopub.status.idle": "2022-07-12T16:03:40.670787Z",
     "shell.execute_reply": "2022-07-12T16:03:40.670391Z",
     "shell.execute_reply.started": "2022-07-12T16:03:40.594155Z"
    },
    "tags": []
   },
   "outputs": [],
   "source": [
    "la_ward_hoods = AgglomerativeClustering(n_clusters=36, linkage='ward', connectivity=w_rook.sparse).fit(scaler.fit_transform(la[columns]))"
   ]
  },
  {
   "cell_type": "code",
   "execution_count": null,
   "metadata": {
    "execution": {
     "iopub.execute_input": "2022-07-12T16:03:41.012299Z",
     "iopub.status.busy": "2022-07-12T16:03:41.011825Z",
     "iopub.status.idle": "2022-07-12T16:03:41.021367Z",
     "shell.execute_reply": "2022-07-12T16:03:41.020630Z",
     "shell.execute_reply.started": "2022-07-12T16:03:41.012272Z"
    },
    "tags": []
   },
   "outputs": [],
   "source": [
    "la['ward_spatial_hoods'] = la_ward_hoods.labels_"
   ]
  },
  {
   "cell_type": "code",
   "execution_count": null,
   "metadata": {
    "execution": {
     "iopub.execute_input": "2022-07-12T16:03:42.643815Z",
     "iopub.status.busy": "2022-07-12T16:03:42.642961Z",
     "iopub.status.idle": "2022-07-12T16:03:43.023464Z",
     "shell.execute_reply": "2022-07-12T16:03:43.022913Z",
     "shell.execute_reply.started": "2022-07-12T16:03:42.643777Z"
    },
    "tags": []
   },
   "outputs": [],
   "source": [
    "la.plot('ward_spatial_hoods', cmap='tab20c', figsize=(10,10), linewidth=0.2)"
   ]
  },
  {
   "cell_type": "code",
   "execution_count": null,
   "metadata": {
    "execution": {
     "iopub.execute_input": "2022-07-12T16:04:15.398479Z",
     "iopub.status.busy": "2022-07-12T16:04:15.398056Z",
     "iopub.status.idle": "2022-07-12T16:04:15.944117Z",
     "shell.execute_reply": "2022-07-12T16:04:15.943706Z",
     "shell.execute_reply.started": "2022-07-12T16:04:15.398438Z"
    },
    "tags": []
   },
   "outputs": [],
   "source": [
    "# subsetting the columns makes the map render faster\n",
    "la[['ward_spatial_hoods', 'geometry']].explore('ward_spatial_hoods', cmap='tab20c', tooltip=['ward_spatial_hoods'])"
   ]
  },
  {
   "cell_type": "code",
   "execution_count": null,
   "metadata": {},
   "outputs": [],
   "source": []
  },
  {
   "cell_type": "markdown",
   "metadata": {},
   "source": [
    "## Exercise"
   ]
  },
  {
   "cell_type": "markdown",
   "metadata": {},
   "source": [
    "1. Two geodemographic typologies for Orange County using the same race and class variables as above\n",
    "    - for the first, use 5 clusters\n",
    "    - for the second, use 8 clusters\n",
    "    - which solution is better?"
   ]
  },
  {
   "cell_type": "markdown",
   "metadata": {},
   "source": [
    "2. Create a geodemographic typology for Riverside County using Affinity Propagation with `damping=0.8` and `preference=-100`\n",
    "    - How many unique clusters do you find?\n",
    "    - What is the average home price for tracts in Cluster 3?"
   ]
  },
  {
   "cell_type": "markdown",
   "metadata": {},
   "source": [
    "3. What would happen if you created a spatially-constrained geodemographic typology using **DistanceBand**  spatial weights?"
   ]
  },
  {
   "cell_type": "code",
   "execution_count": null,
   "metadata": {
    "execution": {
     "iopub.execute_input": "2022-07-12T16:09:26.443421Z",
     "iopub.status.busy": "2022-07-12T16:09:26.442980Z",
     "iopub.status.idle": "2022-07-12T16:09:27.310987Z",
     "shell.execute_reply": "2022-07-12T16:09:27.310659Z",
     "shell.execute_reply.started": "2022-07-12T16:09:26.443393Z"
    },
    "tags": []
   },
   "outputs": [],
   "source": [
    "# %load solutions/05.py\n",
    "##### 1)\n",
    "\n",
    "# create orange county data\n",
    "oc = scag[scag.geoid.str[:5] == '06059']\n",
    "\n",
    "# create cluster models where k==5,8\n",
    "oc5 = KMeans(n_clusters=5).fit(scaler.fit_transform(oc[columns]))\n",
    "oc8 = KMeans(n_clusters=8).fit(scaler.fit_transform(oc[columns]))\n",
    "\n",
    "# calculate silhouette coefs and print them\n",
    "sil5 = silhouette_score(scaler.fit_transform(oc[columns]), oc5.labels_)\n",
    "sil8 = silhouette_score(scaler.fit_transform(oc[columns]), oc8.labels_)\n",
    "\n",
    "print(f'5-cluster solution: {sil5}')\n",
    "print(f'8-cluster solution: {sil8}')\n",
    "\n",
    "\n",
    "##### 2)\n",
    "\n",
    "rside = scag[scag.geoid.str[:5] == '06065']\n",
    "\n",
    "rside['affprop'] = AffinityPropagation(damping=0.8, preference=-100,).fit(scaler.fit_transform(rside[columns])).labels_\n",
    "print(f'There are {len(rside.affprop.unique())} unique clusters in Riverside')\n",
    "\n",
    "print(f\"The average home price in cluster 3 is ${rside.groupby('affprop').mean()['median_home_value'][3].astype(int)}\")\n",
    "\n",
    "##### 3)\n",
    "\n",
    "print(\"With distance band weights, the solution will be spatially-influenced but the clusters are not guaranteed to be contiguous\")\n",
    "\n"
   ]
  },
  {
   "cell_type": "code",
   "execution_count": null,
   "metadata": {},
   "outputs": [],
   "source": []
  }
 ],
 "metadata": {
  "kernelspec": {
   "display_name": "Python [conda env:pysal-workshop]",
   "language": "python",
   "name": "conda-env-pysal-workshop-py"
  },
  "language_info": {
   "codemirror_mode": {
    "name": "ipython",
    "version": 3
   },
   "file_extension": ".py",
   "mimetype": "text/x-python",
   "name": "python",
   "nbconvert_exporter": "python",
   "pygments_lexer": "ipython3",
   "version": "3.9.13"
  },
  "toc": {
   "base_numbering": 1,
   "nav_menu": {},
   "number_sections": true,
   "sideBar": true,
   "skip_h1_title": false,
   "title_cell": "Table of Contents",
   "title_sidebar": "Contents",
   "toc_cell": false,
   "toc_position": {},
   "toc_section_display": true,
   "toc_window_display": false
  },
  "widgets": {
   "application/vnd.jupyter.widget-state+json": {
    "state": {},
    "version_major": 2,
    "version_minor": 0
   }
  }
 },
 "nbformat": 4,
 "nbformat_minor": 4
}
