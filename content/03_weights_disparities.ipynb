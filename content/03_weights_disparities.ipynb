{
 "cells": [
  {
   "cell_type": "markdown",
   "metadata": {},
   "source": [
    "# Spatial Weights for Detection of Disparities\n",
    "\n",
    "Using spatial weights to explore spatial disparities"
   ]
  },
  {
   "cell_type": "code",
   "execution_count": null,
   "metadata": {
    "execution": {
     "iopub.execute_input": "2022-04-13T18:59:19.742803Z",
     "iopub.status.busy": "2022-04-13T18:59:19.741594Z",
     "iopub.status.idle": "2022-04-13T18:59:20.855423Z",
     "shell.execute_reply": "2022-04-13T18:59:20.855055Z",
     "shell.execute_reply.started": "2022-04-13T18:59:19.742615Z"
    }
   },
   "outputs": [],
   "source": [
    "import geopandas\n",
    "import libpysal\n",
    "import numpy\n",
    "%matplotlib inline"
   ]
  },
  {
   "cell_type": "code",
   "execution_count": null,
   "metadata": {
    "execution": {
     "iopub.execute_input": "2022-04-13T18:59:20.856364Z",
     "iopub.status.busy": "2022-04-13T18:59:20.856283Z",
     "iopub.status.idle": "2022-04-13T18:59:21.603911Z",
     "shell.execute_reply": "2022-04-13T18:59:21.603540Z",
     "shell.execute_reply.started": "2022-04-13T18:59:20.856355Z"
    }
   },
   "outputs": [],
   "source": [
    "df = geopandas.read_file('data/scag_region.gpkg')\n",
    "df.fillna(df.mean(), inplace=True)"
   ]
  },
  {
   "cell_type": "code",
   "execution_count": null,
   "metadata": {
    "execution": {
     "iopub.execute_input": "2022-04-13T18:59:21.604473Z",
     "iopub.status.busy": "2022-04-13T18:59:21.604407Z",
     "iopub.status.idle": "2022-04-13T18:59:22.004006Z",
     "shell.execute_reply": "2022-04-13T18:59:22.003791Z",
     "shell.execute_reply.started": "2022-04-13T18:59:21.604465Z"
    }
   },
   "outputs": [],
   "source": [
    "wq = libpysal.weights.Queen.from_dataframe(df)"
   ]
  },
  {
   "cell_type": "code",
   "execution_count": null,
   "metadata": {
    "execution": {
     "iopub.execute_input": "2022-04-13T18:59:22.004555Z",
     "iopub.status.busy": "2022-04-13T18:59:22.004481Z",
     "iopub.status.idle": "2022-04-13T18:59:22.008531Z",
     "shell.execute_reply": "2022-04-13T18:59:22.008033Z",
     "shell.execute_reply.started": "2022-04-13T18:59:22.004546Z"
    }
   },
   "outputs": [],
   "source": [
    "hv = df['median_home_value'].values"
   ]
  },
  {
   "cell_type": "code",
   "execution_count": null,
   "metadata": {
    "execution": {
     "iopub.execute_input": "2022-04-13T18:59:22.011873Z",
     "iopub.status.busy": "2022-04-13T18:59:22.011758Z",
     "iopub.status.idle": "2022-04-13T18:59:22.017079Z",
     "shell.execute_reply": "2022-04-13T18:59:22.016781Z",
     "shell.execute_reply.started": "2022-04-13T18:59:22.011864Z"
    }
   },
   "outputs": [],
   "source": [
    "hv"
   ]
  },
  {
   "cell_type": "markdown",
   "metadata": {},
   "source": [
    "## Find maximum pairwise difference in hv"
   ]
  },
  {
   "cell_type": "code",
   "execution_count": null,
   "metadata": {
    "execution": {
     "iopub.execute_input": "2022-04-13T18:59:22.017533Z",
     "iopub.status.busy": "2022-04-13T18:59:22.017471Z",
     "iopub.status.idle": "2022-04-13T18:59:22.090340Z",
     "shell.execute_reply": "2022-04-13T18:59:22.089969Z",
     "shell.execute_reply.started": "2022-04-13T18:59:22.017524Z"
    }
   },
   "outputs": [],
   "source": [
    "pw_diff = numpy.abs(hv[:, numpy.newaxis] - hv)\n"
   ]
  },
  {
   "cell_type": "code",
   "execution_count": null,
   "metadata": {
    "execution": {
     "iopub.execute_input": "2022-04-13T18:59:22.090814Z",
     "iopub.status.busy": "2022-04-13T18:59:22.090748Z",
     "iopub.status.idle": "2022-04-13T18:59:22.095786Z",
     "shell.execute_reply": "2022-04-13T18:59:22.095035Z",
     "shell.execute_reply.started": "2022-04-13T18:59:22.090806Z"
    }
   },
   "outputs": [],
   "source": [
    "wq.neighbors[0]"
   ]
  },
  {
   "cell_type": "code",
   "execution_count": null,
   "metadata": {
    "execution": {
     "iopub.execute_input": "2022-04-13T18:59:22.096641Z",
     "iopub.status.busy": "2022-04-13T18:59:22.096480Z",
     "iopub.status.idle": "2022-04-13T18:59:22.113131Z",
     "shell.execute_reply": "2022-04-13T18:59:22.112812Z",
     "shell.execute_reply.started": "2022-04-13T18:59:22.096620Z"
    }
   },
   "outputs": [],
   "source": [
    "W = wq.full()[0]\n"
   ]
  },
  {
   "cell_type": "code",
   "execution_count": null,
   "metadata": {
    "execution": {
     "iopub.execute_input": "2022-04-13T18:59:22.113571Z",
     "iopub.status.busy": "2022-04-13T18:59:22.113507Z",
     "iopub.status.idle": "2022-04-13T18:59:22.160342Z",
     "shell.execute_reply": "2022-04-13T18:59:22.159967Z",
     "shell.execute_reply.started": "2022-04-13T18:59:22.113562Z"
    }
   },
   "outputs": [],
   "source": [
    "pw_sdiff = W * pw_diff"
   ]
  },
  {
   "cell_type": "code",
   "execution_count": null,
   "metadata": {
    "execution": {
     "iopub.execute_input": "2022-04-13T18:59:22.160899Z",
     "iopub.status.busy": "2022-04-13T18:59:22.160835Z",
     "iopub.status.idle": "2022-04-13T18:59:22.167108Z",
     "shell.execute_reply": "2022-04-13T18:59:22.166762Z",
     "shell.execute_reply.started": "2022-04-13T18:59:22.160890Z"
    }
   },
   "outputs": [],
   "source": [
    "pw_sdiff[0, wq.neighbors[0]]"
   ]
  },
  {
   "cell_type": "code",
   "execution_count": null,
   "metadata": {
    "execution": {
     "iopub.execute_input": "2022-04-13T18:59:22.168412Z",
     "iopub.status.busy": "2022-04-13T18:59:22.168324Z",
     "iopub.status.idle": "2022-04-13T18:59:22.223174Z",
     "shell.execute_reply": "2022-04-13T18:59:22.222828Z",
     "shell.execute_reply.started": "2022-04-13T18:59:22.168403Z"
    }
   },
   "outputs": [],
   "source": [
    "pw_sdiff.max()"
   ]
  },
  {
   "cell_type": "code",
   "execution_count": null,
   "metadata": {
    "execution": {
     "iopub.execute_input": "2022-04-13T18:59:22.223646Z",
     "iopub.status.busy": "2022-04-13T18:59:22.223576Z",
     "iopub.status.idle": "2022-04-13T18:59:22.326262Z",
     "shell.execute_reply": "2022-04-13T18:59:22.326008Z",
     "shell.execute_reply.started": "2022-04-13T18:59:22.223637Z"
    }
   },
   "outputs": [],
   "source": [
    "d_idx = numpy.where(pw_sdiff == pw_sdiff.max())[0]"
   ]
  },
  {
   "cell_type": "code",
   "execution_count": null,
   "metadata": {
    "execution": {
     "iopub.execute_input": "2022-04-13T18:59:22.326833Z",
     "iopub.status.busy": "2022-04-13T18:59:22.326705Z",
     "iopub.status.idle": "2022-04-13T18:59:22.333771Z",
     "shell.execute_reply": "2022-04-13T18:59:22.332290Z",
     "shell.execute_reply.started": "2022-04-13T18:59:22.326808Z"
    }
   },
   "outputs": [],
   "source": [
    "hv[d_idx]"
   ]
  },
  {
   "cell_type": "code",
   "execution_count": null,
   "metadata": {
    "execution": {
     "iopub.execute_input": "2022-04-13T18:59:22.336451Z",
     "iopub.status.busy": "2022-04-13T18:59:22.336328Z",
     "iopub.status.idle": "2022-04-13T18:59:22.339079Z",
     "shell.execute_reply": "2022-04-13T18:59:22.338829Z",
     "shell.execute_reply.started": "2022-04-13T18:59:22.336441Z"
    }
   },
   "outputs": [],
   "source": [
    "d_idx"
   ]
  },
  {
   "cell_type": "code",
   "execution_count": null,
   "metadata": {
    "execution": {
     "iopub.execute_input": "2022-04-13T18:59:22.340168Z",
     "iopub.status.busy": "2022-04-13T18:59:22.339844Z",
     "iopub.status.idle": "2022-04-13T18:59:22.480431Z",
     "shell.execute_reply": "2022-04-13T18:59:22.480155Z",
     "shell.execute_reply.started": "2022-04-13T18:59:22.340005Z"
    }
   },
   "outputs": [],
   "source": [
    "df.iloc[d_idx].plot()"
   ]
  },
  {
   "cell_type": "code",
   "execution_count": null,
   "metadata": {
    "execution": {
     "iopub.execute_input": "2022-04-13T18:59:22.481075Z",
     "iopub.status.busy": "2022-04-13T18:59:22.480981Z",
     "iopub.status.idle": "2022-04-13T18:59:22.716545Z",
     "shell.execute_reply": "2022-04-13T18:59:22.716225Z",
     "shell.execute_reply.started": "2022-04-13T18:59:22.481065Z"
    }
   },
   "outputs": [],
   "source": [
    "df.iloc[d_idx].explore(column='median_home_value', tooltip=['median_home_value'])"
   ]
  },
  {
   "cell_type": "code",
   "execution_count": null,
   "metadata": {
    "execution": {
     "iopub.execute_input": "2022-04-13T18:59:22.717072Z",
     "iopub.status.busy": "2022-04-13T18:59:22.716994Z",
     "iopub.status.idle": "2022-04-13T18:59:22.730978Z",
     "shell.execute_reply": "2022-04-13T18:59:22.730461Z",
     "shell.execute_reply.started": "2022-04-13T18:59:22.717063Z"
    }
   },
   "outputs": [],
   "source": [
    "df.iloc[d_idx].head()"
   ]
  },
  {
   "cell_type": "code",
   "execution_count": null,
   "metadata": {
    "execution": {
     "iopub.execute_input": "2022-04-13T18:59:22.731857Z",
     "iopub.status.busy": "2022-04-13T18:59:22.731566Z",
     "iopub.status.idle": "2022-04-13T18:59:22.737313Z",
     "shell.execute_reply": "2022-04-13T18:59:22.736741Z",
     "shell.execute_reply.started": "2022-04-13T18:59:22.731841Z"
    },
    "jupyter": {
     "source_hidden": true
    },
    "tags": []
   },
   "outputs": [],
   "source": [
    "df.iloc[d_idx]['median_home_value']"
   ]
  },
  {
   "cell_type": "code",
   "execution_count": null,
   "metadata": {
    "execution": {
     "iopub.execute_input": "2022-07-12T12:10:46.127754Z",
     "iopub.status.busy": "2022-07-12T12:10:46.126954Z",
     "iopub.status.idle": "2022-07-12T12:10:46.192248Z",
     "shell.execute_reply": "2022-07-12T12:10:46.191714Z",
     "shell.execute_reply.started": "2022-07-12T12:10:46.127616Z"
    },
    "tags": []
   },
   "outputs": [],
   "source": [
    "import numpy as np\n",
    "def largest_indices(ary, n):\n",
    "    \"\"\"Returns the n largest indices from a numpy array.\"\"\"\n",
    "    flat = ary.flatten()\n",
    "    indices = np.argpartition(flat, -n)[-n:]\n",
    "    indices = indices[np.argsort(-flat[indices])]\n",
    "    return np.unravel_index(indices, ary.shape)"
   ]
  },
  {
   "cell_type": "code",
   "execution_count": null,
   "metadata": {
    "execution": {
     "iopub.execute_input": "2022-07-12T12:10:46.503521Z",
     "iopub.status.busy": "2022-07-12T12:10:46.503298Z",
     "iopub.status.idle": "2022-07-12T12:10:46.505939Z",
     "shell.execute_reply": "2022-07-12T12:10:46.505556Z",
     "shell.execute_reply.started": "2022-07-12T12:10:46.503510Z"
    },
    "tags": []
   },
   "outputs": [],
   "source": [
    " xs = np.sin(np.arange(9)).reshape((3, 3))"
   ]
  },
  {
   "cell_type": "code",
   "execution_count": null,
   "metadata": {
    "execution": {
     "iopub.execute_input": "2022-07-12T12:10:50.154012Z",
     "iopub.status.busy": "2022-07-12T12:10:50.153592Z",
     "iopub.status.idle": "2022-07-12T12:10:50.169335Z",
     "shell.execute_reply": "2022-07-12T12:10:50.168692Z",
     "shell.execute_reply.started": "2022-07-12T12:10:50.153987Z"
    },
    "tags": []
   },
   "outputs": [],
   "source": [
    "xs"
   ]
  },
  {
   "cell_type": "code",
   "execution_count": null,
   "metadata": {
    "execution": {
     "iopub.execute_input": "2022-04-13T18:59:22.755024Z",
     "iopub.status.busy": "2022-04-13T18:59:22.754938Z",
     "iopub.status.idle": "2022-04-13T18:59:22.758311Z",
     "shell.execute_reply": "2022-04-13T18:59:22.757959Z",
     "shell.execute_reply.started": "2022-04-13T18:59:22.755014Z"
    }
   },
   "outputs": [],
   "source": [
    "largest_indices(xs, 3)"
   ]
  },
  {
   "cell_type": "code",
   "execution_count": null,
   "metadata": {
    "execution": {
     "iopub.execute_input": "2022-04-13T18:59:22.759077Z",
     "iopub.status.busy": "2022-04-13T18:59:22.758980Z",
     "iopub.status.idle": "2022-04-13T18:59:22.917926Z",
     "shell.execute_reply": "2022-04-13T18:59:22.917670Z",
     "shell.execute_reply.started": "2022-04-13T18:59:22.759044Z"
    }
   },
   "outputs": [],
   "source": [
    "largest_indices(pw_sdiff, 10)"
   ]
  },
  {
   "cell_type": "code",
   "execution_count": null,
   "metadata": {
    "execution": {
     "iopub.execute_input": "2022-04-13T18:59:22.918526Z",
     "iopub.status.busy": "2022-04-13T18:59:22.918405Z",
     "iopub.status.idle": "2022-04-13T18:59:23.008793Z",
     "shell.execute_reply": "2022-04-13T18:59:23.008503Z",
     "shell.execute_reply.started": "2022-04-13T18:59:22.918512Z"
    }
   },
   "outputs": [],
   "source": [
    "pw_sdiff[largest_indices(pw_sdiff, 10)]"
   ]
  },
  {
   "cell_type": "code",
   "execution_count": null,
   "metadata": {
    "execution": {
     "iopub.execute_input": "2022-04-13T18:59:23.009445Z",
     "iopub.status.busy": "2022-04-13T18:59:23.009284Z",
     "iopub.status.idle": "2022-04-13T18:59:23.099168Z",
     "shell.execute_reply": "2022-04-13T18:59:23.098869Z",
     "shell.execute_reply.started": "2022-04-13T18:59:23.009399Z"
    }
   },
   "outputs": [],
   "source": [
    "idxs = largest_indices(pw_sdiff, 10)"
   ]
  },
  {
   "cell_type": "code",
   "execution_count": null,
   "metadata": {
    "execution": {
     "iopub.execute_input": "2022-04-13T18:59:23.099789Z",
     "iopub.status.busy": "2022-04-13T18:59:23.099680Z",
     "iopub.status.idle": "2022-04-13T18:59:23.104395Z",
     "shell.execute_reply": "2022-04-13T18:59:23.104087Z",
     "shell.execute_reply.started": "2022-04-13T18:59:23.099780Z"
    }
   },
   "outputs": [],
   "source": [
    "c_idxs = np.unique(np.concatenate(idxs))"
   ]
  },
  {
   "cell_type": "code",
   "execution_count": null,
   "metadata": {
    "execution": {
     "iopub.execute_input": "2022-04-13T18:59:23.104914Z",
     "iopub.status.busy": "2022-04-13T18:59:23.104854Z",
     "iopub.status.idle": "2022-04-13T18:59:23.107865Z",
     "shell.execute_reply": "2022-04-13T18:59:23.106961Z",
     "shell.execute_reply.started": "2022-04-13T18:59:23.104905Z"
    }
   },
   "outputs": [],
   "source": [
    "c_idxs"
   ]
  },
  {
   "cell_type": "code",
   "execution_count": null,
   "metadata": {
    "execution": {
     "iopub.execute_input": "2022-04-13T18:59:23.108969Z",
     "iopub.status.busy": "2022-04-13T18:59:23.108879Z",
     "iopub.status.idle": "2022-04-13T18:59:23.194320Z",
     "shell.execute_reply": "2022-04-13T18:59:23.193826Z",
     "shell.execute_reply.started": "2022-04-13T18:59:23.108960Z"
    }
   },
   "outputs": [],
   "source": [
    "df.iloc[c_idxs].plot()"
   ]
  },
  {
   "cell_type": "code",
   "execution_count": null,
   "metadata": {
    "execution": {
     "iopub.execute_input": "2022-04-13T18:59:23.194956Z",
     "iopub.status.busy": "2022-04-13T18:59:23.194878Z",
     "iopub.status.idle": "2022-04-13T18:59:23.197249Z",
     "shell.execute_reply": "2022-04-13T18:59:23.196902Z",
     "shell.execute_reply.started": "2022-04-13T18:59:23.194947Z"
    }
   },
   "outputs": [],
   "source": [
    "n,k = df.shape\n",
    "pair_diff = np.zeros((n,1))\n",
    "pair_diff[c_idxs] = 1"
   ]
  },
  {
   "cell_type": "code",
   "execution_count": null,
   "metadata": {
    "execution": {
     "iopub.execute_input": "2022-04-13T18:59:23.197730Z",
     "iopub.status.busy": "2022-04-13T18:59:23.197668Z",
     "iopub.status.idle": "2022-04-13T18:59:23.200979Z",
     "shell.execute_reply": "2022-04-13T18:59:23.199507Z",
     "shell.execute_reply.started": "2022-04-13T18:59:23.197721Z"
    }
   },
   "outputs": [],
   "source": [
    "df['pair_diff'] = pair_diff"
   ]
  },
  {
   "cell_type": "code",
   "execution_count": null,
   "metadata": {
    "execution": {
     "iopub.execute_input": "2022-04-13T18:59:23.203883Z",
     "iopub.status.busy": "2022-04-13T18:59:23.203777Z",
     "iopub.status.idle": "2022-04-13T18:59:23.688792Z",
     "shell.execute_reply": "2022-04-13T18:59:23.688504Z",
     "shell.execute_reply.started": "2022-04-13T18:59:23.203873Z"
    }
   },
   "outputs": [],
   "source": [
    "df.plot(column='pair_diff', categorical='True', legend=True)"
   ]
  },
  {
   "cell_type": "code",
   "execution_count": null,
   "metadata": {
    "execution": {
     "iopub.execute_input": "2022-04-13T18:59:23.689290Z",
     "iopub.status.busy": "2022-04-13T18:59:23.689219Z",
     "iopub.status.idle": "2022-04-13T18:59:23.743368Z",
     "shell.execute_reply": "2022-04-13T18:59:23.743120Z",
     "shell.execute_reply.started": "2022-04-13T18:59:23.689280Z"
    }
   },
   "outputs": [],
   "source": [
    "import folium\n",
    "from folium.plugins import MarkerCluster"
   ]
  },
  {
   "cell_type": "code",
   "execution_count": null,
   "metadata": {
    "execution": {
     "iopub.execute_input": "2022-04-13T18:59:23.743904Z",
     "iopub.status.busy": "2022-04-13T18:59:23.743841Z",
     "iopub.status.idle": "2022-04-13T18:59:23.751442Z",
     "shell.execute_reply": "2022-04-13T18:59:23.750245Z",
     "shell.execute_reply.started": "2022-04-13T18:59:23.743895Z"
    }
   },
   "outputs": [],
   "source": [
    "m = folium.Map(tiles='cartodbpositron', min_zoom=4, zoom_start=4.25, \n",
    "               max_bounds=True,location=[33.8283459,-98.5794797],\n",
    "               min_lat=5.499550, min_lon=-160.276413, \n",
    "               max_lat=83.162102, max_lon=-52.233040)\n"
   ]
  },
  {
   "cell_type": "code",
   "execution_count": null,
   "metadata": {
    "execution": {
     "iopub.execute_input": "2022-04-13T18:59:23.752107Z",
     "iopub.status.busy": "2022-04-13T18:59:23.752013Z",
     "iopub.status.idle": "2022-04-13T18:59:49.756812Z",
     "shell.execute_reply": "2022-04-13T18:59:49.756565Z",
     "shell.execute_reply.started": "2022-04-13T18:59:23.752097Z"
    }
   },
   "outputs": [],
   "source": [
    "df.to_file('data/pairs.geojson',  driver='GeoJSON')"
   ]
  },
  {
   "cell_type": "code",
   "execution_count": null,
   "metadata": {
    "execution": {
     "iopub.execute_input": "2022-04-13T18:59:49.757377Z",
     "iopub.status.busy": "2022-04-13T18:59:49.757317Z",
     "iopub.status.idle": "2022-04-13T18:59:49.761964Z",
     "shell.execute_reply": "2022-04-13T18:59:49.761724Z",
     "shell.execute_reply.started": "2022-04-13T18:59:49.757368Z"
    }
   },
   "outputs": [],
   "source": [
    "min_lon, min_lat, max_lon, max_lat = df.total_bounds\n",
    "c_lon = (max_lon + min_lon)/2\n",
    "c_lat = (max_lat + min_lat)/2"
   ]
  },
  {
   "cell_type": "code",
   "execution_count": null,
   "metadata": {
    "execution": {
     "iopub.execute_input": "2022-04-13T18:59:49.762321Z",
     "iopub.status.busy": "2022-04-13T18:59:49.762266Z",
     "iopub.status.idle": "2022-04-13T18:59:54.160849Z",
     "shell.execute_reply": "2022-04-13T18:59:54.159770Z",
     "shell.execute_reply.started": "2022-04-13T18:59:49.762313Z"
    }
   },
   "outputs": [],
   "source": [
    "m = folium.Map(tiles='cartodbpositron', min_zoom=4, zoom_start=7, \n",
    "               max_bounds=True,location=[c_lon, c_lat],\n",
    "               min_lat=min_lat, min_lon=min_lon, \n",
    "               max_lat=max_lat, max_lon=max_lon)\n",
    "marker_cluster = MarkerCluster(\n",
    "    options = {'maxClusterRadius':15, \n",
    "               'disableCusteringAtZoom':5, \n",
    "               'singleMarkerMode':True}).add_to(m)\n",
    "folium.Choropleth(\n",
    "    geo_data = 'data/pairs.geojson',\n",
    "    data = df,\n",
    "    columns = ['geoid','median_home_value'],\n",
    "    fill_color = 'YlGn',\n",
    "    key_on = 'feature.properties.geoid',\n",
    "    name = 'geojson',\n",
    "    legend_name='median_home_value'\n",
    ").add_to(m)\n",
    "for i, tract in df.iloc[c_idxs].iterrows(): \n",
    "    x = tract.geometry.centroid.x\n",
    "    y = tract.geometry.centroid.y\n",
    "    l = tract.median_home_value\n",
    "    folium.CircleMarker([y, x], radius=8, color='black', \n",
    "                        fill_color='white', fill_opacity=0.5, \n",
    "                        tooltip='Median House Value: {}'.format(str(l))).add_to(marker_cluster)\n",
    "f = folium.Figure()\n",
    "title = '<h2>Spatial Housing Markets</h2>'\n",
    "subtitle = '<h4><i>Census tract neighbors across ' + \\\n",
    "           'Southern California with the widest disparities ' + \\\n",
    "           'in home values<i></h4>'\n",
    "f.html.add_child(folium.Element(title))\n",
    "f.html.add_child(folium.Element(subtitle))\n",
    "f.add_child(m)\n",
    "f"
   ]
  },
  {
   "cell_type": "code",
   "execution_count": null,
   "metadata": {
    "execution": {
     "iopub.execute_input": "2022-04-13T18:59:54.161713Z",
     "iopub.status.busy": "2022-04-13T18:59:54.161613Z",
     "iopub.status.idle": "2022-04-13T18:59:54.175679Z",
     "shell.execute_reply": "2022-04-13T18:59:54.175261Z",
     "shell.execute_reply.started": "2022-04-13T18:59:54.161702Z"
    }
   },
   "outputs": [],
   "source": [
    "df.head()"
   ]
  },
  {
   "cell_type": "code",
   "execution_count": null,
   "metadata": {},
   "outputs": [],
   "source": []
  }
 ],
 "metadata": {
  "kernelspec": {
   "display_name": "Python [conda env:pysal-workshop]",
   "language": "python",
   "name": "conda-env-pysal-workshop-py"
  },
  "language_info": {
   "codemirror_mode": {
    "name": "ipython",
    "version": 3
   },
   "file_extension": ".py",
   "mimetype": "text/x-python",
   "name": "python",
   "nbconvert_exporter": "python",
   "pygments_lexer": "ipython3",
   "version": "3.9.13"
  },
  "widgets": {
   "application/vnd.jupyter.widget-state+json": {
    "state": {},
    "version_major": 2,
    "version_minor": 0
   }
  }
 },
 "nbformat": 4,
 "nbformat_minor": 4
}
