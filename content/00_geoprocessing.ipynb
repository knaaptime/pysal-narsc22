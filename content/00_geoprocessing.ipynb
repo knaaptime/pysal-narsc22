{
 "cells": [
  {
   "cell_type": "markdown",
   "metadata": {},
   "source": [
    "# Geoprocessing\n",
    "\n",
    "Spatial data comes in a rich variety of forms and corresponding file formats. At the beginning of most geocomputational workflows, one is typically reading these different formats and applying different forms of spatial data processing (or geoprocessing) methods to the data.\n",
    "\n",
    "In this notebook we cover a subset of geoprocessing methods:\n",
    "\n",
    "- Reading geopackages and shapefiles\n",
    "- Coordinate reference system transformations\n",
    "- Spatial joins\n",
    "- Spatial aggregations\n",
    "\n",
    "Along the way we introduce the package [geopandas](https://geopandas.org) which provides key spatial data processing functionality."
   ]
  },
  {
   "cell_type": "markdown",
   "metadata": {},
   "source": [
    "## Reading GeoPackages\n",
    "\n",
    "We begin with our first dataset that contains socieconomic data for census tracts in Southern California. The data are for the census year 2010 and are provided from the package [GeoSNAP](https://github.com/spatialucr/geosnap) as a **GeoPackage**. "
   ]
  },
  {
   "cell_type": "markdown",
   "metadata": {},
   "source": [
    "A [GeoPackage](https://www.geopackage.org/) is an open format for geospatial information that uses an [SQLite database](https://www.sqlite.org/index.html) to store:\n",
    "\n",
    "- vector features\n",
    "- tile matrix sets of imagery and raster maps at various scales\n",
    "- attributes (non-spatial data)\n",
    "- extensions\n",
    "\n",
    "We will use **geopandas** to read the GeoPackage for our data:\n"
   ]
  },
  {
   "cell_type": "code",
   "execution_count": null,
   "metadata": {
    "execution": {
     "iopub.execute_input": "2022-07-12T13:13:44.382239Z",
     "iopub.status.busy": "2022-07-12T13:13:44.379600Z",
     "iopub.status.idle": "2022-07-12T13:13:44.826715Z",
     "shell.execute_reply": "2022-07-12T13:13:44.826431Z",
     "shell.execute_reply.started": "2022-07-12T13:13:44.381819Z"
    },
    "tags": []
   },
   "outputs": [],
   "source": [
    "import geopandas as gpd"
   ]
  },
  {
   "cell_type": "code",
   "execution_count": null,
   "metadata": {
    "execution": {
     "iopub.execute_input": "2022-07-12T13:13:56.578953Z",
     "iopub.status.busy": "2022-07-12T13:13:56.575987Z",
     "iopub.status.idle": "2022-07-12T13:13:57.214056Z",
     "shell.execute_reply": "2022-07-12T13:13:57.213650Z",
     "shell.execute_reply.started": "2022-07-12T13:13:56.578893Z"
    },
    "tags": []
   },
   "outputs": [],
   "source": [
    "gp = gpd.read_file(\"data/scag_region.gpkg\") # read the geopackage "
   ]
  },
  {
   "cell_type": "code",
   "execution_count": null,
   "metadata": {
    "execution": {
     "iopub.execute_input": "2022-07-12T13:13:58.754850Z",
     "iopub.status.busy": "2022-07-12T13:13:58.754138Z",
     "iopub.status.idle": "2022-07-12T13:13:58.767800Z",
     "shell.execute_reply": "2022-07-12T13:13:58.767086Z",
     "shell.execute_reply.started": "2022-07-12T13:13:58.754825Z"
    },
    "tags": []
   },
   "outputs": [],
   "source": [
    "type(gp)"
   ]
  },
  {
   "cell_type": "code",
   "execution_count": null,
   "metadata": {
    "execution": {
     "iopub.execute_input": "2022-07-12T13:14:07.701290Z",
     "iopub.status.busy": "2022-07-12T13:14:07.700160Z",
     "iopub.status.idle": "2022-07-12T13:14:07.712237Z",
     "shell.execute_reply": "2022-07-12T13:14:07.711500Z",
     "shell.execute_reply.started": "2022-07-12T13:14:07.701228Z"
    },
    "tags": []
   },
   "outputs": [],
   "source": [
    "gp.columns"
   ]
  },
  {
   "cell_type": "markdown",
   "metadata": {},
   "source": [
    "In our dataset there is only one layer in the GeoPackage. To show this, we can use the package [fiona](https://github.com/Toblerity/Fiona):"
   ]
  },
  {
   "cell_type": "code",
   "execution_count": null,
   "metadata": {
    "execution": {
     "iopub.execute_input": "2022-07-12T13:14:47.848620Z",
     "iopub.status.busy": "2022-07-12T13:14:47.847683Z",
     "iopub.status.idle": "2022-07-12T13:14:47.855622Z",
     "shell.execute_reply": "2022-07-12T13:14:47.854938Z",
     "shell.execute_reply.started": "2022-07-12T13:14:47.848581Z"
    },
    "tags": []
   },
   "outputs": [],
   "source": [
    "import fiona"
   ]
  },
  {
   "cell_type": "code",
   "execution_count": null,
   "metadata": {
    "execution": {
     "iopub.execute_input": "2022-07-12T13:14:51.802662Z",
     "iopub.status.busy": "2022-07-12T13:14:51.801916Z",
     "iopub.status.idle": "2022-07-12T13:14:51.819303Z",
     "shell.execute_reply": "2022-07-12T13:14:51.817679Z",
     "shell.execute_reply.started": "2022-07-12T13:14:51.802614Z"
    },
    "tags": []
   },
   "outputs": [],
   "source": [
    "layers = fiona.listlayers('data/scag_region.gpkg')"
   ]
  },
  {
   "cell_type": "code",
   "execution_count": null,
   "metadata": {
    "execution": {
     "iopub.execute_input": "2022-07-12T13:14:52.458759Z",
     "iopub.status.busy": "2022-07-12T13:14:52.457421Z",
     "iopub.status.idle": "2022-07-12T13:14:52.481556Z",
     "shell.execute_reply": "2022-07-12T13:14:52.475042Z",
     "shell.execute_reply.started": "2022-07-12T13:14:52.458687Z"
    },
    "tags": []
   },
   "outputs": [],
   "source": [
    "layers"
   ]
  },
  {
   "cell_type": "markdown",
   "metadata": {},
   "source": [
    "If we did have more than a single layer in our geopackage, we would have to specify the layer that we want to read:"
   ]
  },
  {
   "cell_type": "code",
   "execution_count": null,
   "metadata": {
    "execution": {
     "iopub.execute_input": "2022-07-12T13:15:31.179401Z",
     "iopub.status.busy": "2022-07-12T13:15:31.178945Z",
     "iopub.status.idle": "2022-07-12T13:15:31.781730Z",
     "shell.execute_reply": "2022-07-12T13:15:31.781379Z",
     "shell.execute_reply.started": "2022-07-12T13:15:31.179374Z"
    },
    "tags": []
   },
   "outputs": [],
   "source": [
    "scag = gpd.read_file(\"data/scag_region.gpkg\", layer=\"tracts\")"
   ]
  },
  {
   "cell_type": "code",
   "execution_count": null,
   "metadata": {
    "execution": {
     "iopub.execute_input": "2022-07-12T13:15:32.335228Z",
     "iopub.status.busy": "2022-07-12T13:15:32.334494Z",
     "iopub.status.idle": "2022-07-12T13:15:32.350906Z",
     "shell.execute_reply": "2022-07-12T13:15:32.350252Z",
     "shell.execute_reply.started": "2022-07-12T13:15:32.335192Z"
    },
    "tags": []
   },
   "outputs": [],
   "source": [
    "type(scag)"
   ]
  },
  {
   "cell_type": "code",
   "execution_count": null,
   "metadata": {
    "execution": {
     "iopub.execute_input": "2022-07-12T13:15:38.736599Z",
     "iopub.status.busy": "2022-07-12T13:15:38.736179Z",
     "iopub.status.idle": "2022-07-12T13:15:38.767060Z",
     "shell.execute_reply": "2022-07-12T13:15:38.764223Z",
     "shell.execute_reply.started": "2022-07-12T13:15:38.736572Z"
    },
    "tags": []
   },
   "outputs": [],
   "source": [
    "scag.head()"
   ]
  },
  {
   "cell_type": "code",
   "execution_count": null,
   "metadata": {
    "execution": {
     "iopub.execute_input": "2022-07-12T13:16:16.903617Z",
     "iopub.status.busy": "2022-07-12T13:16:16.902655Z",
     "iopub.status.idle": "2022-07-12T13:16:16.915920Z",
     "shell.execute_reply": "2022-07-12T13:16:16.915118Z",
     "shell.execute_reply.started": "2022-07-12T13:16:16.903567Z"
    },
    "tags": []
   },
   "outputs": [],
   "source": [
    "scag.shape "
   ]
  },
  {
   "cell_type": "markdown",
   "metadata": {},
   "source": [
    "This tells us there are 4580 census tracts and 194 attributes measured for each tract."
   ]
  },
  {
   "cell_type": "code",
   "execution_count": null,
   "metadata": {
    "execution": {
     "iopub.execute_input": "2022-07-12T13:16:27.051196Z",
     "iopub.status.busy": "2022-07-12T13:16:27.050432Z",
     "iopub.status.idle": "2022-07-12T13:16:27.062889Z",
     "shell.execute_reply": "2022-07-12T13:16:27.061897Z",
     "shell.execute_reply.started": "2022-07-12T13:16:27.051161Z"
    },
    "tags": []
   },
   "outputs": [],
   "source": [
    "scag.columns"
   ]
  },
  {
   "cell_type": "markdown",
   "metadata": {},
   "source": [
    "At least one of the attributes (columns) in the GeoDataFrame holds the geometries for the observations. In our case, this column is named `geometry`:"
   ]
  },
  {
   "cell_type": "code",
   "execution_count": null,
   "metadata": {
    "execution": {
     "iopub.execute_input": "2022-07-12T13:16:38.497846Z",
     "iopub.status.busy": "2022-07-12T13:16:38.497124Z",
     "iopub.status.idle": "2022-07-12T13:16:38.510194Z",
     "shell.execute_reply": "2022-07-12T13:16:38.508940Z",
     "shell.execute_reply.started": "2022-07-12T13:16:38.497818Z"
    },
    "tags": []
   },
   "outputs": [],
   "source": [
    "scag.geometry"
   ]
  },
  {
   "cell_type": "markdown",
   "metadata": {},
   "source": [
    "This shows us that each of our observations is encoded as a Polygon geometry. \n",
    "\n",
    "We can call the `plot` method of the GeoDataFrame to visualize these geometries:"
   ]
  },
  {
   "cell_type": "code",
   "execution_count": null,
   "metadata": {
    "execution": {
     "iopub.execute_input": "2022-07-12T13:16:57.814317Z",
     "iopub.status.busy": "2022-07-12T13:16:57.813310Z",
     "iopub.status.idle": "2022-07-12T13:16:58.467335Z",
     "shell.execute_reply": "2022-07-12T13:16:58.467017Z",
     "shell.execute_reply.started": "2022-07-12T13:16:57.814251Z"
    },
    "tags": []
   },
   "outputs": [],
   "source": [
    "scag.plot()"
   ]
  },
  {
   "cell_type": "markdown",
   "metadata": {},
   "source": [
    "Note that the tract identifier column is `geoid` which encodes the [11-digit FIPS code](https://www.fcc.gov/general/form-477-census-tract-information)."
   ]
  },
  {
   "cell_type": "markdown",
   "metadata": {},
   "source": [
    "## Reading shapefiles\n",
    "\n",
    "[shapefiles](https://doc.arcgis.com/en/arcgis-online/reference/shapefiles.htm) are a common legacy spatial data format for vector data. \n",
    "Let's explore a second data set that encodes mental health provider locations in Riverside County, California as points in a shapefile:"
   ]
  },
  {
   "cell_type": "markdown",
   "metadata": {},
   "source": [
    "### Reading a point shapefile"
   ]
  },
  {
   "cell_type": "code",
   "execution_count": null,
   "metadata": {
    "execution": {
     "iopub.execute_input": "2022-07-12T13:19:06.223100Z",
     "iopub.status.busy": "2022-07-12T13:19:06.222501Z",
     "iopub.status.idle": "2022-07-12T13:19:06.322502Z",
     "shell.execute_reply": "2022-07-12T13:19:06.321974Z",
     "shell.execute_reply.started": "2022-07-12T13:19:06.223076Z"
    },
    "tags": []
   },
   "outputs": [],
   "source": [
    "clinics_df = gpd.read_file('data/behavioralHealth.shp')\n",
    "clinics_df.columns"
   ]
  },
  {
   "cell_type": "code",
   "execution_count": null,
   "metadata": {
    "execution": {
     "iopub.execute_input": "2022-07-12T13:19:10.116220Z",
     "iopub.status.busy": "2022-07-12T13:19:10.115225Z",
     "iopub.status.idle": "2022-07-12T13:19:10.135954Z",
     "shell.execute_reply": "2022-07-12T13:19:10.135497Z",
     "shell.execute_reply.started": "2022-07-12T13:19:10.116158Z"
    },
    "tags": []
   },
   "outputs": [],
   "source": [
    "clinics_df.head()"
   ]
  },
  {
   "cell_type": "code",
   "execution_count": null,
   "metadata": {
    "execution": {
     "iopub.execute_input": "2022-07-12T13:19:23.862603Z",
     "iopub.status.busy": "2022-07-12T13:19:23.861375Z",
     "iopub.status.idle": "2022-07-12T13:19:23.939846Z",
     "shell.execute_reply": "2022-07-12T13:19:23.939448Z",
     "shell.execute_reply.started": "2022-07-12T13:19:23.862554Z"
    },
    "tags": []
   },
   "outputs": [],
   "source": [
    "clinics_df.plot()"
   ]
  },
  {
   "cell_type": "code",
   "execution_count": null,
   "metadata": {
    "execution": {
     "iopub.execute_input": "2022-07-12T13:19:36.714320Z",
     "iopub.status.busy": "2022-07-12T13:19:36.713565Z",
     "iopub.status.idle": "2022-07-12T13:19:36.735618Z",
     "shell.execute_reply": "2022-07-12T13:19:36.735117Z",
     "shell.execute_reply.started": "2022-07-12T13:19:36.714284Z"
    },
    "tags": []
   },
   "outputs": [],
   "source": [
    "clinics_df.geometry"
   ]
  },
  {
   "cell_type": "code",
   "execution_count": null,
   "metadata": {
    "execution": {
     "iopub.execute_input": "2022-07-12T13:19:53.218701Z",
     "iopub.status.busy": "2022-07-12T13:19:53.217936Z",
     "iopub.status.idle": "2022-07-12T13:19:53.235186Z",
     "shell.execute_reply": "2022-07-12T13:19:53.233319Z",
     "shell.execute_reply.started": "2022-07-12T13:19:53.218663Z"
    },
    "tags": []
   },
   "outputs": [],
   "source": [
    "clinics_df.ADDRESS"
   ]
  },
  {
   "cell_type": "code",
   "execution_count": null,
   "metadata": {
    "execution": {
     "iopub.execute_input": "2022-07-12T13:20:26.043385Z",
     "iopub.status.busy": "2022-07-12T13:20:26.042970Z",
     "iopub.status.idle": "2022-07-12T13:20:26.051824Z",
     "shell.execute_reply": "2022-07-12T13:20:26.051098Z",
     "shell.execute_reply.started": "2022-07-12T13:20:26.043358Z"
    },
    "tags": []
   },
   "outputs": [],
   "source": [
    "len(clinics_df.ADDRESS.unique()) # note some clinics have the same address (different types of services provided at same location)"
   ]
  },
  {
   "cell_type": "markdown",
   "metadata": {},
   "source": [
    "## Integrating spatial datasets\n",
    "Let's assume the role of a public health epidemiologist who is interested in equity issues surrounding access to mental health services. We have two datasets to work with here:\n",
    "\n",
    "- the clinics (points in Riverside County)\n",
    "- the tracts for all of Southern California\n",
    "\n",
    "We will thus want to narrow down the focus to Riverside county. So first, we need to extract the tracts for the county from the larger region:\n"
   ]
  },
  {
   "cell_type": "markdown",
   "metadata": {},
   "source": [
    "## Extracting Riverside County Tracts"
   ]
  },
  {
   "cell_type": "code",
   "execution_count": null,
   "metadata": {
    "execution": {
     "iopub.execute_input": "2022-07-12T13:21:43.824817Z",
     "iopub.status.busy": "2022-07-12T13:21:43.823884Z",
     "iopub.status.idle": "2022-07-12T13:21:43.976409Z",
     "shell.execute_reply": "2022-07-12T13:21:43.975860Z",
     "shell.execute_reply.started": "2022-07-12T13:21:43.824785Z"
    },
    "tags": []
   },
   "outputs": [],
   "source": [
    "rc = scag[scag['geoid'].str.match(\"^06065\")]\n",
    "\n",
    "rc.plot()"
   ]
  },
  {
   "cell_type": "markdown",
   "metadata": {},
   "source": [
    "## Spatial Joins\n",
    "\n",
    "With the two datasets in hand, we would like to know the answer to the following question:\n",
    "\n",
    "> How many clinics are in each census tract in Riverside County?\n",
    "\n",
    "To get at this answer will can use a [spatial join](https://gisgeography.com/spatial-join/). \n",
    "The idea here is to create a linkage between each clinic (point) and the tract (polygon) that the clinic lies within.\n",
    "\n",
    "The answer to our question will be the number of matches found for each census tract.\n",
    "\n",
    "In geopandas the spatial join is done with the `sjoin` method of the GeoDataFrame:\n"
   ]
  },
  {
   "cell_type": "code",
   "execution_count": null,
   "metadata": {
    "execution": {
     "iopub.execute_input": "2022-07-12T13:22:31.903692Z",
     "iopub.status.busy": "2022-07-12T13:22:31.902843Z",
     "iopub.status.idle": "2022-07-12T13:22:31.916154Z",
     "shell.execute_reply": "2022-07-12T13:22:31.915046Z",
     "shell.execute_reply.started": "2022-07-12T13:22:31.903647Z"
    }
   },
   "outputs": [],
   "source": [
    "rc.shape"
   ]
  },
  {
   "cell_type": "code",
   "execution_count": null,
   "metadata": {
    "execution": {
     "iopub.execute_input": "2022-07-12T13:23:00.496575Z",
     "iopub.status.busy": "2022-07-12T13:23:00.496147Z",
     "iopub.status.idle": "2022-07-12T13:23:00.519085Z",
     "shell.execute_reply": "2022-07-12T13:23:00.518659Z",
     "shell.execute_reply.started": "2022-07-12T13:23:00.496551Z"
    },
    "tags": []
   },
   "outputs": [],
   "source": [
    "clinics_tracts = gpd.sjoin(clinics_df, rc, predicate='within')"
   ]
  },
  {
   "cell_type": "markdown",
   "metadata": {},
   "source": [
    "We see a warning here, that alerts us to a mismatch between the CRS: [Coordinate Reference Systems](https://www.w3.org/2015/spatial/wiki/Coordinate_Reference_Systems) of the two GeoDataFrames. We can inspect these to see what is going on:"
   ]
  },
  {
   "cell_type": "code",
   "execution_count": null,
   "metadata": {
    "execution": {
     "iopub.execute_input": "2022-07-12T13:23:57.909144Z",
     "iopub.status.busy": "2022-07-12T13:23:57.908700Z",
     "iopub.status.idle": "2022-07-12T13:23:57.921626Z",
     "shell.execute_reply": "2022-07-12T13:23:57.920666Z",
     "shell.execute_reply.started": "2022-07-12T13:23:57.909118Z"
    },
    "tags": []
   },
   "outputs": [],
   "source": [
    "clinics_df.crs"
   ]
  },
  {
   "cell_type": "code",
   "execution_count": null,
   "metadata": {
    "execution": {
     "iopub.execute_input": "2022-06-17T22:18:52.146196Z",
     "iopub.status.busy": "2022-06-17T22:18:52.146105Z",
     "iopub.status.idle": "2022-06-17T22:18:52.150149Z",
     "shell.execute_reply": "2022-06-17T22:18:52.149424Z",
     "shell.execute_reply.started": "2022-06-17T22:18:52.146187Z"
    }
   },
   "outputs": [],
   "source": [
    "rc.crs"
   ]
  },
  {
   "cell_type": "markdown",
   "metadata": {},
   "source": [
    "So the clinics have a unit of feet, while the tracts are in degrees. The spatial join will be incorrect because of this since the observations from the two dataframes are in different coordinate systems:"
   ]
  },
  {
   "cell_type": "code",
   "execution_count": null,
   "metadata": {
    "execution": {
     "iopub.execute_input": "2022-07-12T13:24:52.628909Z",
     "iopub.status.busy": "2022-07-12T13:24:52.627748Z",
     "iopub.status.idle": "2022-07-12T13:24:52.649408Z",
     "shell.execute_reply": "2022-07-12T13:24:52.648891Z",
     "shell.execute_reply.started": "2022-07-12T13:24:52.628851Z"
    },
    "tags": []
   },
   "outputs": [],
   "source": [
    "clinics_tracts"
   ]
  },
  {
   "cell_type": "markdown",
   "metadata": {},
   "source": [
    "To rectify this, we need to have both GeoDataFrames in the same CRS. Let's change the CRS of the tracts GeoDataFrame which is currently:\n"
   ]
  },
  {
   "cell_type": "code",
   "execution_count": null,
   "metadata": {
    "execution": {
     "iopub.execute_input": "2022-07-12T13:25:07.097052Z",
     "iopub.status.busy": "2022-07-12T13:25:07.095233Z",
     "iopub.status.idle": "2022-07-12T13:25:07.231754Z",
     "shell.execute_reply": "2022-07-12T13:25:07.231307Z",
     "shell.execute_reply.started": "2022-07-12T13:25:07.097002Z"
    },
    "tags": []
   },
   "outputs": [],
   "source": [
    "rc.plot()"
   ]
  },
  {
   "cell_type": "markdown",
   "metadata": {},
   "source": [
    "To change this, we notice the helpful suggestion in the warning above to use the `to_crs` method. Let's try it to see how this works:"
   ]
  },
  {
   "cell_type": "code",
   "execution_count": null,
   "metadata": {
    "execution": {
     "iopub.execute_input": "2022-07-12T13:25:32.805058Z",
     "iopub.status.busy": "2022-07-12T13:25:32.803893Z",
     "iopub.status.idle": "2022-07-12T13:25:32.961285Z",
     "shell.execute_reply": "2022-07-12T13:25:32.960837Z",
     "shell.execute_reply.started": "2022-07-12T13:25:32.805012Z"
    },
    "tags": []
   },
   "outputs": [],
   "source": [
    "rc.to_crs(clinics_df.crs).plot()"
   ]
  },
  {
   "cell_type": "markdown",
   "metadata": {},
   "source": [
    "Comparison of the two plots shows us that the CRS has been changed. We did not assign the object yet (which is good practice when experimenting). But it does what we need, so lets assign the result to redefine our tracts GeoDataFrame:"
   ]
  },
  {
   "cell_type": "code",
   "execution_count": null,
   "metadata": {
    "execution": {
     "iopub.execute_input": "2022-07-12T13:26:03.432892Z",
     "iopub.status.busy": "2022-07-12T13:26:03.432048Z",
     "iopub.status.idle": "2022-07-12T13:26:03.474116Z",
     "shell.execute_reply": "2022-07-12T13:26:03.473099Z",
     "shell.execute_reply.started": "2022-07-12T13:26:03.432856Z"
    },
    "tags": []
   },
   "outputs": [],
   "source": [
    "rc = rc.to_crs(clinics_df.crs)"
   ]
  },
  {
   "cell_type": "code",
   "execution_count": null,
   "metadata": {
    "execution": {
     "iopub.execute_input": "2022-07-12T13:26:09.241115Z",
     "iopub.status.busy": "2022-07-12T13:26:09.240621Z",
     "iopub.status.idle": "2022-07-12T13:26:09.250538Z",
     "shell.execute_reply": "2022-07-12T13:26:09.249284Z",
     "shell.execute_reply.started": "2022-07-12T13:26:09.241088Z"
    }
   },
   "outputs": [],
   "source": [
    "rc.crs"
   ]
  },
  {
   "cell_type": "code",
   "execution_count": null,
   "metadata": {},
   "outputs": [],
   "source": []
  },
  {
   "cell_type": "code",
   "execution_count": null,
   "metadata": {},
   "outputs": [],
   "source": []
  },
  {
   "cell_type": "code",
   "execution_count": null,
   "metadata": {
    "execution": {
     "iopub.execute_input": "2022-07-12T13:26:21.946027Z",
     "iopub.status.busy": "2022-07-12T13:26:21.945569Z",
     "iopub.status.idle": "2022-07-12T13:26:21.995146Z",
     "shell.execute_reply": "2022-07-12T13:26:21.994633Z",
     "shell.execute_reply.started": "2022-07-12T13:26:21.945998Z"
    },
    "tags": []
   },
   "outputs": [],
   "source": [
    "clinics_tracts = gpd.sjoin(clinics_df, rc, predicate='within')"
   ]
  },
  {
   "cell_type": "code",
   "execution_count": null,
   "metadata": {
    "execution": {
     "iopub.execute_input": "2022-07-12T13:26:51.843126Z",
     "iopub.status.busy": "2022-07-12T13:26:51.842735Z",
     "iopub.status.idle": "2022-07-12T13:26:51.851602Z",
     "shell.execute_reply": "2022-07-12T13:26:51.850768Z",
     "shell.execute_reply.started": "2022-07-12T13:26:51.843102Z"
    },
    "tags": []
   },
   "outputs": [],
   "source": [
    "clinics_tracts.shape"
   ]
  },
  {
   "cell_type": "markdown",
   "metadata": {},
   "source": [
    "Now we see the spatial join has worked. There are 28 matches (one for each clinic) and this is stored in a new GeoDataFrame called: `clinics_tracts`."
   ]
  },
  {
   "cell_type": "markdown",
   "metadata": {},
   "source": [
    "## Determine the number of clinics in each tract\n",
    "\n",
    "Returning to our question, we can find the number of clinics in each of the tracts in this new GeoDataFrame by using the `group_by` method:"
   ]
  },
  {
   "cell_type": "code",
   "execution_count": null,
   "metadata": {
    "execution": {
     "iopub.execute_input": "2022-07-12T13:27:03.771098Z",
     "iopub.status.busy": "2022-07-12T13:27:03.770208Z",
     "iopub.status.idle": "2022-07-12T13:27:03.786921Z",
     "shell.execute_reply": "2022-07-12T13:27:03.784958Z",
     "shell.execute_reply.started": "2022-07-12T13:27:03.771054Z"
    },
    "tags": []
   },
   "outputs": [],
   "source": [
    "clinics_tracts[['geoid', 'index_right']].groupby('geoid').agg('count')"
   ]
  },
  {
   "cell_type": "markdown",
   "metadata": {},
   "source": [
    "This works, so let's create another DataFrame to store these counts:"
   ]
  },
  {
   "cell_type": "code",
   "execution_count": null,
   "metadata": {
    "execution": {
     "iopub.execute_input": "2022-07-12T13:27:43.179659Z",
     "iopub.status.busy": "2022-07-12T13:27:43.178608Z",
     "iopub.status.idle": "2022-07-12T13:27:43.198603Z",
     "shell.execute_reply": "2022-07-12T13:27:43.197932Z",
     "shell.execute_reply.started": "2022-07-12T13:27:43.179629Z"
    },
    "tags": []
   },
   "outputs": [],
   "source": [
    "ct = clinics_tracts[['geoid', 'index_right']].groupby('geoid').agg('count')\n",
    "ct.shape"
   ]
  },
  {
   "cell_type": "markdown",
   "metadata": {},
   "source": [
    "## Table Join\n",
    "\n"
   ]
  },
  {
   "cell_type": "markdown",
   "metadata": {},
   "source": [
    "We now know for the tracts that contain at least one clinic, how many clinics they contain. This implies that the tracts that are not in the `ct` GeoDataFrame do not contain a clinic. What we would like to have is an additional attribute on our `rc` tracts GeoDataFrame that stores the number of clinics in each tract - for all tracts in Riverside County.\n",
    "\n",
    "We can do this in two remaining steps:\n",
    "\n",
    "- a table join on the `geoid` column \n",
    "- setting NA values to 0"
   ]
  },
  {
   "cell_type": "code",
   "execution_count": null,
   "metadata": {
    "execution": {
     "iopub.execute_input": "2022-07-12T13:28:48.356285Z",
     "iopub.status.busy": "2022-07-12T13:28:48.355762Z",
     "iopub.status.idle": "2022-07-12T13:28:48.388654Z",
     "shell.execute_reply": "2022-07-12T13:28:48.388044Z",
     "shell.execute_reply.started": "2022-07-12T13:28:48.356255Z"
    },
    "tags": []
   },
   "outputs": [],
   "source": [
    "rc.merge(ct, on='geoid')"
   ]
  },
  {
   "cell_type": "markdown",
   "metadata": {},
   "source": [
    "Note that this isn't quite what we want as it only matches the 16 tracts containing clinics. We can change the `how` argument to `outer` to include all tracts:"
   ]
  },
  {
   "cell_type": "code",
   "execution_count": null,
   "metadata": {},
   "outputs": [],
   "source": []
  },
  {
   "cell_type": "code",
   "execution_count": null,
   "metadata": {
    "execution": {
     "iopub.execute_input": "2022-07-12T13:29:03.598302Z",
     "iopub.status.busy": "2022-07-12T13:29:03.597763Z",
     "iopub.status.idle": "2022-07-12T13:29:03.637159Z",
     "shell.execute_reply": "2022-07-12T13:29:03.635607Z",
     "shell.execute_reply.started": "2022-07-12T13:29:03.598274Z"
    },
    "tags": []
   },
   "outputs": [],
   "source": [
    "rc.merge(ct, on='geoid', how='outer')"
   ]
  },
  {
   "cell_type": "markdown",
   "metadata": {},
   "source": [
    "Ok now we have all the tracts covered. But if you scroll to the right we will see `NaN` values for the tracts that do not contain a clinic. What remains is to replace the "
   ]
  },
  {
   "cell_type": "code",
   "execution_count": null,
   "metadata": {
    "execution": {
     "iopub.execute_input": "2022-07-12T13:29:40.979015Z",
     "iopub.status.busy": "2022-07-12T13:29:40.978577Z",
     "iopub.status.idle": "2022-07-12T13:29:41.017851Z",
     "shell.execute_reply": "2022-07-12T13:29:41.017257Z",
     "shell.execute_reply.started": "2022-07-12T13:29:40.978991Z"
    },
    "tags": []
   },
   "outputs": [],
   "source": [
    "rc.merge(ct, on='geoid', how='outer').fillna(0)"
   ]
  },
  {
   "cell_type": "markdown",
   "metadata": {},
   "source": [
    "Great. Now we save our work and rename the column holding the clinic count:"
   ]
  },
  {
   "cell_type": "code",
   "execution_count": null,
   "metadata": {
    "execution": {
     "iopub.execute_input": "2022-07-12T13:30:00.843481Z",
     "iopub.status.busy": "2022-07-12T13:30:00.838677Z",
     "iopub.status.idle": "2022-07-12T13:30:00.861210Z",
     "shell.execute_reply": "2022-07-12T13:30:00.860538Z",
     "shell.execute_reply.started": "2022-07-12T13:30:00.843438Z"
    },
    "tags": []
   },
   "outputs": [],
   "source": [
    "rc = rc.merge(ct, on='geoid', how='outer').fillna(0)"
   ]
  },
  {
   "cell_type": "code",
   "execution_count": null,
   "metadata": {
    "execution": {
     "iopub.execute_input": "2022-07-12T13:30:09.542734Z",
     "iopub.status.busy": "2022-07-12T13:30:09.542048Z",
     "iopub.status.idle": "2022-07-12T13:30:09.558614Z",
     "shell.execute_reply": "2022-07-12T13:30:09.557881Z",
     "shell.execute_reply.started": "2022-07-12T13:30:09.542695Z"
    },
    "tags": []
   },
   "outputs": [],
   "source": [
    "rc['index_right'].sum()"
   ]
  },
  {
   "cell_type": "code",
   "execution_count": null,
   "metadata": {
    "execution": {
     "iopub.execute_input": "2022-07-12T13:30:36.313236Z",
     "iopub.status.busy": "2022-07-12T13:30:36.312512Z",
     "iopub.status.idle": "2022-07-12T13:30:36.325835Z",
     "shell.execute_reply": "2022-07-12T13:30:36.324824Z",
     "shell.execute_reply.started": "2022-07-12T13:30:36.313202Z"
    },
    "tags": []
   },
   "outputs": [],
   "source": [
    "rc.rename(columns={'index_right': 'clinics_count'}, inplace=True)"
   ]
  },
  {
   "cell_type": "code",
   "execution_count": null,
   "metadata": {
    "execution": {
     "iopub.execute_input": "2022-07-12T13:30:42.505218Z",
     "iopub.status.busy": "2022-07-12T13:30:42.504459Z",
     "iopub.status.idle": "2022-07-12T13:30:42.516937Z",
     "shell.execute_reply": "2022-07-12T13:30:42.515910Z",
     "shell.execute_reply.started": "2022-07-12T13:30:42.505184Z"
    },
    "tags": []
   },
   "outputs": [],
   "source": [
    "rc.clinics_count.sum()"
   ]
  },
  {
   "cell_type": "code",
   "execution_count": null,
   "metadata": {
    "execution": {
     "iopub.execute_input": "2022-07-12T13:30:45.386073Z",
     "iopub.status.busy": "2022-07-12T13:30:45.384908Z",
     "iopub.status.idle": "2022-07-12T13:30:45.397820Z",
     "shell.execute_reply": "2022-07-12T13:30:45.396825Z",
     "shell.execute_reply.started": "2022-07-12T13:30:45.386008Z"
    },
    "tags": []
   },
   "outputs": [],
   "source": [
    "type(rc)"
   ]
  },
  {
   "cell_type": "code",
   "execution_count": null,
   "metadata": {
    "execution": {
     "iopub.execute_input": "2022-07-12T13:31:03.102690Z",
     "iopub.status.busy": "2022-07-12T13:31:03.101896Z",
     "iopub.status.idle": "2022-07-12T13:31:03.228081Z",
     "shell.execute_reply": "2022-07-12T13:31:03.227775Z",
     "shell.execute_reply.started": "2022-07-12T13:31:03.102651Z"
    },
    "tags": []
   },
   "outputs": [],
   "source": [
    "rc.plot('clinics_count')"
   ]
  },
  {
   "cell_type": "code",
   "execution_count": null,
   "metadata": {},
   "outputs": [],
   "source": []
  },
  {
   "cell_type": "markdown",
   "metadata": {},
   "source": [
    "<div class=\"alert alert-success\" style=\"font-size:120%\">\n",
    "<b>Exercise</b>: <br>\n",
    "Create a shapefile for each of the counties in the Southern California dataframe, and write to <code>data/FIPSCODE.shp</code>. Where <code>FIPSCODE</code> is the 5-digit\n",
    "<a href=\"https://www.nrcs.usda.gov/wps/portal/nrcs/detail/ca/home/?cid=nrcs143_013697\">FIPS Code for the county</a>.\n",
    "</div>"
   ]
  },
  {
   "cell_type": "code",
   "execution_count": null,
   "metadata": {
    "execution": {
     "iopub.execute_input": "2022-07-12T13:37:43.925024Z",
     "iopub.status.busy": "2022-07-12T13:37:43.924570Z",
     "iopub.status.idle": "2022-07-12T13:38:12.707744Z",
     "shell.execute_reply": "2022-07-12T13:38:12.707263Z",
     "shell.execute_reply.started": "2022-07-12T13:37:43.924996Z"
    },
    "tags": []
   },
   "outputs": [],
   "source": [
    "# %load solutions/00.py\n",
    "\"\"\"\n",
    "Solution for nb 00\n",
    "\"\"\"\n",
    "scag['county'] = scag.geoid.str[:5]     # add a column with the derived fips codes for a tract's county\n",
    "counties = scag.county.unique()         # get the unique county codes\n",
    "for county in counties:                 # loop over the counties and create the shapefiles\n",
    "    gdf = scag[scag.county==county]\n",
    "    gdf.to_file(f'data/{county}.shp')"
   ]
  },
  {
   "cell_type": "markdown",
   "metadata": {},
   "source": [
    "---\n",
    "\n",
    "<a rel=\"license\" href=\"http://creativecommons.org/licenses/by-nc-\n",
    "sa/4.0/\"><img alt=\"Creative Commons License\" style=\"border-width:0\"\n",
    "src=\"https://i.creativecommons.org/l/by-nc-sa/4.0/88x31.png\" /></a><br /><span\n",
    "xmlns:dct=\"http://purl.org/dc/terms/\" property=\"dct:title\">Geoprocessing</span> by <a xmlns:cc=\"http://creativecommons.org/ns#\"\n",
    "href=\"http://sergerey.org\" property=\"cc:attributionName\"\n",
    "rel=\"cc:attributionURL\">Serge Rey</a> is licensed under a <a\n",
    "rel=\"license\" href=\"http://creativecommons.org/licenses/by-nc-sa/4.0/\">Creative\n",
    "Commons Attribution-NonCommercial-ShareAlike 4.0 International License</a>."
   ]
  }
 ],
 "metadata": {
  "kernelspec": {
   "display_name": "Python [conda env:pysal-workshop]",
   "language": "python",
   "name": "conda-env-pysal-workshop-py"
  },
  "language_info": {
   "codemirror_mode": {
    "name": "ipython",
    "version": 3
   },
   "file_extension": ".py",
   "mimetype": "text/x-python",
   "name": "python",
   "nbconvert_exporter": "python",
   "pygments_lexer": "ipython3",
   "version": "3.9.13"
  },
  "widgets": {
   "application/vnd.jupyter.widget-state+json": {
    "state": {},
    "version_major": 2,
    "version_minor": 0
   }
  }
 },
 "nbformat": 4,
 "nbformat_minor": 4
}
